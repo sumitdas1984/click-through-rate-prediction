{
 "cells": [
  {
   "cell_type": "markdown",
   "metadata": {},
   "source": [
    "# Click-Through Rate Prediction"
   ]
  },
  {
   "cell_type": "code",
   "execution_count": 79,
   "metadata": {},
   "outputs": [],
   "source": [
    "import numpy as np\n",
    "import pandas as pd\n",
    "import random\n",
    "import gzip\n",
    "import seaborn as sns\n",
    "import matplotlib.pyplot as plt\n",
    "import lightgbm as lgb\n",
    "from operator import itemgetter\n",
    "from sklearn.model_selection import train_test_split\n",
    "import xgboost as xgb\n",
    "from sklearn.metrics import roc_auc_score"
   ]
  },
  {
   "cell_type": "code",
   "execution_count": 2,
   "metadata": {},
   "outputs": [],
   "source": [
    "n = 40428967  #total number of records in the clickstream data \n",
    "sample_size = 1000000\n",
    "skip_values = sorted(random.sample(range(1,n), n-sample_size)) "
   ]
  },
  {
   "cell_type": "code",
   "execution_count": 3,
   "metadata": {},
   "outputs": [],
   "source": [
    "types_train = {\n",
    "    'id': np.dtype(int),\n",
    "    'click': np.dtype(int),\n",
    "    'hour': np.dtype(int),\n",
    "    'C1': np.dtype(int),\n",
    "    'banner_pos': np.dtype(int),\n",
    "    'site_id': np.dtype(str),\n",
    "    'site_domain': np.dtype(str), \n",
    "    'site_category': np.dtype(str),\n",
    "    'app_id': np.dtype(str),\n",
    "    'app_domain': np.dtype(str),\n",
    "    'app_category': np.dtype(str),\n",
    "    'device_id': np.dtype(str),\n",
    "    'device_ip': np.dtype(str),\n",
    "    'device_model': np.dtype(str),\n",
    "    'device_type': np.dtype(int),\n",
    "    'device_conn_type': np.dtype(int),\n",
    "    'C14': np.dtype(int),\n",
    "    'C15': np.dtype(int),\n",
    "    'C16': np.dtype(int),\n",
    "    'C17': np.dtype(int),\n",
    "    'C18': np.dtype(int),\n",
    "    'C19': np.dtype(int),\n",
    "    'C20': np.dtype(int),\n",
    "    'C21':np.dtype(int)\n",
    "}\n",
    "\n",
    "types_test = {\n",
    "    'id': np.dtype(int),\n",
    "    'hour': np.dtype(int),\n",
    "    'C1': np.dtype(int),\n",
    "    'banner_pos': np.dtype(int),\n",
    "    'site_id': np.dtype(str),\n",
    "    'site_domain': np.dtype(str), \n",
    "    'site_category': np.dtype(str),\n",
    "    'app_id': np.dtype(str),\n",
    "    'app_domain': np.dtype(str),\n",
    "    'app_category': np.dtype(str),\n",
    "    'device_id': np.dtype(str),\n",
    "    'device_ip': np.dtype(str),\n",
    "    'device_model': np.dtype(str),\n",
    "    'device_type': np.dtype(int),\n",
    "    'device_conn_type': np.dtype(int),\n",
    "    'C14': np.dtype(int),\n",
    "    'C15': np.dtype(int),\n",
    "    'C16': np.dtype(int),\n",
    "    'C17': np.dtype(int),\n",
    "    'C18': np.dtype(int),\n",
    "    'C19': np.dtype(int),\n",
    "    'C20': np.dtype(int),\n",
    "    'C21':np.dtype(int)\n",
    "}"
   ]
  },
  {
   "cell_type": "code",
   "execution_count": 5,
   "metadata": {},
   "outputs": [
    {
     "data": {
      "text/html": [
       "<div>\n",
       "<style scoped>\n",
       "    .dataframe tbody tr th:only-of-type {\n",
       "        vertical-align: middle;\n",
       "    }\n",
       "\n",
       "    .dataframe tbody tr th {\n",
       "        vertical-align: top;\n",
       "    }\n",
       "\n",
       "    .dataframe thead th {\n",
       "        text-align: right;\n",
       "    }\n",
       "</style>\n",
       "<table border=\"1\" class=\"dataframe\">\n",
       "  <thead>\n",
       "    <tr style=\"text-align: right;\">\n",
       "      <th></th>\n",
       "      <th>id</th>\n",
       "      <th>click</th>\n",
       "      <th>hour</th>\n",
       "      <th>C1</th>\n",
       "      <th>banner_pos</th>\n",
       "      <th>site_id</th>\n",
       "      <th>site_domain</th>\n",
       "      <th>site_category</th>\n",
       "      <th>app_id</th>\n",
       "      <th>app_domain</th>\n",
       "      <th>...</th>\n",
       "      <th>device_type</th>\n",
       "      <th>device_conn_type</th>\n",
       "      <th>C14</th>\n",
       "      <th>C15</th>\n",
       "      <th>C16</th>\n",
       "      <th>C17</th>\n",
       "      <th>C18</th>\n",
       "      <th>C19</th>\n",
       "      <th>C20</th>\n",
       "      <th>C21</th>\n",
       "    </tr>\n",
       "  </thead>\n",
       "  <tbody>\n",
       "    <tr>\n",
       "      <th>0</th>\n",
       "      <td>-172049060</td>\n",
       "      <td>1</td>\n",
       "      <td>2014-10-21</td>\n",
       "      <td>1005</td>\n",
       "      <td>0</td>\n",
       "      <td>1fbe01fe</td>\n",
       "      <td>f3845767</td>\n",
       "      <td>28905ebd</td>\n",
       "      <td>ecad2386</td>\n",
       "      <td>7801e8d9</td>\n",
       "      <td>...</td>\n",
       "      <td>1</td>\n",
       "      <td>2</td>\n",
       "      <td>15707</td>\n",
       "      <td>320</td>\n",
       "      <td>50</td>\n",
       "      <td>1722</td>\n",
       "      <td>0</td>\n",
       "      <td>35</td>\n",
       "      <td>-1</td>\n",
       "      <td>79</td>\n",
       "    </tr>\n",
       "    <tr>\n",
       "      <th>1</th>\n",
       "      <td>701479546</td>\n",
       "      <td>0</td>\n",
       "      <td>2014-10-21</td>\n",
       "      <td>1005</td>\n",
       "      <td>1</td>\n",
       "      <td>5b4d2eda</td>\n",
       "      <td>16a36ef3</td>\n",
       "      <td>f028772b</td>\n",
       "      <td>ecad2386</td>\n",
       "      <td>7801e8d9</td>\n",
       "      <td>...</td>\n",
       "      <td>1</td>\n",
       "      <td>0</td>\n",
       "      <td>20362</td>\n",
       "      <td>320</td>\n",
       "      <td>50</td>\n",
       "      <td>2333</td>\n",
       "      <td>0</td>\n",
       "      <td>39</td>\n",
       "      <td>100076</td>\n",
       "      <td>157</td>\n",
       "    </tr>\n",
       "    <tr>\n",
       "      <th>2</th>\n",
       "      <td>1192804959</td>\n",
       "      <td>0</td>\n",
       "      <td>2014-10-21</td>\n",
       "      <td>1005</td>\n",
       "      <td>0</td>\n",
       "      <td>543a539e</td>\n",
       "      <td>c7ca3108</td>\n",
       "      <td>3e814130</td>\n",
       "      <td>ecad2386</td>\n",
       "      <td>7801e8d9</td>\n",
       "      <td>...</td>\n",
       "      <td>1</td>\n",
       "      <td>0</td>\n",
       "      <td>20362</td>\n",
       "      <td>320</td>\n",
       "      <td>50</td>\n",
       "      <td>2333</td>\n",
       "      <td>0</td>\n",
       "      <td>39</td>\n",
       "      <td>-1</td>\n",
       "      <td>157</td>\n",
       "    </tr>\n",
       "    <tr>\n",
       "      <th>3</th>\n",
       "      <td>-1476422109</td>\n",
       "      <td>0</td>\n",
       "      <td>2014-10-21</td>\n",
       "      <td>1005</td>\n",
       "      <td>0</td>\n",
       "      <td>1fbe01fe</td>\n",
       "      <td>f3845767</td>\n",
       "      <td>28905ebd</td>\n",
       "      <td>ecad2386</td>\n",
       "      <td>7801e8d9</td>\n",
       "      <td>...</td>\n",
       "      <td>1</td>\n",
       "      <td>2</td>\n",
       "      <td>15708</td>\n",
       "      <td>320</td>\n",
       "      <td>50</td>\n",
       "      <td>1722</td>\n",
       "      <td>0</td>\n",
       "      <td>35</td>\n",
       "      <td>-1</td>\n",
       "      <td>79</td>\n",
       "    </tr>\n",
       "    <tr>\n",
       "      <th>4</th>\n",
       "      <td>650537409</td>\n",
       "      <td>0</td>\n",
       "      <td>2014-10-21</td>\n",
       "      <td>1005</td>\n",
       "      <td>0</td>\n",
       "      <td>1fbe01fe</td>\n",
       "      <td>f3845767</td>\n",
       "      <td>28905ebd</td>\n",
       "      <td>ecad2386</td>\n",
       "      <td>7801e8d9</td>\n",
       "      <td>...</td>\n",
       "      <td>1</td>\n",
       "      <td>0</td>\n",
       "      <td>15702</td>\n",
       "      <td>320</td>\n",
       "      <td>50</td>\n",
       "      <td>1722</td>\n",
       "      <td>0</td>\n",
       "      <td>35</td>\n",
       "      <td>-1</td>\n",
       "      <td>79</td>\n",
       "    </tr>\n",
       "  </tbody>\n",
       "</table>\n",
       "<p>5 rows × 24 columns</p>\n",
       "</div>"
      ],
      "text/plain": [
       "           id  click       hour    C1  banner_pos   site_id site_domain  \\\n",
       "0  -172049060      1 2014-10-21  1005           0  1fbe01fe    f3845767   \n",
       "1   701479546      0 2014-10-21  1005           1  5b4d2eda    16a36ef3   \n",
       "2  1192804959      0 2014-10-21  1005           0  543a539e    c7ca3108   \n",
       "3 -1476422109      0 2014-10-21  1005           0  1fbe01fe    f3845767   \n",
       "4   650537409      0 2014-10-21  1005           0  1fbe01fe    f3845767   \n",
       "\n",
       "  site_category    app_id app_domain ...  device_type device_conn_type    C14  \\\n",
       "0      28905ebd  ecad2386   7801e8d9 ...            1                2  15707   \n",
       "1      f028772b  ecad2386   7801e8d9 ...            1                0  20362   \n",
       "2      3e814130  ecad2386   7801e8d9 ...            1                0  20362   \n",
       "3      28905ebd  ecad2386   7801e8d9 ...            1                2  15708   \n",
       "4      28905ebd  ecad2386   7801e8d9 ...            1                0  15702   \n",
       "\n",
       "   C15  C16   C17  C18  C19     C20  C21  \n",
       "0  320   50  1722    0   35      -1   79  \n",
       "1  320   50  2333    0   39  100076  157  \n",
       "2  320   50  2333    0   39      -1  157  \n",
       "3  320   50  1722    0   35      -1   79  \n",
       "4  320   50  1722    0   35      -1   79  \n",
       "\n",
       "[5 rows x 24 columns]"
      ]
     },
     "execution_count": 5,
     "metadata": {},
     "output_type": "execute_result"
    }
   ],
   "source": [
    "parse_date = lambda val : pd.datetime.strptime(val, '%y%m%d%H')\n",
    "\n",
    "with gzip.open('data/train.gz') as f:\n",
    "    train = pd.read_csv(f, parse_dates = ['hour'], date_parser = parse_date, dtype=types_train, skiprows = skip_values)\n",
    "\n",
    "train.head()"
   ]
  },
  {
   "cell_type": "code",
   "execution_count": 6,
   "metadata": {},
   "outputs": [
    {
     "data": {
      "text/plain": [
       "(1000000, 24)"
      ]
     },
     "execution_count": 6,
     "metadata": {},
     "output_type": "execute_result"
    }
   ],
   "source": [
    "train.shape"
   ]
  },
  {
   "cell_type": "code",
   "execution_count": 7,
   "metadata": {},
   "outputs": [
    {
     "data": {
      "text/plain": [
       "id                           int32\n",
       "click                        int32\n",
       "hour                datetime64[ns]\n",
       "C1                           int32\n",
       "banner_pos                   int32\n",
       "site_id                     object\n",
       "site_domain                 object\n",
       "site_category               object\n",
       "app_id                      object\n",
       "app_domain                  object\n",
       "app_category                object\n",
       "device_id                   object\n",
       "device_ip                   object\n",
       "device_model                object\n",
       "device_type                  int32\n",
       "device_conn_type             int32\n",
       "C14                          int32\n",
       "C15                          int32\n",
       "C16                          int32\n",
       "C17                          int32\n",
       "C18                          int32\n",
       "C19                          int32\n",
       "C20                          int32\n",
       "C21                          int32\n",
       "dtype: object"
      ]
     },
     "execution_count": 7,
     "metadata": {},
     "output_type": "execute_result"
    }
   ],
   "source": [
    "train.dtypes"
   ]
  },
  {
   "cell_type": "markdown",
   "metadata": {},
   "source": [
    "Target feature -> click\n",
    "\n",
    "site features -> site_id, site_domain, site_category\n",
    "\n",
    "app feature -> app_id, app_domain, app_category\n",
    "\n",
    "device feature -> device_id, device_ip, device_model, device_type, device_conn_type\n",
    "\n",
    "anonymized categorical features -> C14-C21"
   ]
  },
  {
   "cell_type": "code",
   "execution_count": 8,
   "metadata": {},
   "outputs": [
    {
     "data": {
      "text/plain": [
       "0    830365\n",
       "1    169635\n",
       "Name: click, dtype: int64"
      ]
     },
     "execution_count": 8,
     "metadata": {},
     "output_type": "execute_result"
    }
   ],
   "source": [
    "train['click'].value_counts()"
   ]
  },
  {
   "cell_type": "code",
   "execution_count": 10,
   "metadata": {},
   "outputs": [
    {
     "data": {
      "image/png": "[encoded data removed]",
      "text/plain": [
       "<Figure size 432x288 with 1 Axes>"
      ]
     },
     "metadata": {
      "needs_background": "light"
     },
     "output_type": "display_data"
    }
   ],
   "source": [
    "sns.countplot(x='click',data=train, palette='hls')\n",
    "plt.show();"
   ]
  },
  {
   "cell_type": "code",
   "execution_count": 11,
   "metadata": {},
   "outputs": [
    {
     "data": {
      "text/plain": [
       "0    0.830365\n",
       "1    0.169635\n",
       "Name: click, dtype: float64"
      ]
     },
     "execution_count": 11,
     "metadata": {},
     "output_type": "execute_result"
    }
   ],
   "source": [
    "train['click'].value_counts()/len(train)"
   ]
  },
  {
   "cell_type": "markdown",
   "metadata": {},
   "source": [
    "Click through rate is approx. 17%, and approx. 83% is not clicked. "
   ]
  },
  {
   "cell_type": "code",
   "execution_count": 12,
   "metadata": {},
   "outputs": [
    {
     "data": {
      "text/plain": [
       "count                 1000000\n",
       "unique                    240\n",
       "top       2014-10-22 09:00:00\n",
       "freq                    11120\n",
       "first     2014-10-21 00:00:00\n",
       "last      2014-10-30 23:00:00\n",
       "Name: hour, dtype: object"
      ]
     },
     "execution_count": 12,
     "metadata": {},
     "output_type": "execute_result"
    }
   ],
   "source": [
    "train.hour.describe()"
   ]
  },
  {
   "cell_type": "markdown",
   "metadata": {},
   "source": [
    "The data covers 10 days of click streams data from 2014-10-21 to 2014-10-30, that is 240 hours."
   ]
  },
  {
   "cell_type": "code",
   "execution_count": 13,
   "metadata": {},
   "outputs": [
    {
     "data": {
      "image/png": "[encoded data removed]",
      "text/plain": [
       "<Figure size 864x432 with 1 Axes>"
      ]
     },
     "metadata": {
      "needs_background": "light"
     },
     "output_type": "display_data"
    }
   ],
   "source": [
    "train.groupby('hour').agg({'click':'sum'}).plot(figsize=(12,6))\n",
    "plt.ylabel('Number of clicks')\n",
    "plt.title('Number of clicks by hour');"
   ]
  },
  {
   "cell_type": "markdown",
   "metadata": {},
   "source": [
    "The hourly clicks pattern looks pretty similar every day. However, there were a couple of peak hours, one is sometime in the mid of the day on Oct 22, and another is sometime in the mid of the day on Oct 28. And one off-peak hour is close to mid-night on Oct 24."
   ]
  },
  {
   "cell_type": "markdown",
   "metadata": {},
   "source": [
    "###  Feature engineering for date time features\n",
    "\n",
    "#### Hour\n",
    "\n",
    "Extract hour from date time feature."
   ]
  },
  {
   "cell_type": "code",
   "execution_count": 14,
   "metadata": {},
   "outputs": [
    {
     "data": {
      "image/png": "[encoded data removed]",
      "text/plain": [
       "<Figure size 864x432 with 1 Axes>"
      ]
     },
     "metadata": {
      "needs_background": "light"
     },
     "output_type": "display_data"
    }
   ],
   "source": [
    "train['hour_of_day'] = train.hour.apply(lambda x: x.hour)\n",
    "train.groupby('hour_of_day').agg({'click':'sum'}).plot(figsize=(12,6))\n",
    "plt.ylabel('Number of clicks')\n",
    "plt.title('click trends by hour of day');"
   ]
  },
  {
   "cell_type": "markdown",
   "metadata": {},
   "source": [
    "In general, the highest number of clicks is at hour 13 and 14 (1pm and 2pm), and the least number of clicks is at hour 0 (mid-night). It seems a useful feature for roughly estimation."
   ]
  },
  {
   "cell_type": "code",
   "execution_count": 15,
   "metadata": {},
   "outputs": [
    {
     "data": {
      "text/html": [
       "<div>\n",
       "<style scoped>\n",
       "    .dataframe tbody tr th:only-of-type {\n",
       "        vertical-align: middle;\n",
       "    }\n",
       "\n",
       "    .dataframe tbody tr th {\n",
       "        vertical-align: top;\n",
       "    }\n",
       "\n",
       "    .dataframe thead th {\n",
       "        text-align: right;\n",
       "    }\n",
       "</style>\n",
       "<table border=\"1\" class=\"dataframe\">\n",
       "  <thead>\n",
       "    <tr style=\"text-align: right;\">\n",
       "      <th></th>\n",
       "      <th>id</th>\n",
       "      <th>click</th>\n",
       "      <th>hour</th>\n",
       "      <th>C1</th>\n",
       "      <th>banner_pos</th>\n",
       "      <th>site_id</th>\n",
       "      <th>site_domain</th>\n",
       "      <th>site_category</th>\n",
       "      <th>app_id</th>\n",
       "      <th>app_domain</th>\n",
       "      <th>...</th>\n",
       "      <th>device_conn_type</th>\n",
       "      <th>C14</th>\n",
       "      <th>C15</th>\n",
       "      <th>C16</th>\n",
       "      <th>C17</th>\n",
       "      <th>C18</th>\n",
       "      <th>C19</th>\n",
       "      <th>C20</th>\n",
       "      <th>C21</th>\n",
       "      <th>hour_of_day</th>\n",
       "    </tr>\n",
       "  </thead>\n",
       "  <tbody>\n",
       "    <tr>\n",
       "      <th>0</th>\n",
       "      <td>-172049060</td>\n",
       "      <td>1</td>\n",
       "      <td>2014-10-21</td>\n",
       "      <td>1005</td>\n",
       "      <td>0</td>\n",
       "      <td>1fbe01fe</td>\n",
       "      <td>f3845767</td>\n",
       "      <td>28905ebd</td>\n",
       "      <td>ecad2386</td>\n",
       "      <td>7801e8d9</td>\n",
       "      <td>...</td>\n",
       "      <td>2</td>\n",
       "      <td>15707</td>\n",
       "      <td>320</td>\n",
       "      <td>50</td>\n",
       "      <td>1722</td>\n",
       "      <td>0</td>\n",
       "      <td>35</td>\n",
       "      <td>-1</td>\n",
       "      <td>79</td>\n",
       "      <td>0</td>\n",
       "    </tr>\n",
       "    <tr>\n",
       "      <th>1</th>\n",
       "      <td>701479546</td>\n",
       "      <td>0</td>\n",
       "      <td>2014-10-21</td>\n",
       "      <td>1005</td>\n",
       "      <td>1</td>\n",
       "      <td>5b4d2eda</td>\n",
       "      <td>16a36ef3</td>\n",
       "      <td>f028772b</td>\n",
       "      <td>ecad2386</td>\n",
       "      <td>7801e8d9</td>\n",
       "      <td>...</td>\n",
       "      <td>0</td>\n",
       "      <td>20362</td>\n",
       "      <td>320</td>\n",
       "      <td>50</td>\n",
       "      <td>2333</td>\n",
       "      <td>0</td>\n",
       "      <td>39</td>\n",
       "      <td>100076</td>\n",
       "      <td>157</td>\n",
       "      <td>0</td>\n",
       "    </tr>\n",
       "    <tr>\n",
       "      <th>2</th>\n",
       "      <td>1192804959</td>\n",
       "      <td>0</td>\n",
       "      <td>2014-10-21</td>\n",
       "      <td>1005</td>\n",
       "      <td>0</td>\n",
       "      <td>543a539e</td>\n",
       "      <td>c7ca3108</td>\n",
       "      <td>3e814130</td>\n",
       "      <td>ecad2386</td>\n",
       "      <td>7801e8d9</td>\n",
       "      <td>...</td>\n",
       "      <td>0</td>\n",
       "      <td>20362</td>\n",
       "      <td>320</td>\n",
       "      <td>50</td>\n",
       "      <td>2333</td>\n",
       "      <td>0</td>\n",
       "      <td>39</td>\n",
       "      <td>-1</td>\n",
       "      <td>157</td>\n",
       "      <td>0</td>\n",
       "    </tr>\n",
       "  </tbody>\n",
       "</table>\n",
       "<p>3 rows × 25 columns</p>\n",
       "</div>"
      ],
      "text/plain": [
       "           id  click       hour    C1  banner_pos   site_id site_domain  \\\n",
       "0  -172049060      1 2014-10-21  1005           0  1fbe01fe    f3845767   \n",
       "1   701479546      0 2014-10-21  1005           1  5b4d2eda    16a36ef3   \n",
       "2  1192804959      0 2014-10-21  1005           0  543a539e    c7ca3108   \n",
       "\n",
       "  site_category    app_id app_domain     ...      device_conn_type    C14  \\\n",
       "0      28905ebd  ecad2386   7801e8d9     ...                     2  15707   \n",
       "1      f028772b  ecad2386   7801e8d9     ...                     0  20362   \n",
       "2      3e814130  ecad2386   7801e8d9     ...                     0  20362   \n",
       "\n",
       "   C15 C16   C17  C18  C19     C20  C21  hour_of_day  \n",
       "0  320  50  1722    0   35      -1   79            0  \n",
       "1  320  50  2333    0   39  100076  157            0  \n",
       "2  320  50  2333    0   39      -1  157            0  \n",
       "\n",
       "[3 rows x 25 columns]"
      ]
     },
     "execution_count": 15,
     "metadata": {},
     "output_type": "execute_result"
    }
   ],
   "source": [
    "train.head(3)"
   ]
  },
  {
   "cell_type": "markdown",
   "metadata": {},
   "source": [
    "Let's take impressions into consideration."
   ]
  },
  {
   "cell_type": "code",
   "execution_count": 16,
   "metadata": {},
   "outputs": [
    {
     "data": {
      "image/png": "[encoded data removed]",
      "text/plain": [
       "<Figure size 864x432 with 1 Axes>"
      ]
     },
     "metadata": {
      "needs_background": "light"
     },
     "output_type": "display_data"
    }
   ],
   "source": [
    "train.groupby(['hour_of_day', 'click']).size().unstack().plot(kind='bar', title=\"Hour of Day\", figsize=(12,6))\n",
    "plt.ylabel('count')\n",
    "plt.title('Hourly impressions vs. clicks');"
   ]
  },
  {
   "cell_type": "markdown",
   "metadata": {},
   "source": [
    "There is nothing shocking here."
   ]
  },
  {
   "cell_type": "code",
   "execution_count": 17,
   "metadata": {},
   "outputs": [
    {
     "data": {
      "text/html": [
       "<div>\n",
       "<style scoped>\n",
       "    .dataframe tbody tr th:only-of-type {\n",
       "        vertical-align: middle;\n",
       "    }\n",
       "\n",
       "    .dataframe tbody tr th {\n",
       "        vertical-align: top;\n",
       "    }\n",
       "\n",
       "    .dataframe thead th {\n",
       "        text-align: right;\n",
       "    }\n",
       "</style>\n",
       "<table border=\"1\" class=\"dataframe\">\n",
       "  <thead>\n",
       "    <tr style=\"text-align: right;\">\n",
       "      <th></th>\n",
       "      <th>id</th>\n",
       "      <th>click</th>\n",
       "      <th>hour</th>\n",
       "      <th>C1</th>\n",
       "      <th>banner_pos</th>\n",
       "      <th>site_id</th>\n",
       "      <th>site_domain</th>\n",
       "      <th>site_category</th>\n",
       "      <th>app_id</th>\n",
       "      <th>app_domain</th>\n",
       "      <th>...</th>\n",
       "      <th>device_conn_type</th>\n",
       "      <th>C14</th>\n",
       "      <th>C15</th>\n",
       "      <th>C16</th>\n",
       "      <th>C17</th>\n",
       "      <th>C18</th>\n",
       "      <th>C19</th>\n",
       "      <th>C20</th>\n",
       "      <th>C21</th>\n",
       "      <th>hour_of_day</th>\n",
       "    </tr>\n",
       "  </thead>\n",
       "  <tbody>\n",
       "    <tr>\n",
       "      <th>0</th>\n",
       "      <td>-172049060</td>\n",
       "      <td>1</td>\n",
       "      <td>2014-10-21</td>\n",
       "      <td>1005</td>\n",
       "      <td>0</td>\n",
       "      <td>1fbe01fe</td>\n",
       "      <td>f3845767</td>\n",
       "      <td>28905ebd</td>\n",
       "      <td>ecad2386</td>\n",
       "      <td>7801e8d9</td>\n",
       "      <td>...</td>\n",
       "      <td>2</td>\n",
       "      <td>15707</td>\n",
       "      <td>320</td>\n",
       "      <td>50</td>\n",
       "      <td>1722</td>\n",
       "      <td>0</td>\n",
       "      <td>35</td>\n",
       "      <td>-1</td>\n",
       "      <td>79</td>\n",
       "      <td>0</td>\n",
       "    </tr>\n",
       "    <tr>\n",
       "      <th>1</th>\n",
       "      <td>701479546</td>\n",
       "      <td>0</td>\n",
       "      <td>2014-10-21</td>\n",
       "      <td>1005</td>\n",
       "      <td>1</td>\n",
       "      <td>5b4d2eda</td>\n",
       "      <td>16a36ef3</td>\n",
       "      <td>f028772b</td>\n",
       "      <td>ecad2386</td>\n",
       "      <td>7801e8d9</td>\n",
       "      <td>...</td>\n",
       "      <td>0</td>\n",
       "      <td>20362</td>\n",
       "      <td>320</td>\n",
       "      <td>50</td>\n",
       "      <td>2333</td>\n",
       "      <td>0</td>\n",
       "      <td>39</td>\n",
       "      <td>100076</td>\n",
       "      <td>157</td>\n",
       "      <td>0</td>\n",
       "    </tr>\n",
       "    <tr>\n",
       "      <th>2</th>\n",
       "      <td>1192804959</td>\n",
       "      <td>0</td>\n",
       "      <td>2014-10-21</td>\n",
       "      <td>1005</td>\n",
       "      <td>0</td>\n",
       "      <td>543a539e</td>\n",
       "      <td>c7ca3108</td>\n",
       "      <td>3e814130</td>\n",
       "      <td>ecad2386</td>\n",
       "      <td>7801e8d9</td>\n",
       "      <td>...</td>\n",
       "      <td>0</td>\n",
       "      <td>20362</td>\n",
       "      <td>320</td>\n",
       "      <td>50</td>\n",
       "      <td>2333</td>\n",
       "      <td>0</td>\n",
       "      <td>39</td>\n",
       "      <td>-1</td>\n",
       "      <td>157</td>\n",
       "      <td>0</td>\n",
       "    </tr>\n",
       "  </tbody>\n",
       "</table>\n",
       "<p>3 rows × 25 columns</p>\n",
       "</div>"
      ],
      "text/plain": [
       "           id  click       hour    C1  banner_pos   site_id site_domain  \\\n",
       "0  -172049060      1 2014-10-21  1005           0  1fbe01fe    f3845767   \n",
       "1   701479546      0 2014-10-21  1005           1  5b4d2eda    16a36ef3   \n",
       "2  1192804959      0 2014-10-21  1005           0  543a539e    c7ca3108   \n",
       "\n",
       "  site_category    app_id app_domain     ...      device_conn_type    C14  \\\n",
       "0      28905ebd  ecad2386   7801e8d9     ...                     2  15707   \n",
       "1      f028772b  ecad2386   7801e8d9     ...                     0  20362   \n",
       "2      3e814130  ecad2386   7801e8d9     ...                     0  20362   \n",
       "\n",
       "   C15 C16   C17  C18  C19     C20  C21  hour_of_day  \n",
       "0  320  50  1722    0   35      -1   79            0  \n",
       "1  320  50  2333    0   39  100076  157            0  \n",
       "2  320  50  2333    0   39      -1  157            0  \n",
       "\n",
       "[3 rows x 25 columns]"
      ]
     },
     "execution_count": 17,
     "metadata": {},
     "output_type": "execute_result"
    }
   ],
   "source": [
    "train.head(3)"
   ]
  },
  {
   "cell_type": "markdown",
   "metadata": {},
   "source": [
    "Now that we have click and impression. We can calculate Click-through rate (CTR). CTR is the ratio of ad clicks to impressions. It measures the rate of clicks on each ad."
   ]
  },
  {
   "cell_type": "markdown",
   "metadata": {},
   "source": [
    "#### Hourly CTR"
   ]
  },
  {
   "cell_type": "code",
   "execution_count": 18,
   "metadata": {},
   "outputs": [
    {
     "data": {
      "image/png": "[encoded data removed]",
      "text/plain": [
       "<Figure size 864x432 with 1 Axes>"
      ]
     },
     "metadata": {
      "needs_background": "light"
     },
     "output_type": "display_data"
    }
   ],
   "source": [
    "df_click = train[train['click'] == 1]\n",
    "df_hour = train[['hour_of_day','click']].groupby(['hour_of_day']).count().reset_index()\n",
    "df_hour = df_hour.rename(columns={'click': 'impressions'})\n",
    "df_hour['clicks'] = df_click[['hour_of_day','click']].groupby(['hour_of_day']).count().reset_index()['click']\n",
    "df_hour['CTR'] = df_hour['clicks']/df_hour['impressions']*100\n",
    "\n",
    "plt.figure(figsize=(12,6))\n",
    "sns.barplot(y='CTR', x='hour_of_day', data=df_hour)\n",
    "plt.title('Hourly CTR');"
   ]
  },
  {
   "cell_type": "markdown",
   "metadata": {},
   "source": [
    "One of the interesting observations here is that the highest CTR happened in the hour of mid-night, 1, 7 and 15. If you remember, around mid-night has the least number of impressions and clicks."
   ]
  },
  {
   "cell_type": "markdown",
   "metadata": {},
   "source": [
    "#### Day of week"
   ]
  },
  {
   "cell_type": "code",
   "execution_count": 19,
   "metadata": {},
   "outputs": [
    {
     "name": "stderr",
     "output_type": "stream",
     "text": [
      "D:\\programs\\Continuum\\miniconda3\\envs\\py35\\lib\\site-packages\\ipykernel_launcher.py:1: FutureWarning: `weekday_name` is deprecated and will be removed in a future version. Use `day_name` instead\n",
      "  \"\"\"Entry point for launching an IPython kernel.\n"
     ]
    },
    {
     "data": {
      "image/png": "[encoded data removed]",
      "text/plain": [
       "<Figure size 864x432 with 1 Axes>"
      ]
     },
     "metadata": {
      "needs_background": "light"
     },
     "output_type": "display_data"
    }
   ],
   "source": [
    "train['day_of_week'] = train['hour'].apply(lambda val: val.weekday_name)\n",
    "cats = ['Monday', 'Tuesday', 'Wednesday', 'Thursday', 'Friday', 'Saturday', 'Sunday']\n",
    "train.groupby('day_of_week').agg({'click':'sum'}).reindex(cats).plot(figsize=(12,6))\n",
    "ticks = list(range(0, 7, 1)) # points on the x axis where you want the label to appear\n",
    "labels = \"Mon Tues Weds Thurs Fri Sat Sun\".split()\n",
    "plt.xticks(ticks, labels)\n",
    "plt.title('click trends by day of week');"
   ]
  },
  {
   "cell_type": "code",
   "execution_count": 20,
   "metadata": {},
   "outputs": [
    {
     "data": {
      "image/png": "[encoded data removed]",
      "text/plain": [
       "<Figure size 864x432 with 1 Axes>"
      ]
     },
     "metadata": {
      "needs_background": "light"
     },
     "output_type": "display_data"
    }
   ],
   "source": [
    "train.groupby(['day_of_week','click']).size().unstack().reindex(cats).plot(kind='bar', title=\"Day of the Week\", figsize=(12,6))\n",
    "ticks = list(range(0, 7, 1)) # points on the x axis where you want the label to appear\n",
    "labels = \"Mon Tues Weds Thurs Fri Sat Sun\".split()\n",
    "plt.xticks(ticks, labels)\n",
    "plt.title('Impressions vs. clicks by day of week');"
   ]
  },
  {
   "cell_type": "markdown",
   "metadata": {},
   "source": [
    "Tuesdays have the most impressions and clicks, then Wednesdays, followed by Thursdays. Mondays and Fridays have the least number of impressions and clicks."
   ]
  },
  {
   "cell_type": "markdown",
   "metadata": {},
   "source": [
    "#### Day of week CTR"
   ]
  },
  {
   "cell_type": "code",
   "execution_count": 21,
   "metadata": {},
   "outputs": [
    {
     "data": {
      "text/html": [
       "<div>\n",
       "<style scoped>\n",
       "    .dataframe tbody tr th:only-of-type {\n",
       "        vertical-align: middle;\n",
       "    }\n",
       "\n",
       "    .dataframe tbody tr th {\n",
       "        vertical-align: top;\n",
       "    }\n",
       "\n",
       "    .dataframe thead th {\n",
       "        text-align: right;\n",
       "    }\n",
       "</style>\n",
       "<table border=\"1\" class=\"dataframe\">\n",
       "  <thead>\n",
       "    <tr style=\"text-align: right;\">\n",
       "      <th></th>\n",
       "      <th>id</th>\n",
       "      <th>click</th>\n",
       "      <th>hour</th>\n",
       "      <th>C1</th>\n",
       "      <th>banner_pos</th>\n",
       "      <th>site_id</th>\n",
       "      <th>site_domain</th>\n",
       "      <th>site_category</th>\n",
       "      <th>app_id</th>\n",
       "      <th>app_domain</th>\n",
       "      <th>...</th>\n",
       "      <th>C14</th>\n",
       "      <th>C15</th>\n",
       "      <th>C16</th>\n",
       "      <th>C17</th>\n",
       "      <th>C18</th>\n",
       "      <th>C19</th>\n",
       "      <th>C20</th>\n",
       "      <th>C21</th>\n",
       "      <th>hour_of_day</th>\n",
       "      <th>day_of_week</th>\n",
       "    </tr>\n",
       "  </thead>\n",
       "  <tbody>\n",
       "    <tr>\n",
       "      <th>0</th>\n",
       "      <td>-172049060</td>\n",
       "      <td>1</td>\n",
       "      <td>2014-10-21</td>\n",
       "      <td>1005</td>\n",
       "      <td>0</td>\n",
       "      <td>1fbe01fe</td>\n",
       "      <td>f3845767</td>\n",
       "      <td>28905ebd</td>\n",
       "      <td>ecad2386</td>\n",
       "      <td>7801e8d9</td>\n",
       "      <td>...</td>\n",
       "      <td>15707</td>\n",
       "      <td>320</td>\n",
       "      <td>50</td>\n",
       "      <td>1722</td>\n",
       "      <td>0</td>\n",
       "      <td>35</td>\n",
       "      <td>-1</td>\n",
       "      <td>79</td>\n",
       "      <td>0</td>\n",
       "      <td>Tuesday</td>\n",
       "    </tr>\n",
       "    <tr>\n",
       "      <th>1</th>\n",
       "      <td>701479546</td>\n",
       "      <td>0</td>\n",
       "      <td>2014-10-21</td>\n",
       "      <td>1005</td>\n",
       "      <td>1</td>\n",
       "      <td>5b4d2eda</td>\n",
       "      <td>16a36ef3</td>\n",
       "      <td>f028772b</td>\n",
       "      <td>ecad2386</td>\n",
       "      <td>7801e8d9</td>\n",
       "      <td>...</td>\n",
       "      <td>20362</td>\n",
       "      <td>320</td>\n",
       "      <td>50</td>\n",
       "      <td>2333</td>\n",
       "      <td>0</td>\n",
       "      <td>39</td>\n",
       "      <td>100076</td>\n",
       "      <td>157</td>\n",
       "      <td>0</td>\n",
       "      <td>Tuesday</td>\n",
       "    </tr>\n",
       "    <tr>\n",
       "      <th>2</th>\n",
       "      <td>1192804959</td>\n",
       "      <td>0</td>\n",
       "      <td>2014-10-21</td>\n",
       "      <td>1005</td>\n",
       "      <td>0</td>\n",
       "      <td>543a539e</td>\n",
       "      <td>c7ca3108</td>\n",
       "      <td>3e814130</td>\n",
       "      <td>ecad2386</td>\n",
       "      <td>7801e8d9</td>\n",
       "      <td>...</td>\n",
       "      <td>20362</td>\n",
       "      <td>320</td>\n",
       "      <td>50</td>\n",
       "      <td>2333</td>\n",
       "      <td>0</td>\n",
       "      <td>39</td>\n",
       "      <td>-1</td>\n",
       "      <td>157</td>\n",
       "      <td>0</td>\n",
       "      <td>Tuesday</td>\n",
       "    </tr>\n",
       "  </tbody>\n",
       "</table>\n",
       "<p>3 rows × 26 columns</p>\n",
       "</div>"
      ],
      "text/plain": [
       "           id  click       hour    C1  banner_pos   site_id site_domain  \\\n",
       "0  -172049060      1 2014-10-21  1005           0  1fbe01fe    f3845767   \n",
       "1   701479546      0 2014-10-21  1005           1  5b4d2eda    16a36ef3   \n",
       "2  1192804959      0 2014-10-21  1005           0  543a539e    c7ca3108   \n",
       "\n",
       "  site_category    app_id app_domain     ...         C14  C15 C16   C17  C18  \\\n",
       "0      28905ebd  ecad2386   7801e8d9     ...       15707  320  50  1722    0   \n",
       "1      f028772b  ecad2386   7801e8d9     ...       20362  320  50  2333    0   \n",
       "2      3e814130  ecad2386   7801e8d9     ...       20362  320  50  2333    0   \n",
       "\n",
       "   C19     C20  C21  hour_of_day  day_of_week  \n",
       "0   35      -1   79            0      Tuesday  \n",
       "1   39  100076  157            0      Tuesday  \n",
       "2   39      -1  157            0      Tuesday  \n",
       "\n",
       "[3 rows x 26 columns]"
      ]
     },
     "execution_count": 21,
     "metadata": {},
     "output_type": "execute_result"
    }
   ],
   "source": [
    "train.head(3)"
   ]
  },
  {
   "cell_type": "code",
   "execution_count": 22,
   "metadata": {},
   "outputs": [
    {
     "data": {
      "image/png": "[encoded data removed]",
      "text/plain": [
       "<Figure size 864x432 with 1 Axes>"
      ]
     },
     "metadata": {
      "needs_background": "light"
     },
     "output_type": "display_data"
    }
   ],
   "source": [
    "df_click = train[train['click'] == 1]\n",
    "df_dayofweek = train[['day_of_week','click']].groupby(['day_of_week']).count().reset_index()\n",
    "df_dayofweek = df_dayofweek.rename(columns={'click': 'impressions'})\n",
    "df_dayofweek['clicks'] = df_click[['day_of_week','click']].groupby(['day_of_week']).count().reset_index()['click']\n",
    "df_dayofweek['CTR'] = df_dayofweek['clicks']/df_dayofweek['impressions']*100\n",
    "\n",
    "plt.figure(figsize=(12,6))\n",
    "sns.barplot(y='CTR', x='day_of_week', data=df_dayofweek, order=['Monday', 'Tuesday', 'Wednesday', 'Thursday', 'Friday', 'Saturday', 'Sunday'])\n",
    "plt.title('Day of week CTR');"
   ]
  },
  {
   "cell_type": "markdown",
   "metadata": {},
   "source": [
    "While Tuesdays and Wednesdays have the highest number of impressions and clicks, their CTR are among the lowest. Saturdays and Sundays enjoy the highest CTR. Apparently, people have more time to click over the weekend."
   ]
  },
  {
   "cell_type": "code",
   "execution_count": 23,
   "metadata": {},
   "outputs": [
    {
     "data": {
      "text/html": [
       "<div>\n",
       "<style scoped>\n",
       "    .dataframe tbody tr th:only-of-type {\n",
       "        vertical-align: middle;\n",
       "    }\n",
       "\n",
       "    .dataframe tbody tr th {\n",
       "        vertical-align: top;\n",
       "    }\n",
       "\n",
       "    .dataframe thead th {\n",
       "        text-align: right;\n",
       "    }\n",
       "</style>\n",
       "<table border=\"1\" class=\"dataframe\">\n",
       "  <thead>\n",
       "    <tr style=\"text-align: right;\">\n",
       "      <th></th>\n",
       "      <th>id</th>\n",
       "      <th>click</th>\n",
       "      <th>hour</th>\n",
       "      <th>C1</th>\n",
       "      <th>banner_pos</th>\n",
       "      <th>site_id</th>\n",
       "      <th>site_domain</th>\n",
       "      <th>site_category</th>\n",
       "      <th>app_id</th>\n",
       "      <th>app_domain</th>\n",
       "      <th>...</th>\n",
       "      <th>C14</th>\n",
       "      <th>C15</th>\n",
       "      <th>C16</th>\n",
       "      <th>C17</th>\n",
       "      <th>C18</th>\n",
       "      <th>C19</th>\n",
       "      <th>C20</th>\n",
       "      <th>C21</th>\n",
       "      <th>hour_of_day</th>\n",
       "      <th>day_of_week</th>\n",
       "    </tr>\n",
       "  </thead>\n",
       "  <tbody>\n",
       "    <tr>\n",
       "      <th>0</th>\n",
       "      <td>-172049060</td>\n",
       "      <td>1</td>\n",
       "      <td>2014-10-21</td>\n",
       "      <td>1005</td>\n",
       "      <td>0</td>\n",
       "      <td>1fbe01fe</td>\n",
       "      <td>f3845767</td>\n",
       "      <td>28905ebd</td>\n",
       "      <td>ecad2386</td>\n",
       "      <td>7801e8d9</td>\n",
       "      <td>...</td>\n",
       "      <td>15707</td>\n",
       "      <td>320</td>\n",
       "      <td>50</td>\n",
       "      <td>1722</td>\n",
       "      <td>0</td>\n",
       "      <td>35</td>\n",
       "      <td>-1</td>\n",
       "      <td>79</td>\n",
       "      <td>0</td>\n",
       "      <td>Tuesday</td>\n",
       "    </tr>\n",
       "    <tr>\n",
       "      <th>1</th>\n",
       "      <td>701479546</td>\n",
       "      <td>0</td>\n",
       "      <td>2014-10-21</td>\n",
       "      <td>1005</td>\n",
       "      <td>1</td>\n",
       "      <td>5b4d2eda</td>\n",
       "      <td>16a36ef3</td>\n",
       "      <td>f028772b</td>\n",
       "      <td>ecad2386</td>\n",
       "      <td>7801e8d9</td>\n",
       "      <td>...</td>\n",
       "      <td>20362</td>\n",
       "      <td>320</td>\n",
       "      <td>50</td>\n",
       "      <td>2333</td>\n",
       "      <td>0</td>\n",
       "      <td>39</td>\n",
       "      <td>100076</td>\n",
       "      <td>157</td>\n",
       "      <td>0</td>\n",
       "      <td>Tuesday</td>\n",
       "    </tr>\n",
       "    <tr>\n",
       "      <th>2</th>\n",
       "      <td>1192804959</td>\n",
       "      <td>0</td>\n",
       "      <td>2014-10-21</td>\n",
       "      <td>1005</td>\n",
       "      <td>0</td>\n",
       "      <td>543a539e</td>\n",
       "      <td>c7ca3108</td>\n",
       "      <td>3e814130</td>\n",
       "      <td>ecad2386</td>\n",
       "      <td>7801e8d9</td>\n",
       "      <td>...</td>\n",
       "      <td>20362</td>\n",
       "      <td>320</td>\n",
       "      <td>50</td>\n",
       "      <td>2333</td>\n",
       "      <td>0</td>\n",
       "      <td>39</td>\n",
       "      <td>-1</td>\n",
       "      <td>157</td>\n",
       "      <td>0</td>\n",
       "      <td>Tuesday</td>\n",
       "    </tr>\n",
       "  </tbody>\n",
       "</table>\n",
       "<p>3 rows × 26 columns</p>\n",
       "</div>"
      ],
      "text/plain": [
       "           id  click       hour    C1  banner_pos   site_id site_domain  \\\n",
       "0  -172049060      1 2014-10-21  1005           0  1fbe01fe    f3845767   \n",
       "1   701479546      0 2014-10-21  1005           1  5b4d2eda    16a36ef3   \n",
       "2  1192804959      0 2014-10-21  1005           0  543a539e    c7ca3108   \n",
       "\n",
       "  site_category    app_id app_domain     ...         C14  C15 C16   C17  C18  \\\n",
       "0      28905ebd  ecad2386   7801e8d9     ...       15707  320  50  1722    0   \n",
       "1      f028772b  ecad2386   7801e8d9     ...       20362  320  50  2333    0   \n",
       "2      3e814130  ecad2386   7801e8d9     ...       20362  320  50  2333    0   \n",
       "\n",
       "   C19     C20  C21  hour_of_day  day_of_week  \n",
       "0   35      -1   79            0      Tuesday  \n",
       "1   39  100076  157            0      Tuesday  \n",
       "2   39      -1  157            0      Tuesday  \n",
       "\n",
       "[3 rows x 26 columns]"
      ]
     },
     "execution_count": 23,
     "metadata": {},
     "output_type": "execute_result"
    }
   ],
   "source": [
    "train.head(3)"
   ]
  },
  {
   "cell_type": "markdown",
   "metadata": {},
   "source": [
    "### C1 feature\n",
    "\n",
    "C1 is one of the anonymized categorical features. Although we don't know its meaning, we still want to have a look its distribution."
   ]
  },
  {
   "cell_type": "code",
   "execution_count": 24,
   "metadata": {},
   "outputs": [
    {
     "name": "stdout",
     "output_type": "stream",
     "text": [
      "1005    0.918614\n",
      "1002    0.054841\n",
      "1010    0.022401\n",
      "1012    0.002896\n",
      "1007    0.000860\n",
      "1001    0.000245\n",
      "1008    0.000143\n",
      "Name: C1, dtype: float64\n"
     ]
    }
   ],
   "source": [
    "print(train.C1.value_counts()/len(train))"
   ]
  },
  {
   "cell_type": "markdown",
   "metadata": {},
   "source": [
    "C1 value = 1005 has the most data, almost 92%. Let's see whether we can find value of C1 indicates something about CTR."
   ]
  },
  {
   "cell_type": "code",
   "execution_count": 25,
   "metadata": {},
   "outputs": [
    {
     "name": "stdout",
     "output_type": "stream",
     "text": [
      "for C1 value: 1001,  click through rate: 0.036734693877551024\n",
      "for C1 value: 1002,  click through rate: 0.21232289710253277\n",
      "for C1 value: 1005,  click through rate: 0.16900787490719715\n",
      "for C1 value: 1007,  click through rate: 0.040697674418604654\n",
      "for C1 value: 1008,  click through rate: 0.1258741258741259\n",
      "for C1 value: 1010,  click through rate: 0.09682603455202893\n",
      "for C1 value: 1012,  click through rate: 0.17506906077348067\n"
     ]
    }
   ],
   "source": [
    "C1_values = train.C1.unique()\n",
    "C1_values.sort()\n",
    "ctr_avg_list=[]\n",
    "for i in C1_values:\n",
    "    ctr_avg=train.loc[np.where((train.C1 == i))].click.mean()\n",
    "    ctr_avg_list.append(ctr_avg)\n",
    "    print(\"for C1 value: {},  click through rate: {}\".format(i,ctr_avg))"
   ]
  },
  {
   "cell_type": "code",
   "execution_count": 26,
   "metadata": {},
   "outputs": [
    {
     "data": {
      "image/png": "[encoded data removed]",
      "text/plain": [
       "<Figure size 864x432 with 1 Axes>"
      ]
     },
     "metadata": {
      "needs_background": "light"
     },
     "output_type": "display_data"
    }
   ],
   "source": [
    "train.groupby(['C1', 'click']).size().unstack().plot(kind='bar', figsize=(12,6), title='C1 histogram');"
   ]
  },
  {
   "cell_type": "code",
   "execution_count": 27,
   "metadata": {},
   "outputs": [
    {
     "data": {
      "image/png": "[encoded data removed]",
      "text/plain": [
       "<Figure size 864x432 with 1 Axes>"
      ]
     },
     "metadata": {
      "needs_background": "light"
     },
     "output_type": "display_data"
    }
   ],
   "source": [
    "df_c1 = train[['C1','click']].groupby(['C1']).count().reset_index()\n",
    "df_c1 = df_c1.rename(columns={'click': 'impressions'})\n",
    "df_c1['clicks'] = df_click[['C1','click']].groupby(['C1']).count().reset_index()['click']\n",
    "df_c1['CTR'] = df_c1['clicks']/df_c1['impressions']*100\n",
    "\n",
    "plt.figure(figsize=(12,6))\n",
    "sns.barplot(y='CTR', x='C1', data=df_c1)\n",
    "plt.title('CTR by C1');"
   ]
  },
  {
   "cell_type": "markdown",
   "metadata": {},
   "source": [
    "The average CTR in the data is 0.17."
   ]
  },
  {
   "cell_type": "code",
   "execution_count": 28,
   "metadata": {},
   "outputs": [
    {
     "data": {
      "text/plain": [
       "0.169635"
      ]
     },
     "execution_count": 28,
     "metadata": {},
     "output_type": "execute_result"
    }
   ],
   "source": [
    "train['click'].mean()"
   ]
  },
  {
   "cell_type": "code",
   "execution_count": 29,
   "metadata": {},
   "outputs": [
    {
     "data": {
      "text/plain": [
       "count     7.000000\n",
       "mean     12.236177\n",
       "std       6.796121\n",
       "min       3.673469\n",
       "25%       6.876185\n",
       "50%      12.587413\n",
       "75%      17.203847\n",
       "max      21.232290\n",
       "Name: CTR, dtype: float64"
      ]
     },
     "execution_count": 29,
     "metadata": {},
     "output_type": "execute_result"
    }
   ],
   "source": [
    "df_c1.CTR.describe()"
   ]
  },
  {
   "cell_type": "markdown",
   "metadata": {},
   "source": [
    "The important C1 values and CTR pairs are:\n",
    "\n",
    "1005: 92% of the data and 0.17 CTR\n",
    "\n",
    "1002: 5.5% of the data and 0.21 CTR\n",
    "\n",
    "1010: 2.3% of the data and 0.096 CTR\n",
    "\n",
    "1002 has a much higher than average CTR, and 1010 has a much lower than average CTR, it seems these two C1 values are important for predicting CTR."
   ]
  },
  {
   "cell_type": "markdown",
   "metadata": {},
   "source": [
    "### Banner position\n",
    "\n",
    "I have heard that there are many factors that affect the performance of your banner ads, but the most influential one is the banner position. Let's see whether it is true."
   ]
  },
  {
   "cell_type": "code",
   "execution_count": 30,
   "metadata": {},
   "outputs": [
    {
     "name": "stdout",
     "output_type": "stream",
     "text": [
      "0    0.719572\n",
      "1    0.278628\n",
      "7    0.001092\n",
      "2    0.000340\n",
      "4    0.000177\n",
      "5    0.000143\n",
      "3    0.000048\n",
      "Name: banner_pos, dtype: float64\n"
     ]
    }
   ],
   "source": [
    "print(train.banner_pos.value_counts()/len(train))"
   ]
  },
  {
   "cell_type": "code",
   "execution_count": 31,
   "metadata": {},
   "outputs": [
    {
     "name": "stdout",
     "output_type": "stream",
     "text": [
      "for banner position: 0,  click through rate: 0.1639613548053565\n",
      "for banner position: 1,  click through rate: 0.18376832192026646\n",
      "for banner position: 2,  click through rate: 0.11470588235294117\n",
      "for banner position: 3,  click through rate: 0.22916666666666666\n",
      "for banner position: 4,  click through rate: 0.23163841807909605\n",
      "for banner position: 5,  click through rate: 0.1258741258741259\n",
      "for banner position: 7,  click through rate: 0.31227106227106227\n"
     ]
    }
   ],
   "source": [
    "banner_pos = train.banner_pos.unique()\n",
    "banner_pos.sort()\n",
    "ctr_avg_list=[]\n",
    "for i in banner_pos:\n",
    "    ctr_avg=train.loc[np.where((train.banner_pos == i))].click.mean()\n",
    "    ctr_avg_list.append(ctr_avg)\n",
    "    print(\"for banner position: {},  click through rate: {}\".format(i,ctr_avg))"
   ]
  },
  {
   "cell_type": "markdown",
   "metadata": {},
   "source": [
    "The important banner positions are:\n",
    "\n",
    "position 0: 72% of the data and 0.16 CTR\n",
    "\n",
    "position 1: 28% of the data and 0.18 CTR"
   ]
  },
  {
   "cell_type": "code",
   "execution_count": 32,
   "metadata": {},
   "outputs": [
    {
     "data": {
      "image/png": "[encoded data removed]",
      "text/plain": [
       "<Figure size 864x432 with 1 Axes>"
      ]
     },
     "metadata": {
      "needs_background": "light"
     },
     "output_type": "display_data"
    }
   ],
   "source": [
    "train.groupby(['banner_pos', 'click']).size().unstack().plot(kind='bar', figsize=(12,6), title='banner position histogram');"
   ]
  },
  {
   "cell_type": "code",
   "execution_count": 33,
   "metadata": {},
   "outputs": [
    {
     "data": {
      "image/png": "[encoded data removed]",
      "text/plain": [
       "<Figure size 864x432 with 1 Axes>"
      ]
     },
     "metadata": {
      "needs_background": "light"
     },
     "output_type": "display_data"
    }
   ],
   "source": [
    "df_banner = train[['banner_pos','click']].groupby(['banner_pos']).count().reset_index()\n",
    "df_banner = df_banner.rename(columns={'click': 'impressions'})\n",
    "df_banner['clicks'] = df_click[['banner_pos','click']].groupby(['banner_pos']).count().reset_index()['click']\n",
    "df_banner['CTR'] = df_banner['clicks']/df_banner['impressions']*100\n",
    "sort_banners = df_banner.sort_values(by='CTR',ascending=False)['banner_pos'].tolist()\n",
    "plt.figure(figsize=(12,6))\n",
    "sns.barplot(y='CTR', x='banner_pos', data=df_banner, order=sort_banners)\n",
    "plt.title('CTR by banner position');"
   ]
  },
  {
   "cell_type": "code",
   "execution_count": 34,
   "metadata": {},
   "outputs": [
    {
     "data": {
      "text/plain": [
       "count     7.000000\n",
       "mean     19.448369\n",
       "std       6.901141\n",
       "min      11.470588\n",
       "25%      14.491774\n",
       "50%      18.376832\n",
       "75%      23.040254\n",
       "max      31.227106\n",
       "Name: CTR, dtype: float64"
      ]
     },
     "execution_count": 34,
     "metadata": {},
     "output_type": "execute_result"
    }
   ],
   "source": [
    "df_banner.CTR.describe()"
   ]
  },
  {
   "cell_type": "markdown",
   "metadata": {},
   "source": [
    "Although banner position 0 and 1 have the highest number of impressions and clicks, banner 7 enjoys the highest click through rate. Increasing the number of ads placed on banner position 7 seems to be a good idea."
   ]
  },
  {
   "cell_type": "markdown",
   "metadata": {},
   "source": [
    "### Site features\n",
    "\n",
    "#### site id"
   ]
  },
  {
   "cell_type": "code",
   "execution_count": 35,
   "metadata": {},
   "outputs": [
    {
     "name": "stdout",
     "output_type": "stream",
     "text": [
      "There are 2648 sites in the data set\n"
     ]
    }
   ],
   "source": [
    "print(\"There are {} sites in the data set\".format(train.site_id.nunique()))"
   ]
  },
  {
   "cell_type": "code",
   "execution_count": 36,
   "metadata": {},
   "outputs": [
    {
     "name": "stdout",
     "output_type": "stream",
     "text": [
      "The top 10 site ids that have the most impressions\n",
      "85f751fd    0.361431\n",
      "1fbe01fe    0.160285\n",
      "e151e245    0.065366\n",
      "d9750ee7    0.024019\n",
      "5b08c53b    0.022631\n",
      "5b4d2eda    0.019156\n",
      "856e6d3f    0.019054\n",
      "a7853007    0.011472\n",
      "b7e9786d    0.009137\n",
      "5ee41ff2    0.008532\n",
      "Name: site_id, dtype: float64\n"
     ]
    }
   ],
   "source": [
    "print('The top 10 site ids that have the most impressions')\n",
    "print((train.site_id.value_counts()/len(train))[0:10])"
   ]
  },
  {
   "cell_type": "code",
   "execution_count": 37,
   "metadata": {},
   "outputs": [
    {
     "name": "stdout",
     "output_type": "stream",
     "text": [
      "for site id value: 85f751fd,  click through rate: 0.1184375440955535\n",
      "for site id value: 1fbe01fe,  click through rate: 0.20439217643572385\n",
      "for site id value: e151e245,  click through rate: 0.2961937398647615\n",
      "for site id value: d9750ee7,  click through rate: 0.2802364794537658\n",
      "for site id value: 5b08c53b,  click through rate: 0.4623746188855994\n",
      "for site id value: 5b4d2eda,  click through rate: 0.12920233869283776\n",
      "for site id value: 856e6d3f,  click through rate: 0.04214338196704104\n",
      "for site id value: a7853007,  click through rate: 0.10033124128312412\n",
      "for site id value: b7e9786d,  click through rate: 0.07715880485936302\n",
      "for site id value: 5ee41ff2,  click through rate: 0.3270042194092827\n"
     ]
    }
   ],
   "source": [
    "top10_ids = (train.site_id.value_counts()/len(train))[0:10].index\n",
    "click_avg_list=[]\n",
    "\n",
    "for i in top10_ids:\n",
    "    click_avg=train.loc[np.where((train.site_id == i))].click.mean()\n",
    "    click_avg_list.append(click_avg)\n",
    "    print(\"for site id value: {},  click through rate: {}\".format(i,click_avg))"
   ]
  },
  {
   "cell_type": "code",
   "execution_count": 38,
   "metadata": {},
   "outputs": [
    {
     "data": {
      "image/png": "[encoded data removed]",
      "text/plain": [
       "<Figure size 864x432 with 1 Axes>"
      ]
     },
     "metadata": {
      "needs_background": "light"
     },
     "output_type": "display_data"
    }
   ],
   "source": [
    "top10_sites = train[(train.site_id.isin((train.site_id.value_counts()/len(train))[0:10].index))]\n",
    "top10_sites_click = top10_sites[top10_sites['click'] == 1]\n",
    "top10_sites.groupby(['site_id', 'click']).size().unstack().plot(kind='bar', figsize=(12,6), title='Top 10 site ids histogram');"
   ]
  },
  {
   "cell_type": "code",
   "execution_count": 39,
   "metadata": {},
   "outputs": [
    {
     "data": {
      "image/png": "[encoded data removed]",
      "text/plain": [
       "<Figure size 864x432 with 1 Axes>"
      ]
     },
     "metadata": {
      "needs_background": "light"
     },
     "output_type": "display_data"
    }
   ],
   "source": [
    "df_site = top10_sites[['site_id','click']].groupby(['site_id']).count().reset_index()\n",
    "df_site = df_site.rename(columns={'click': 'impressions'})\n",
    "df_site['clicks'] = top10_sites_click[['site_id','click']].groupby(['site_id']).count().reset_index()['click']\n",
    "df_site['CTR'] = df_site['clicks']/df_site['impressions']*100\n",
    "sort_site = df_site.sort_values(by='CTR',ascending=False)['site_id'].tolist()\n",
    "plt.figure(figsize=(12,6))\n",
    "sns.barplot(y='CTR', x='site_id', data=df_site, order=sort_site)\n",
    "plt.title('CTR by top 10 site id');"
   ]
  },
  {
   "cell_type": "markdown",
   "metadata": {},
   "source": [
    "The site_id feature seems important because the CTR for the top 10 sites, some as high as 0.47, and some as low as 0.04, and they are significantly different from overall CTR 0.16."
   ]
  },
  {
   "cell_type": "markdown",
   "metadata": {},
   "source": [
    "#### site domain "
   ]
  },
  {
   "cell_type": "code",
   "execution_count": 40,
   "metadata": {},
   "outputs": [
    {
     "name": "stdout",
     "output_type": "stream",
     "text": [
      "There are 2887 site domains in the data set\n"
     ]
    }
   ],
   "source": [
    "print(\"There are {} site domains in the data set\".format(train.site_domain.nunique()))"
   ]
  },
  {
   "cell_type": "code",
   "execution_count": 41,
   "metadata": {},
   "outputs": [
    {
     "name": "stdout",
     "output_type": "stream",
     "text": [
      "The top 10 site domains that have the most impressions\n",
      "c4e18dd6    0.374690\n",
      "f3845767    0.160285\n",
      "7e091613    0.082302\n",
      "7687a86e    0.032051\n",
      "98572c79    0.024825\n",
      "16a36ef3    0.021200\n",
      "58a89a43    0.019054\n",
      "9d54950b    0.009269\n",
      "b12b9f85    0.009247\n",
      "17d996e6    0.008642\n",
      "Name: site_domain, dtype: float64\n"
     ]
    }
   ],
   "source": [
    "print('The top 10 site domains that have the most impressions')\n",
    "print((train.site_domain.value_counts()/len(train))[0:10])"
   ]
  },
  {
   "cell_type": "code",
   "execution_count": 42,
   "metadata": {},
   "outputs": [
    {
     "name": "stdout",
     "output_type": "stream",
     "text": [
      "for site domain value: c4e18dd6,  click through rate: 0.12256265179214818\n",
      "for site domain value: f3845767,  click through rate: 0.20439217643572385\n",
      "for site domain value: 7e091613,  click through rate: 0.25806177249641565\n",
      "for site domain value: 7687a86e,  click through rate: 0.45658481794639794\n",
      "for site domain value: 98572c79,  click through rate: 0.27492447129909364\n",
      "for site domain value: 16a36ef3,  click through rate: 0.1419811320754717\n",
      "for site domain value: 58a89a43,  click through rate: 0.04214338196704104\n",
      "for site domain value: 9d54950b,  click through rate: 0.10907325493580754\n",
      "for site domain value: b12b9f85,  click through rate: 0.07721423164269493\n",
      "for site domain value: 17d996e6,  click through rate: 0.3238833603332562\n"
     ]
    }
   ],
   "source": [
    "top10_domains = (train.site_domain.value_counts()/len(train))[0:10].index\n",
    "click_avg_list=[]\n",
    "\n",
    "for i in top10_domains:\n",
    "    click_avg=train.loc[np.where((train.site_domain == i))].click.mean()\n",
    "    click_avg_list.append(click_avg)\n",
    "    print(\"for site domain value: {},  click through rate: {}\".format(i,click_avg))"
   ]
  },
  {
   "cell_type": "code",
   "execution_count": 43,
   "metadata": {},
   "outputs": [
    {
     "data": {
      "image/png": "[encoded data removed]",
      "text/plain": [
       "<Figure size 864x432 with 1 Axes>"
      ]
     },
     "metadata": {
      "needs_background": "light"
     },
     "output_type": "display_data"
    }
   ],
   "source": [
    "top10_domain = train[(train.site_domain.isin((train.site_domain.value_counts()/len(train))[0:10].index))]\n",
    "top10_domain_click = top10_domain[top10_domain['click'] == 1]\n",
    "top10_domain.groupby(['site_domain', 'click']).size().unstack().plot(kind='bar', figsize=(12,6), title='Top 10 site domains histogram');"
   ]
  },
  {
   "cell_type": "code",
   "execution_count": 44,
   "metadata": {},
   "outputs": [
    {
     "data": {
      "image/png": "[encoded data removed]",
      "text/plain": [
       "<Figure size 864x432 with 1 Axes>"
      ]
     },
     "metadata": {
      "needs_background": "light"
     },
     "output_type": "display_data"
    }
   ],
   "source": [
    "df_domain = top10_domain[['site_domain','click']].groupby(['site_domain']).count().reset_index()\n",
    "df_domain = df_domain.rename(columns={'click': 'impressions'})\n",
    "df_domain['clicks'] = top10_domain_click[['site_domain','click']].groupby(['site_domain']).count().reset_index()['click']\n",
    "df_domain['CTR'] = df_domain['clicks']/df_domain['impressions']*100\n",
    "sort_domain = df_domain.sort_values(by='CTR',ascending=False)['site_domain'].tolist()\n",
    "plt.figure(figsize=(12,6))\n",
    "sns.barplot(y='CTR', x='site_domain', data=df_domain, order=sort_domain)\n",
    "plt.title('CTR by top 10 site domain');"
   ]
  },
  {
   "cell_type": "markdown",
   "metadata": {},
   "source": [
    "Similar with the site_id feature, the site_domain feature seems important as well."
   ]
  },
  {
   "cell_type": "markdown",
   "metadata": {},
   "source": [
    "#### site category"
   ]
  },
  {
   "cell_type": "code",
   "execution_count": 45,
   "metadata": {},
   "outputs": [
    {
     "name": "stdout",
     "output_type": "stream",
     "text": [
      "There are 23 site categories in the data set\n"
     ]
    }
   ],
   "source": [
    "print(\"There are {} site categories in the data set\".format(train.site_category.nunique()))"
   ]
  },
  {
   "cell_type": "code",
   "execution_count": 46,
   "metadata": {},
   "outputs": [
    {
     "name": "stdout",
     "output_type": "stream",
     "text": [
      "The top 10 site categories that have the most impressions\n",
      "50e219e0    0.409347\n",
      "f028772b    0.312583\n",
      "28905ebd    0.182387\n",
      "3e814130    0.075718\n",
      "f66779e6    0.006199\n",
      "75fa27f6    0.004025\n",
      "335d28a8    0.003484\n",
      "76b2941d    0.002540\n",
      "c0dd3be3    0.001100\n",
      "72722551    0.000671\n",
      "Name: site_category, dtype: float64\n"
     ]
    }
   ],
   "source": [
    "print('The top 10 site categories that have the most impressions')\n",
    "print((train.site_category.value_counts()/len(train))[0:10])"
   ]
  },
  {
   "cell_type": "code",
   "execution_count": 47,
   "metadata": {},
   "outputs": [
    {
     "name": "stdout",
     "output_type": "stream",
     "text": [
      "for site category value: 50e219e0,  click through rate: 0.12840695058226884\n",
      "for site category value: f028772b,  click through rate: 0.18033290358080895\n",
      "for site category value: 28905ebd,  click through rate: 0.2073612702659729\n",
      "for site category value: 3e814130,  click through rate: 0.280593782191817\n",
      "for site category value: f66779e6,  click through rate: 0.0393611872882723\n",
      "for site category value: 75fa27f6,  click through rate: 0.0986335403726708\n",
      "for site category value: 335d28a8,  click through rate: 0.09557979334098737\n",
      "for site category value: 76b2941d,  click through rate: 0.027559055118110236\n",
      "for site category value: c0dd3be3,  click through rate: 0.09545454545454546\n",
      "for site category value: 72722551,  click through rate: 0.06557377049180328\n"
     ]
    }
   ],
   "source": [
    "top10_categories = (train.site_category.value_counts()/len(train))[0:10].index\n",
    "click_avg_list=[]\n",
    "\n",
    "for i in top10_categories:\n",
    "    click_avg=train.loc[np.where((train.site_category == i))].click.mean()\n",
    "    click_avg_list.append(click_avg)\n",
    "    print(\"for site category value: {},  click through rate: {}\".format(i,click_avg))"
   ]
  },
  {
   "cell_type": "code",
   "execution_count": 48,
   "metadata": {},
   "outputs": [
    {
     "data": {
      "image/png": "[encoded data removed]",
      "text/plain": [
       "<Figure size 864x432 with 1 Axes>"
      ]
     },
     "metadata": {
      "needs_background": "light"
     },
     "output_type": "display_data"
    }
   ],
   "source": [
    "top10_category = train[(train.site_category.isin((train.site_category.value_counts()/len(train))[0:10].index))]\n",
    "top10_category_click = top10_category[top10_category['click'] == 1]\n",
    "top10_category.groupby(['site_category', 'click']).size().unstack().plot(kind='bar', figsize=(12,6), title='Top 10 site categories histogram');"
   ]
  },
  {
   "cell_type": "code",
   "execution_count": 49,
   "metadata": {},
   "outputs": [
    {
     "data": {
      "image/png": "[encoded data removed]",
      "text/plain": [
       "<Figure size 864x432 with 1 Axes>"
      ]
     },
     "metadata": {
      "needs_background": "light"
     },
     "output_type": "display_data"
    }
   ],
   "source": [
    "df_category = top10_category[['site_category','click']].groupby(['site_category']).count().reset_index()\n",
    "df_category = df_category.rename(columns={'click': 'impressions'})\n",
    "df_category['clicks'] = top10_category_click[['site_category','click']].groupby(['site_category']).count().reset_index()['click']\n",
    "df_category['CTR'] = df_category['clicks']/df_category['impressions']*100\n",
    "sort_category = df_category.sort_values(by='CTR',ascending=False)['site_category'].tolist()\n",
    "plt.figure(figsize=(12,6))\n",
    "sns.barplot(y='CTR', x='site_category', data=df_category, order=sort_category)\n",
    "plt.title('CTR by top 10 site category');"
   ]
  },
  {
   "cell_type": "markdown",
   "metadata": {},
   "source": [
    "### Device features\n",
    "\n",
    "#### device id"
   ]
  },
  {
   "cell_type": "code",
   "execution_count": 50,
   "metadata": {},
   "outputs": [
    {
     "name": "stdout",
     "output_type": "stream",
     "text": [
      "There are 150686 devices in the data set\n"
     ]
    }
   ],
   "source": [
    "print(\"There are {} devices in the data set\".format(train.device_id.nunique()))"
   ]
  },
  {
   "cell_type": "code",
   "execution_count": 51,
   "metadata": {},
   "outputs": [
    {
     "name": "stdout",
     "output_type": "stream",
     "text": [
      "The top 10 devices that have the most impressions\n",
      "a99f214a    0.824672\n",
      "0f7c61dc    0.000544\n",
      "c357dbff    0.000543\n",
      "936e92fb    0.000339\n",
      "afeffc18    0.000256\n",
      "987552d1    0.000110\n",
      "d857ffbb    0.000108\n",
      "cef4c8cc    0.000102\n",
      "28dc8687    0.000090\n",
      "b09da1c4    0.000082\n",
      "Name: device_id, dtype: float64\n"
     ]
    }
   ],
   "source": [
    "print('The top 10 devices that have the most impressions')\n",
    "print((train.device_id.value_counts()/len(train))[0:10])"
   ]
  },
  {
   "cell_type": "code",
   "execution_count": 52,
   "metadata": {},
   "outputs": [
    {
     "name": "stdout",
     "output_type": "stream",
     "text": [
      "for device id value: a99f214a,  click through rate: 0.1739576461914555\n",
      "for device id value: 0f7c61dc,  click through rate: 0.7555147058823529\n",
      "for device id value: c357dbff,  click through rate: 0.6243093922651933\n",
      "for device id value: 936e92fb,  click through rate: 0.058997050147492625\n",
      "for device id value: afeffc18,  click through rate: 0.2421875\n",
      "for device id value: 987552d1,  click through rate: 0.0\n",
      "for device id value: d857ffbb,  click through rate: 0.2222222222222222\n",
      "for device id value: cef4c8cc,  click through rate: 0.29411764705882354\n",
      "for device id value: 28dc8687,  click through rate: 0.0\n",
      "for device id value: b09da1c4,  click through rate: 0.13414634146341464\n"
     ]
    }
   ],
   "source": [
    "top10_devices = (train.device_id.value_counts()/len(train))[0:10].index\n",
    "click_avg_list=[]\n",
    "\n",
    "for i in top10_devices:\n",
    "    click_avg=train.loc[np.where((train.device_id == i))].click.mean()\n",
    "    click_avg_list.append(click_avg)\n",
    "    print(\"for device id value: {},  click through rate: {}\".format(i,click_avg))"
   ]
  },
  {
   "cell_type": "code",
   "execution_count": 53,
   "metadata": {},
   "outputs": [
    {
     "data": {
      "image/png": "[encoded data removed]",
      "text/plain": [
       "<Figure size 864x432 with 1 Axes>"
      ]
     },
     "metadata": {
      "needs_background": "light"
     },
     "output_type": "display_data"
    }
   ],
   "source": [
    "top10_device = train[(train.device_id.isin((train.device_id.value_counts()/len(train))[0:10].index))]\n",
    "top10_device_click = top10_device[top10_device['click'] == 1]\n",
    "top10_device.groupby(['device_id', 'click']).size().unstack().plot(kind='bar', figsize=(12,6), title='Top 10 device ids histogram');"
   ]
  },
  {
   "cell_type": "markdown",
   "metadata": {},
   "source": [
    "You will see that most of device_id is a99f214a : Approx. 83% of the data, and the second major device_id is only 0.05% of the data. And there are some extremely high CTR here with device id at 0f7c61dc."
   ]
  },
  {
   "cell_type": "markdown",
   "metadata": {},
   "source": [
    "#### device ip\n",
    "\n",
    "Device ip is more of a users ip address, so, there are a lot of them."
   ]
  },
  {
   "cell_type": "code",
   "execution_count": 54,
   "metadata": {},
   "outputs": [
    {
     "name": "stdout",
     "output_type": "stream",
     "text": [
      "There are 556355 device ips in the data set\n",
      "There are 4 device types in the data set\n",
      "There are 5145 device models in the data set\n",
      "There are 4 device cnn types in the data set\n"
     ]
    }
   ],
   "source": [
    "print(\"There are {} device ips in the data set\".format(train.device_ip.nunique()))\n",
    "print(\"There are {} device types in the data set\".format(train.device_type.nunique()))\n",
    "print(\"There are {} device models in the data set\".format(train.device_model.nunique()))\n",
    "print(\"There are {} device cnn types in the data set\".format(train.device_conn_type.nunique()))"
   ]
  },
  {
   "cell_type": "markdown",
   "metadata": {},
   "source": [
    "#### device type"
   ]
  },
  {
   "cell_type": "code",
   "execution_count": 55,
   "metadata": {},
   "outputs": [
    {
     "name": "stdout",
     "output_type": "stream",
     "text": [
      "The impressions by device types\n",
      "1    0.922758\n",
      "0    0.054841\n",
      "4    0.019201\n",
      "5    0.003200\n",
      "Name: device_type, dtype: float64\n"
     ]
    }
   ],
   "source": [
    "print('The impressions by device types')\n",
    "print((train.device_type.value_counts()/len(train)))"
   ]
  },
  {
   "cell_type": "code",
   "execution_count": 56,
   "metadata": {},
   "outputs": [
    {
     "data": {
      "image/png": "[encoded data removed]",
      "text/plain": [
       "<Figure size 432x288 with 1 Axes>"
      ]
     },
     "metadata": {
      "needs_background": "light"
     },
     "output_type": "display_data"
    }
   ],
   "source": [
    "train[['device_type','click']].groupby(['device_type','click']).size().unstack().plot(kind='bar', title='device types');"
   ]
  },
  {
   "cell_type": "markdown",
   "metadata": {},
   "source": [
    "Device type 1 gets the most impressions and clicks. And the other device types only get the minimum impressions and clicks. We may want to look in more details about device type 1. "
   ]
  },
  {
   "cell_type": "code",
   "execution_count": 57,
   "metadata": {
    "scrolled": false
   },
   "outputs": [
    {
     "data": {
      "image/png": "[encoded data removed]",
      "text/plain": [
       "<Figure size 864x432 with 1 Axes>"
      ]
     },
     "metadata": {
      "needs_background": "light"
     },
     "output_type": "display_data"
    }
   ],
   "source": [
    "df_click[df_click['device_type']==1].groupby(['hour_of_day', 'click']).size().unstack().plot(kind='bar', title=\"Clicks from device type 1 by hour of day\", figsize=(12,6));"
   ]
  },
  {
   "cell_type": "markdown",
   "metadata": {},
   "source": [
    "As expected, most clicks happened during the business hours from device type 1. device type is definitely an important feature. "
   ]
  },
  {
   "cell_type": "code",
   "execution_count": 58,
   "metadata": {},
   "outputs": [],
   "source": [
    "device_type_click = df_click.groupby('device_type').agg({'click':'sum'}).reset_index()\n",
    "device_type_impression = train.groupby('device_type').agg({'click':'count'}).reset_index().rename(columns={'click': 'impressions'})\n",
    "merged_device_type = pd.merge(left = device_type_click , right = device_type_impression, how = 'inner', on = 'device_type')"
   ]
  },
  {
   "cell_type": "code",
   "execution_count": 59,
   "metadata": {},
   "outputs": [],
   "source": [
    "merged_device_type['CTR'] = merged_device_type['click'] / merged_device_type['impressions']*100"
   ]
  },
  {
   "cell_type": "code",
   "execution_count": 60,
   "metadata": {},
   "outputs": [
    {
     "data": {
      "text/html": [
       "<div>\n",
       "<style scoped>\n",
       "    .dataframe tbody tr th:only-of-type {\n",
       "        vertical-align: middle;\n",
       "    }\n",
       "\n",
       "    .dataframe tbody tr th {\n",
       "        vertical-align: top;\n",
       "    }\n",
       "\n",
       "    .dataframe thead th {\n",
       "        text-align: right;\n",
       "    }\n",
       "</style>\n",
       "<table border=\"1\" class=\"dataframe\">\n",
       "  <thead>\n",
       "    <tr style=\"text-align: right;\">\n",
       "      <th></th>\n",
       "      <th>device_type</th>\n",
       "      <th>click</th>\n",
       "      <th>impressions</th>\n",
       "      <th>CTR</th>\n",
       "    </tr>\n",
       "  </thead>\n",
       "  <tbody>\n",
       "    <tr>\n",
       "      <th>0</th>\n",
       "      <td>0</td>\n",
       "      <td>11644</td>\n",
       "      <td>54841</td>\n",
       "      <td>21.232290</td>\n",
       "    </tr>\n",
       "    <tr>\n",
       "      <th>1</th>\n",
       "      <td>1</td>\n",
       "      <td>155822</td>\n",
       "      <td>922758</td>\n",
       "      <td>16.886551</td>\n",
       "    </tr>\n",
       "    <tr>\n",
       "      <th>2</th>\n",
       "      <td>4</td>\n",
       "      <td>1866</td>\n",
       "      <td>19201</td>\n",
       "      <td>9.718244</td>\n",
       "    </tr>\n",
       "    <tr>\n",
       "      <th>3</th>\n",
       "      <td>5</td>\n",
       "      <td>303</td>\n",
       "      <td>3200</td>\n",
       "      <td>9.468750</td>\n",
       "    </tr>\n",
       "  </tbody>\n",
       "</table>\n",
       "</div>"
      ],
      "text/plain": [
       "   device_type   click  impressions        CTR\n",
       "0            0   11644        54841  21.232290\n",
       "1            1  155822       922758  16.886551\n",
       "2            4    1866        19201   9.718244\n",
       "3            5     303         3200   9.468750"
      ]
     },
     "execution_count": 60,
     "metadata": {},
     "output_type": "execute_result"
    }
   ],
   "source": [
    "merged_device_type"
   ]
  },
  {
   "cell_type": "markdown",
   "metadata": {},
   "source": [
    "The highest CTR comes from device type 0."
   ]
  },
  {
   "cell_type": "markdown",
   "metadata": {},
   "source": [
    "#### app features"
   ]
  },
  {
   "cell_type": "code",
   "execution_count": 61,
   "metadata": {},
   "outputs": [
    {
     "name": "stdout",
     "output_type": "stream",
     "text": [
      "There are 3165 apps in the data set\n",
      "There are 184 app domains in the data set\n",
      "There are 27 app categories in the data set\n"
     ]
    }
   ],
   "source": [
    "print(\"There are {} apps in the data set\".format(train.app_id.nunique()))\n",
    "print(\"There are {} app domains in the data set\".format(train.app_domain.nunique()))\n",
    "print(\"There are {} app categories in the data set\".format(train.app_category.nunique()))"
   ]
  },
  {
   "cell_type": "markdown",
   "metadata": {},
   "source": [
    "Looks like app category something worth to explore."
   ]
  },
  {
   "cell_type": "code",
   "execution_count": 62,
   "metadata": {},
   "outputs": [
    {
     "name": "stdout",
     "output_type": "stream",
     "text": [
      "The impressions by app categories\n",
      "07d7df22    0.646864\n",
      "0f2161f8    0.236161\n",
      "cef3e649    0.043064\n",
      "8ded1f7a    0.036600\n",
      "f95efa07    0.028245\n",
      "d1327cf5    0.003117\n",
      "09481d60    0.001388\n",
      "dc97ec06    0.001309\n",
      "75d80bbe    0.001026\n",
      "fc6fa53d    0.000610\n",
      "4ce2e9fc    0.000501\n",
      "879c24eb    0.000336\n",
      "a3c42688    0.000293\n",
      "0f9a328c    0.000136\n",
      "4681bb9d    0.000132\n",
      "a86a3e89    0.000070\n",
      "2281a340    0.000065\n",
      "8df2e842    0.000030\n",
      "79f0b860    0.000012\n",
      "7113d72a    0.000008\n",
      "a7fd01ec    0.000008\n",
      "18b1e0be    0.000007\n",
      "0bfbc358    0.000007\n",
      "2fc4f2aa    0.000006\n",
      "5326cf99    0.000003\n",
      "bf8ac856    0.000001\n",
      "0d82db25    0.000001\n",
      "Name: app_category, dtype: float64\n"
     ]
    }
   ],
   "source": [
    "print('The impressions by app categories')\n",
    "print((train.app_category.value_counts()/len(train)))"
   ]
  },
  {
   "cell_type": "code",
   "execution_count": 63,
   "metadata": {},
   "outputs": [
    {
     "data": {
      "text/plain": [
       "<matplotlib.axes._subplots.AxesSubplot at 0x1ab62208>"
      ]
     },
     "execution_count": 63,
     "metadata": {},
     "output_type": "execute_result"
    },
    {
     "data": {
      "image/png": "[encoded data removed]",
      "text/plain": [
       "<Figure size 432x288 with 1 Axes>"
      ]
     },
     "metadata": {
      "needs_background": "light"
     },
     "output_type": "display_data"
    }
   ],
   "source": [
    "train['app_category'].value_counts().plot(kind='bar', title='App Category v/s Clicks')"
   ]
  },
  {
   "cell_type": "code",
   "execution_count": 64,
   "metadata": {},
   "outputs": [
    {
     "data": {
      "image/png": "[encoded data removed]",
      "text/plain": [
       "<Figure size 432x288 with 1 Axes>"
      ]
     },
     "metadata": {
      "needs_background": "light"
     },
     "output_type": "display_data"
    }
   ],
   "source": [
    "train_app_category = train.groupby(['app_category', 'click']).size().unstack()\n",
    "train_app_category.div(train_app_category.sum(axis=1), axis=0).plot(kind='bar', stacked=True, title=\"Intra-category CTR\");"
   ]
  },
  {
   "cell_type": "markdown",
   "metadata": {},
   "source": [
    "#### C14 - C21 features"
   ]
  },
  {
   "cell_type": "code",
   "execution_count": 65,
   "metadata": {},
   "outputs": [
    {
     "name": "stdout",
     "output_type": "stream",
     "text": [
      "There are 2246 C14 in the data set\n",
      "There are 8 C15 in the data set\n",
      "There are 9 C16 in the data set\n",
      "There are 421 C17 in the data set\n",
      "There are 4 C18 in the data set\n",
      "There are 65 C19 in the data set\n",
      "There are 164 C20 in the data set\n"
     ]
    }
   ],
   "source": [
    "print(\"There are {} C14 in the data set\".format(train.C14.nunique()))\n",
    "print(\"There are {} C15 in the data set\".format(train.C15.nunique()))\n",
    "print(\"There are {} C16 in the data set\".format(train.C16.nunique()))\n",
    "print(\"There are {} C17 in the data set\".format(train.C17.nunique()))\n",
    "print(\"There are {} C18 in the data set\".format(train.C18.nunique()))\n",
    "print(\"There are {} C19 in the data set\".format(train.C19.nunique()))\n",
    "print(\"There are {} C20 in the data set\".format(train.C20.nunique()))"
   ]
  },
  {
   "cell_type": "code",
   "execution_count": 66,
   "metadata": {},
   "outputs": [
    {
     "data": {
      "image/png": "[encoded data removed]",
      "text/plain": [
       "<Figure size 432x288 with 1 Axes>"
      ]
     },
     "metadata": {
      "needs_background": "light"
     },
     "output_type": "display_data"
    }
   ],
   "source": [
    "train.groupby(['C15', 'click']).size().unstack().plot(kind='bar', stacked=True, title='C15 distribution');"
   ]
  },
  {
   "cell_type": "code",
   "execution_count": 67,
   "metadata": {},
   "outputs": [
    {
     "data": {
      "image/png": "[encoded data removed]",
      "text/plain": [
       "<Figure size 432x288 with 1 Axes>"
      ]
     },
     "metadata": {
      "needs_background": "light"
     },
     "output_type": "display_data"
    }
   ],
   "source": [
    "train.groupby(['C16', 'click']).size().unstack().plot(kind='bar', stacked=True, title='C16 distribution');"
   ]
  },
  {
   "cell_type": "code",
   "execution_count": 68,
   "metadata": {},
   "outputs": [
    {
     "data": {
      "image/png": "[encoded data removed]",
      "text/plain": [
       "<Figure size 432x288 with 1 Axes>"
      ]
     },
     "metadata": {
      "needs_background": "light"
     },
     "output_type": "display_data"
    }
   ],
   "source": [
    "train.groupby(['C18', 'click']).size().unstack().plot(kind='bar', stacked=True, title='C18 distribution');"
   ]
  },
  {
   "cell_type": "code",
   "execution_count": 69,
   "metadata": {},
   "outputs": [
    {
     "data": {
      "text/html": [
       "<div>\n",
       "<style scoped>\n",
       "    .dataframe tbody tr th:only-of-type {\n",
       "        vertical-align: middle;\n",
       "    }\n",
       "\n",
       "    .dataframe tbody tr th {\n",
       "        vertical-align: top;\n",
       "    }\n",
       "\n",
       "    .dataframe thead th {\n",
       "        text-align: right;\n",
       "    }\n",
       "</style>\n",
       "<table border=\"1\" class=\"dataframe\">\n",
       "  <thead>\n",
       "    <tr style=\"text-align: right;\">\n",
       "      <th></th>\n",
       "      <th>id</th>\n",
       "      <th>click</th>\n",
       "      <th>hour</th>\n",
       "      <th>C1</th>\n",
       "      <th>banner_pos</th>\n",
       "      <th>site_id</th>\n",
       "      <th>site_domain</th>\n",
       "      <th>site_category</th>\n",
       "      <th>app_id</th>\n",
       "      <th>app_domain</th>\n",
       "      <th>...</th>\n",
       "      <th>C14</th>\n",
       "      <th>C15</th>\n",
       "      <th>C16</th>\n",
       "      <th>C17</th>\n",
       "      <th>C18</th>\n",
       "      <th>C19</th>\n",
       "      <th>C20</th>\n",
       "      <th>C21</th>\n",
       "      <th>hour_of_day</th>\n",
       "      <th>day_of_week</th>\n",
       "    </tr>\n",
       "  </thead>\n",
       "  <tbody>\n",
       "    <tr>\n",
       "      <th>0</th>\n",
       "      <td>-172049060</td>\n",
       "      <td>1</td>\n",
       "      <td>2014-10-21</td>\n",
       "      <td>1005</td>\n",
       "      <td>0</td>\n",
       "      <td>1fbe01fe</td>\n",
       "      <td>f3845767</td>\n",
       "      <td>28905ebd</td>\n",
       "      <td>ecad2386</td>\n",
       "      <td>7801e8d9</td>\n",
       "      <td>...</td>\n",
       "      <td>15707</td>\n",
       "      <td>320</td>\n",
       "      <td>50</td>\n",
       "      <td>1722</td>\n",
       "      <td>0</td>\n",
       "      <td>35</td>\n",
       "      <td>-1</td>\n",
       "      <td>79</td>\n",
       "      <td>0</td>\n",
       "      <td>Tuesday</td>\n",
       "    </tr>\n",
       "    <tr>\n",
       "      <th>1</th>\n",
       "      <td>701479546</td>\n",
       "      <td>0</td>\n",
       "      <td>2014-10-21</td>\n",
       "      <td>1005</td>\n",
       "      <td>1</td>\n",
       "      <td>5b4d2eda</td>\n",
       "      <td>16a36ef3</td>\n",
       "      <td>f028772b</td>\n",
       "      <td>ecad2386</td>\n",
       "      <td>7801e8d9</td>\n",
       "      <td>...</td>\n",
       "      <td>20362</td>\n",
       "      <td>320</td>\n",
       "      <td>50</td>\n",
       "      <td>2333</td>\n",
       "      <td>0</td>\n",
       "      <td>39</td>\n",
       "      <td>100076</td>\n",
       "      <td>157</td>\n",
       "      <td>0</td>\n",
       "      <td>Tuesday</td>\n",
       "    </tr>\n",
       "    <tr>\n",
       "      <th>2</th>\n",
       "      <td>1192804959</td>\n",
       "      <td>0</td>\n",
       "      <td>2014-10-21</td>\n",
       "      <td>1005</td>\n",
       "      <td>0</td>\n",
       "      <td>543a539e</td>\n",
       "      <td>c7ca3108</td>\n",
       "      <td>3e814130</td>\n",
       "      <td>ecad2386</td>\n",
       "      <td>7801e8d9</td>\n",
       "      <td>...</td>\n",
       "      <td>20362</td>\n",
       "      <td>320</td>\n",
       "      <td>50</td>\n",
       "      <td>2333</td>\n",
       "      <td>0</td>\n",
       "      <td>39</td>\n",
       "      <td>-1</td>\n",
       "      <td>157</td>\n",
       "      <td>0</td>\n",
       "      <td>Tuesday</td>\n",
       "    </tr>\n",
       "  </tbody>\n",
       "</table>\n",
       "<p>3 rows × 26 columns</p>\n",
       "</div>"
      ],
      "text/plain": [
       "           id  click       hour    C1  banner_pos   site_id site_domain  \\\n",
       "0  -172049060      1 2014-10-21  1005           0  1fbe01fe    f3845767   \n",
       "1   701479546      0 2014-10-21  1005           1  5b4d2eda    16a36ef3   \n",
       "2  1192804959      0 2014-10-21  1005           0  543a539e    c7ca3108   \n",
       "\n",
       "  site_category    app_id app_domain     ...         C14  C15 C16   C17  C18  \\\n",
       "0      28905ebd  ecad2386   7801e8d9     ...       15707  320  50  1722    0   \n",
       "1      f028772b  ecad2386   7801e8d9     ...       20362  320  50  2333    0   \n",
       "2      3e814130  ecad2386   7801e8d9     ...       20362  320  50  2333    0   \n",
       "\n",
       "   C19     C20  C21  hour_of_day  day_of_week  \n",
       "0   35      -1   79            0      Tuesday  \n",
       "1   39  100076  157            0      Tuesday  \n",
       "2   39      -1  157            0      Tuesday  \n",
       "\n",
       "[3 rows x 26 columns]"
      ]
     },
     "execution_count": 69,
     "metadata": {},
     "output_type": "execute_result"
    }
   ],
   "source": [
    "train.head(3)"
   ]
  },
  {
   "cell_type": "code",
   "execution_count": 70,
   "metadata": {},
   "outputs": [],
   "source": [
    "def convert_obj_to_int(self):\n",
    "    \n",
    "    object_list_columns = self.columns\n",
    "    object_list_dtypes = self.dtypes\n",
    "    new_col_suffix = '_int'\n",
    "    for index in range(0,len(object_list_columns)):\n",
    "        if object_list_dtypes[index] == object :\n",
    "            self[object_list_columns[index]+new_col_suffix] = self[object_list_columns[index]].map( lambda  x: hash(x))\n",
    "            self.drop([object_list_columns[index]],inplace=True,axis=1)\n",
    "    return self\n",
    "train = convert_obj_to_int(train)"
   ]
  },
  {
   "cell_type": "code",
   "execution_count": 72,
   "metadata": {},
   "outputs": [
    {
     "data": {
      "text/html": [
       "<div>\n",
       "<style scoped>\n",
       "    .dataframe tbody tr th:only-of-type {\n",
       "        vertical-align: middle;\n",
       "    }\n",
       "\n",
       "    .dataframe tbody tr th {\n",
       "        vertical-align: top;\n",
       "    }\n",
       "\n",
       "    .dataframe thead th {\n",
       "        text-align: right;\n",
       "    }\n",
       "</style>\n",
       "<table border=\"1\" class=\"dataframe\">\n",
       "  <thead>\n",
       "    <tr style=\"text-align: right;\">\n",
       "      <th></th>\n",
       "      <th>id</th>\n",
       "      <th>click</th>\n",
       "      <th>hour</th>\n",
       "      <th>C1</th>\n",
       "      <th>banner_pos</th>\n",
       "      <th>device_type</th>\n",
       "      <th>device_conn_type</th>\n",
       "      <th>C14</th>\n",
       "      <th>C15</th>\n",
       "      <th>C16</th>\n",
       "      <th>...</th>\n",
       "      <th>site_id_int</th>\n",
       "      <th>site_domain_int</th>\n",
       "      <th>site_category_int</th>\n",
       "      <th>app_id_int</th>\n",
       "      <th>app_domain_int</th>\n",
       "      <th>app_category_int</th>\n",
       "      <th>device_id_int</th>\n",
       "      <th>device_ip_int</th>\n",
       "      <th>device_model_int</th>\n",
       "      <th>day_of_week_int</th>\n",
       "    </tr>\n",
       "  </thead>\n",
       "  <tbody>\n",
       "    <tr>\n",
       "      <th>0</th>\n",
       "      <td>-172049060</td>\n",
       "      <td>1</td>\n",
       "      <td>2014-10-21</td>\n",
       "      <td>1005</td>\n",
       "      <td>0</td>\n",
       "      <td>1</td>\n",
       "      <td>2</td>\n",
       "      <td>15707</td>\n",
       "      <td>320</td>\n",
       "      <td>50</td>\n",
       "      <td>...</td>\n",
       "      <td>-4278536047757177122</td>\n",
       "      <td>-5877314321906843977</td>\n",
       "      <td>1164242579765219336</td>\n",
       "      <td>700275635474601917</td>\n",
       "      <td>2543806775940094785</td>\n",
       "      <td>-5313447755651138682</td>\n",
       "      <td>3433051248074980704</td>\n",
       "      <td>4968346081219947287</td>\n",
       "      <td>-3610471015970854311</td>\n",
       "      <td>-9045308006594608728</td>\n",
       "    </tr>\n",
       "    <tr>\n",
       "      <th>1</th>\n",
       "      <td>701479546</td>\n",
       "      <td>0</td>\n",
       "      <td>2014-10-21</td>\n",
       "      <td>1005</td>\n",
       "      <td>1</td>\n",
       "      <td>1</td>\n",
       "      <td>0</td>\n",
       "      <td>20362</td>\n",
       "      <td>320</td>\n",
       "      <td>50</td>\n",
       "      <td>...</td>\n",
       "      <td>6852104900042245697</td>\n",
       "      <td>-8568657498357606367</td>\n",
       "      <td>-7831981431746288071</td>\n",
       "      <td>700275635474601917</td>\n",
       "      <td>2543806775940094785</td>\n",
       "      <td>-5313447755651138682</td>\n",
       "      <td>3433051248074980704</td>\n",
       "      <td>-4992263366708819401</td>\n",
       "      <td>8951889793082021818</td>\n",
       "      <td>-9045308006594608728</td>\n",
       "    </tr>\n",
       "    <tr>\n",
       "      <th>2</th>\n",
       "      <td>1192804959</td>\n",
       "      <td>0</td>\n",
       "      <td>2014-10-21</td>\n",
       "      <td>1005</td>\n",
       "      <td>0</td>\n",
       "      <td>1</td>\n",
       "      <td>0</td>\n",
       "      <td>20362</td>\n",
       "      <td>320</td>\n",
       "      <td>50</td>\n",
       "      <td>...</td>\n",
       "      <td>-1856578371827726122</td>\n",
       "      <td>-3039273878892128088</td>\n",
       "      <td>-4396179870148682145</td>\n",
       "      <td>700275635474601917</td>\n",
       "      <td>2543806775940094785</td>\n",
       "      <td>-5313447755651138682</td>\n",
       "      <td>3433051248074980704</td>\n",
       "      <td>3175177392430799516</td>\n",
       "      <td>-6351974479292244473</td>\n",
       "      <td>-9045308006594608728</td>\n",
       "    </tr>\n",
       "  </tbody>\n",
       "</table>\n",
       "<p>3 rows × 26 columns</p>\n",
       "</div>"
      ],
      "text/plain": [
       "           id  click       hour    C1  banner_pos  device_type  \\\n",
       "0  -172049060      1 2014-10-21  1005           0            1   \n",
       "1   701479546      0 2014-10-21  1005           1            1   \n",
       "2  1192804959      0 2014-10-21  1005           0            1   \n",
       "\n",
       "   device_conn_type    C14  C15  C16         ...           \\\n",
       "0                 2  15707  320   50         ...            \n",
       "1                 0  20362  320   50         ...            \n",
       "2                 0  20362  320   50         ...            \n",
       "\n",
       "           site_id_int      site_domain_int    site_category_int  \\\n",
       "0 -4278536047757177122 -5877314321906843977  1164242579765219336   \n",
       "1  6852104900042245697 -8568657498357606367 -7831981431746288071   \n",
       "2 -1856578371827726122 -3039273878892128088 -4396179870148682145   \n",
       "\n",
       "           app_id_int       app_domain_int     app_category_int  \\\n",
       "0  700275635474601917  2543806775940094785 -5313447755651138682   \n",
       "1  700275635474601917  2543806775940094785 -5313447755651138682   \n",
       "2  700275635474601917  2543806775940094785 -5313447755651138682   \n",
       "\n",
       "         device_id_int        device_ip_int     device_model_int  \\\n",
       "0  3433051248074980704  4968346081219947287 -3610471015970854311   \n",
       "1  3433051248074980704 -4992263366708819401  8951889793082021818   \n",
       "2  3433051248074980704  3175177392430799516 -6351974479292244473   \n",
       "\n",
       "       day_of_week_int  \n",
       "0 -9045308006594608728  \n",
       "1 -9045308006594608728  \n",
       "2 -9045308006594608728  \n",
       "\n",
       "[3 rows x 26 columns]"
      ]
     },
     "execution_count": 72,
     "metadata": {},
     "output_type": "execute_result"
    }
   ],
   "source": [
    "train.head(3)"
   ]
  },
  {
   "cell_type": "code",
   "execution_count": 73,
   "metadata": {},
   "outputs": [],
   "source": [
    "train.drop('hour', axis=1, inplace=True)"
   ]
  },
  {
   "cell_type": "code",
   "execution_count": 74,
   "metadata": {},
   "outputs": [],
   "source": [
    "train.drop('id', axis=1, inplace=True)"
   ]
  },
  {
   "cell_type": "code",
   "execution_count": 76,
   "metadata": {},
   "outputs": [],
   "source": [
    "X_train = train.loc[:, train.columns != 'click']\n",
    "y_target = train.click.values\n",
    "#create lightgbm dataset\n",
    "msk = np.random.rand(len(X_train)) < 0.8\n",
    "lgb_train = lgb.Dataset(X_train[msk], y_target[msk])\n",
    "lgb_eval = lgb.Dataset(X_train[~msk], y_target[~msk], reference=lgb_train)"
   ]
  },
  {
   "cell_type": "code",
   "execution_count": 77,
   "metadata": {
    "scrolled": false
   },
   "outputs": [
    {
     "name": "stdout",
     "output_type": "stream",
     "text": [
      "Start training...\n",
      "[1]\tvalid_0's binary_logloss: 0.656592\n",
      "Train until valid scores didn't improve in 500 rounds.\n",
      "[2]\tvalid_0's binary_logloss: 0.625576\n",
      "[3]\tvalid_0's binary_logloss: 0.598858\n",
      "[4]\tvalid_0's binary_logloss: 0.575842\n",
      "[5]\tvalid_0's binary_logloss: 0.556048\n",
      "[6]\tvalid_0's binary_logloss: 0.538707\n",
      "[7]\tvalid_0's binary_logloss: 0.523649\n",
      "[8]\tvalid_0's binary_logloss: 0.510531\n",
      "[9]\tvalid_0's binary_logloss: 0.499084\n",
      "[10]\tvalid_0's binary_logloss: 0.488981\n",
      "[11]\tvalid_0's binary_logloss: 0.480036\n",
      "[12]\tvalid_0's binary_logloss: 0.47231\n",
      "[13]\tvalid_0's binary_logloss: 0.465413\n",
      "[14]\tvalid_0's binary_logloss: 0.459141\n",
      "[15]\tvalid_0's binary_logloss: 0.453638\n",
      "[16]\tvalid_0's binary_logloss: 0.448932\n",
      "[17]\tvalid_0's binary_logloss: 0.444779\n",
      "[18]\tvalid_0's binary_logloss: 0.441097\n",
      "[19]\tvalid_0's binary_logloss: 0.437846\n",
      "[20]\tvalid_0's binary_logloss: 0.43503\n",
      "[21]\tvalid_0's binary_logloss: 0.43246\n",
      "[22]\tvalid_0's binary_logloss: 0.430195\n",
      "[23]\tvalid_0's binary_logloss: 0.428119\n",
      "[24]\tvalid_0's binary_logloss: 0.426226\n",
      "[25]\tvalid_0's binary_logloss: 0.424598\n",
      "[26]\tvalid_0's binary_logloss: 0.422982\n",
      "[27]\tvalid_0's binary_logloss: 0.421734\n",
      "[28]\tvalid_0's binary_logloss: 0.420502\n",
      "[29]\tvalid_0's binary_logloss: 0.419265\n",
      "[30]\tvalid_0's binary_logloss: 0.41835\n",
      "[31]\tvalid_0's binary_logloss: 0.417527\n",
      "[32]\tvalid_0's binary_logloss: 0.416789\n",
      "[33]\tvalid_0's binary_logloss: 0.416059\n",
      "[34]\tvalid_0's binary_logloss: 0.415453\n",
      "[35]\tvalid_0's binary_logloss: 0.414839\n",
      "[36]\tvalid_0's binary_logloss: 0.414314\n",
      "[37]\tvalid_0's binary_logloss: 0.413723\n",
      "[38]\tvalid_0's binary_logloss: 0.413134\n",
      "[39]\tvalid_0's binary_logloss: 0.412732\n",
      "[40]\tvalid_0's binary_logloss: 0.41216\n",
      "[41]\tvalid_0's binary_logloss: 0.411884\n",
      "[42]\tvalid_0's binary_logloss: 0.411568\n",
      "[43]\tvalid_0's binary_logloss: 0.411271\n",
      "[44]\tvalid_0's binary_logloss: 0.411014\n",
      "[45]\tvalid_0's binary_logloss: 0.410809\n",
      "[46]\tvalid_0's binary_logloss: 0.410511\n",
      "[47]\tvalid_0's binary_logloss: 0.410269\n",
      "[48]\tvalid_0's binary_logloss: 0.410015\n",
      "[49]\tvalid_0's binary_logloss: 0.409806\n",
      "[50]\tvalid_0's binary_logloss: 0.409564\n",
      "[51]\tvalid_0's binary_logloss: 0.409352\n",
      "[52]\tvalid_0's binary_logloss: 0.409148\n",
      "[53]\tvalid_0's binary_logloss: 0.408973\n",
      "[54]\tvalid_0's binary_logloss: 0.40883\n",
      "[55]\tvalid_0's binary_logloss: 0.408614\n",
      "[56]\tvalid_0's binary_logloss: 0.408435\n",
      "[57]\tvalid_0's binary_logloss: 0.408293\n",
      "[58]\tvalid_0's binary_logloss: 0.408169\n",
      "[59]\tvalid_0's binary_logloss: 0.40805\n",
      "[60]\tvalid_0's binary_logloss: 0.407919\n",
      "[61]\tvalid_0's binary_logloss: 0.407801\n",
      "[62]\tvalid_0's binary_logloss: 0.40763\n",
      "[63]\tvalid_0's binary_logloss: 0.407479\n",
      "[64]\tvalid_0's binary_logloss: 0.407392\n",
      "[65]\tvalid_0's binary_logloss: 0.407263\n",
      "[66]\tvalid_0's binary_logloss: 0.407142\n",
      "[67]\tvalid_0's binary_logloss: 0.407021\n",
      "[68]\tvalid_0's binary_logloss: 0.40695\n",
      "[69]\tvalid_0's binary_logloss: 0.406857\n",
      "[70]\tvalid_0's binary_logloss: 0.406791\n",
      "[71]\tvalid_0's binary_logloss: 0.406696\n",
      "[72]\tvalid_0's binary_logloss: 0.406625\n",
      "[73]\tvalid_0's binary_logloss: 0.40651\n",
      "[74]\tvalid_0's binary_logloss: 0.406411\n",
      "[75]\tvalid_0's binary_logloss: 0.406341\n",
      "[76]\tvalid_0's binary_logloss: 0.406282\n",
      "[77]\tvalid_0's binary_logloss: 0.406212\n",
      "[78]\tvalid_0's binary_logloss: 0.40616\n",
      "[79]\tvalid_0's binary_logloss: 0.406077\n",
      "[80]\tvalid_0's binary_logloss: 0.406062\n",
      "[81]\tvalid_0's binary_logloss: 0.406021\n",
      "[82]\tvalid_0's binary_logloss: 0.405985\n",
      "[83]\tvalid_0's binary_logloss: 0.405924\n",
      "[84]\tvalid_0's binary_logloss: 0.405903\n",
      "[85]\tvalid_0's binary_logloss: 0.405861\n",
      "[86]\tvalid_0's binary_logloss: 0.405806\n",
      "[87]\tvalid_0's binary_logloss: 0.405732\n",
      "[88]\tvalid_0's binary_logloss: 0.40569\n",
      "[89]\tvalid_0's binary_logloss: 0.405653\n",
      "[90]\tvalid_0's binary_logloss: 0.405634\n",
      "[91]\tvalid_0's binary_logloss: 0.405561\n",
      "[92]\tvalid_0's binary_logloss: 0.405519\n",
      "[93]\tvalid_0's binary_logloss: 0.405479\n",
      "[94]\tvalid_0's binary_logloss: 0.405372\n",
      "[95]\tvalid_0's binary_logloss: 0.405329\n",
      "[96]\tvalid_0's binary_logloss: 0.40526\n",
      "[97]\tvalid_0's binary_logloss: 0.405171\n",
      "[98]\tvalid_0's binary_logloss: 0.405085\n",
      "[99]\tvalid_0's binary_logloss: 0.405045\n",
      "[100]\tvalid_0's binary_logloss: 0.405013\n",
      "[101]\tvalid_0's binary_logloss: 0.404872\n",
      "[102]\tvalid_0's binary_logloss: 0.404773\n",
      "[103]\tvalid_0's binary_logloss: 0.404617\n",
      "[104]\tvalid_0's binary_logloss: 0.404515\n",
      "[105]\tvalid_0's binary_logloss: 0.404393\n",
      "[106]\tvalid_0's binary_logloss: 0.404289\n",
      "[107]\tvalid_0's binary_logloss: 0.404217\n",
      "[108]\tvalid_0's binary_logloss: 0.404137\n",
      "[109]\tvalid_0's binary_logloss: 0.404098\n",
      "[110]\tvalid_0's binary_logloss: 0.404041\n",
      "[111]\tvalid_0's binary_logloss: 0.403965\n",
      "[112]\tvalid_0's binary_logloss: 0.403955\n",
      "[113]\tvalid_0's binary_logloss: 0.40392\n",
      "[114]\tvalid_0's binary_logloss: 0.403886\n",
      "[115]\tvalid_0's binary_logloss: 0.403824\n",
      "[116]\tvalid_0's binary_logloss: 0.403794\n",
      "[117]\tvalid_0's binary_logloss: 0.403769\n",
      "[118]\tvalid_0's binary_logloss: 0.403757\n",
      "[119]\tvalid_0's binary_logloss: 0.403721\n",
      "[120]\tvalid_0's binary_logloss: 0.403688\n",
      "[121]\tvalid_0's binary_logloss: 0.403642\n",
      "[122]\tvalid_0's binary_logloss: 0.403622\n",
      "[123]\tvalid_0's binary_logloss: 0.403572\n",
      "[124]\tvalid_0's binary_logloss: 0.403537\n",
      "[125]\tvalid_0's binary_logloss: 0.403491\n",
      "[126]\tvalid_0's binary_logloss: 0.403456\n",
      "[127]\tvalid_0's binary_logloss: 0.403397\n",
      "[128]\tvalid_0's binary_logloss: 0.403378\n",
      "[129]\tvalid_0's binary_logloss: 0.403345\n",
      "[130]\tvalid_0's binary_logloss: 0.403296\n",
      "[131]\tvalid_0's binary_logloss: 0.403278\n",
      "[132]\tvalid_0's binary_logloss: 0.403249\n",
      "[133]\tvalid_0's binary_logloss: 0.403229\n",
      "[134]\tvalid_0's binary_logloss: 0.403223\n",
      "[135]\tvalid_0's binary_logloss: 0.403198\n",
      "[136]\tvalid_0's binary_logloss: 0.403174\n",
      "[137]\tvalid_0's binary_logloss: 0.403155\n",
      "[138]\tvalid_0's binary_logloss: 0.403142\n",
      "[139]\tvalid_0's binary_logloss: 0.40313\n",
      "[140]\tvalid_0's binary_logloss: 0.403115\n",
      "[141]\tvalid_0's binary_logloss: 0.403096\n",
      "[142]\tvalid_0's binary_logloss: 0.403058\n",
      "[143]\tvalid_0's binary_logloss: 0.403025\n",
      "[144]\tvalid_0's binary_logloss: 0.403002\n",
      "[145]\tvalid_0's binary_logloss: 0.402994\n",
      "[146]\tvalid_0's binary_logloss: 0.402988\n",
      "[147]\tvalid_0's binary_logloss: 0.402976\n",
      "[148]\tvalid_0's binary_logloss: 0.40295\n",
      "[149]\tvalid_0's binary_logloss: 0.402925\n",
      "[150]\tvalid_0's binary_logloss: 0.402866\n",
      "[151]\tvalid_0's binary_logloss: 0.40281\n",
      "[152]\tvalid_0's binary_logloss: 0.402784\n",
      "[153]\tvalid_0's binary_logloss: 0.402728\n",
      "[154]\tvalid_0's binary_logloss: 0.402696\n",
      "[155]\tvalid_0's binary_logloss: 0.402681\n",
      "[156]\tvalid_0's binary_logloss: 0.402669\n",
      "[157]\tvalid_0's binary_logloss: 0.402647\n",
      "[158]\tvalid_0's binary_logloss: 0.402644\n",
      "[159]\tvalid_0's binary_logloss: 0.402645\n",
      "[160]\tvalid_0's binary_logloss: 0.402617\n",
      "[161]\tvalid_0's binary_logloss: 0.402579\n",
      "[162]\tvalid_0's binary_logloss: 0.402492\n",
      "[163]\tvalid_0's binary_logloss: 0.402452\n",
      "[164]\tvalid_0's binary_logloss: 0.402439\n",
      "[165]\tvalid_0's binary_logloss: 0.402416\n",
      "[166]\tvalid_0's binary_logloss: 0.402408\n",
      "[167]\tvalid_0's binary_logloss: 0.402393\n",
      "[168]\tvalid_0's binary_logloss: 0.402377\n",
      "[169]\tvalid_0's binary_logloss: 0.402314\n",
      "[170]\tvalid_0's binary_logloss: 0.402259\n",
      "[171]\tvalid_0's binary_logloss: 0.402225\n",
      "[172]\tvalid_0's binary_logloss: 0.402223\n",
      "[173]\tvalid_0's binary_logloss: 0.402209\n",
      "[174]\tvalid_0's binary_logloss: 0.40221\n",
      "[175]\tvalid_0's binary_logloss: 0.4022\n",
      "[176]\tvalid_0's binary_logloss: 0.40217\n",
      "[177]\tvalid_0's binary_logloss: 0.402129\n",
      "[178]\tvalid_0's binary_logloss: 0.40212\n",
      "[179]\tvalid_0's binary_logloss: 0.402092\n",
      "[180]\tvalid_0's binary_logloss: 0.402065\n",
      "[181]\tvalid_0's binary_logloss: 0.402026\n",
      "[182]\tvalid_0's binary_logloss: 0.401994\n",
      "[183]\tvalid_0's binary_logloss: 0.401971\n",
      "[184]\tvalid_0's binary_logloss: 0.401969\n",
      "[185]\tvalid_0's binary_logloss: 0.401935\n",
      "[186]\tvalid_0's binary_logloss: 0.401895\n",
      "[187]\tvalid_0's binary_logloss: 0.401881\n",
      "[188]\tvalid_0's binary_logloss: 0.401809\n",
      "[189]\tvalid_0's binary_logloss: 0.401803\n",
      "[190]\tvalid_0's binary_logloss: 0.401797\n",
      "[191]\tvalid_0's binary_logloss: 0.401791\n",
      "[192]\tvalid_0's binary_logloss: 0.401755\n",
      "[193]\tvalid_0's binary_logloss: 0.401716\n",
      "[194]\tvalid_0's binary_logloss: 0.401713\n",
      "[195]\tvalid_0's binary_logloss: 0.401694\n",
      "[196]\tvalid_0's binary_logloss: 0.401692\n",
      "[197]\tvalid_0's binary_logloss: 0.401681\n",
      "[198]\tvalid_0's binary_logloss: 0.401671\n",
      "[199]\tvalid_0's binary_logloss: 0.401598\n",
      "[200]\tvalid_0's binary_logloss: 0.401577\n",
      "[201]\tvalid_0's binary_logloss: 0.401557\n",
      "[202]\tvalid_0's binary_logloss: 0.401534\n"
     ]
    },
    {
     "name": "stdout",
     "output_type": "stream",
     "text": [
      "[203]\tvalid_0's binary_logloss: 0.401517\n",
      "[204]\tvalid_0's binary_logloss: 0.401511\n",
      "[205]\tvalid_0's binary_logloss: 0.401502\n",
      "[206]\tvalid_0's binary_logloss: 0.401474\n",
      "[207]\tvalid_0's binary_logloss: 0.401459\n",
      "[208]\tvalid_0's binary_logloss: 0.401457\n",
      "[209]\tvalid_0's binary_logloss: 0.40141\n",
      "[210]\tvalid_0's binary_logloss: 0.401401\n",
      "[211]\tvalid_0's binary_logloss: 0.401371\n",
      "[212]\tvalid_0's binary_logloss: 0.401356\n",
      "[213]\tvalid_0's binary_logloss: 0.401338\n",
      "[214]\tvalid_0's binary_logloss: 0.401333\n",
      "[215]\tvalid_0's binary_logloss: 0.401317\n",
      "[216]\tvalid_0's binary_logloss: 0.401311\n",
      "[217]\tvalid_0's binary_logloss: 0.401282\n",
      "[218]\tvalid_0's binary_logloss: 0.401249\n",
      "[219]\tvalid_0's binary_logloss: 0.401253\n",
      "[220]\tvalid_0's binary_logloss: 0.401253\n",
      "[221]\tvalid_0's binary_logloss: 0.401239\n",
      "[222]\tvalid_0's binary_logloss: 0.40121\n",
      "[223]\tvalid_0's binary_logloss: 0.401182\n",
      "[224]\tvalid_0's binary_logloss: 0.401179\n",
      "[225]\tvalid_0's binary_logloss: 0.401173\n",
      "[226]\tvalid_0's binary_logloss: 0.40115\n",
      "[227]\tvalid_0's binary_logloss: 0.401131\n",
      "[228]\tvalid_0's binary_logloss: 0.40113\n",
      "[229]\tvalid_0's binary_logloss: 0.401122\n",
      "[230]\tvalid_0's binary_logloss: 0.401105\n",
      "[231]\tvalid_0's binary_logloss: 0.401107\n",
      "[232]\tvalid_0's binary_logloss: 0.401096\n",
      "[233]\tvalid_0's binary_logloss: 0.401089\n",
      "[234]\tvalid_0's binary_logloss: 0.401067\n",
      "[235]\tvalid_0's binary_logloss: 0.40107\n",
      "[236]\tvalid_0's binary_logloss: 0.401061\n",
      "[237]\tvalid_0's binary_logloss: 0.401052\n",
      "[238]\tvalid_0's binary_logloss: 0.401052\n",
      "[239]\tvalid_0's binary_logloss: 0.401052\n",
      "[240]\tvalid_0's binary_logloss: 0.401053\n",
      "[241]\tvalid_0's binary_logloss: 0.401029\n",
      "[242]\tvalid_0's binary_logloss: 0.401019\n",
      "[243]\tvalid_0's binary_logloss: 0.401006\n",
      "[244]\tvalid_0's binary_logloss: 0.401004\n",
      "[245]\tvalid_0's binary_logloss: 0.400993\n",
      "[246]\tvalid_0's binary_logloss: 0.400986\n",
      "[247]\tvalid_0's binary_logloss: 0.400976\n",
      "[248]\tvalid_0's binary_logloss: 0.400936\n",
      "[249]\tvalid_0's binary_logloss: 0.400936\n",
      "[250]\tvalid_0's binary_logloss: 0.400927\n",
      "[251]\tvalid_0's binary_logloss: 0.400921\n",
      "[252]\tvalid_0's binary_logloss: 0.400905\n",
      "[253]\tvalid_0's binary_logloss: 0.400893\n",
      "[254]\tvalid_0's binary_logloss: 0.400881\n",
      "[255]\tvalid_0's binary_logloss: 0.400874\n",
      "[256]\tvalid_0's binary_logloss: 0.40085\n",
      "[257]\tvalid_0's binary_logloss: 0.400843\n",
      "[258]\tvalid_0's binary_logloss: 0.400839\n",
      "[259]\tvalid_0's binary_logloss: 0.400837\n",
      "[260]\tvalid_0's binary_logloss: 0.400821\n",
      "[261]\tvalid_0's binary_logloss: 0.400817\n",
      "[262]\tvalid_0's binary_logloss: 0.400823\n",
      "[263]\tvalid_0's binary_logloss: 0.400811\n",
      "[264]\tvalid_0's binary_logloss: 0.400816\n",
      "[265]\tvalid_0's binary_logloss: 0.400813\n",
      "[266]\tvalid_0's binary_logloss: 0.400812\n",
      "[267]\tvalid_0's binary_logloss: 0.400812\n",
      "[268]\tvalid_0's binary_logloss: 0.400814\n",
      "[269]\tvalid_0's binary_logloss: 0.400812\n",
      "[270]\tvalid_0's binary_logloss: 0.400801\n",
      "[271]\tvalid_0's binary_logloss: 0.400791\n",
      "[272]\tvalid_0's binary_logloss: 0.400773\n",
      "[273]\tvalid_0's binary_logloss: 0.400776\n",
      "[274]\tvalid_0's binary_logloss: 0.40078\n",
      "[275]\tvalid_0's binary_logloss: 0.400778\n",
      "[276]\tvalid_0's binary_logloss: 0.400773\n",
      "[277]\tvalid_0's binary_logloss: 0.400772\n",
      "[278]\tvalid_0's binary_logloss: 0.400765\n",
      "[279]\tvalid_0's binary_logloss: 0.400759\n",
      "[280]\tvalid_0's binary_logloss: 0.400748\n",
      "[281]\tvalid_0's binary_logloss: 0.400749\n",
      "[282]\tvalid_0's binary_logloss: 0.40073\n",
      "[283]\tvalid_0's binary_logloss: 0.400723\n",
      "[284]\tvalid_0's binary_logloss: 0.400725\n",
      "[285]\tvalid_0's binary_logloss: 0.400716\n",
      "[286]\tvalid_0's binary_logloss: 0.40068\n",
      "[287]\tvalid_0's binary_logloss: 0.400662\n",
      "[288]\tvalid_0's binary_logloss: 0.400657\n",
      "[289]\tvalid_0's binary_logloss: 0.400651\n",
      "[290]\tvalid_0's binary_logloss: 0.400633\n",
      "[291]\tvalid_0's binary_logloss: 0.400618\n",
      "[292]\tvalid_0's binary_logloss: 0.400612\n",
      "[293]\tvalid_0's binary_logloss: 0.400597\n",
      "[294]\tvalid_0's binary_logloss: 0.400594\n",
      "[295]\tvalid_0's binary_logloss: 0.40059\n",
      "[296]\tvalid_0's binary_logloss: 0.400584\n",
      "[297]\tvalid_0's binary_logloss: 0.400586\n",
      "[298]\tvalid_0's binary_logloss: 0.400581\n",
      "[299]\tvalid_0's binary_logloss: 0.40058\n",
      "[300]\tvalid_0's binary_logloss: 0.400586\n",
      "[301]\tvalid_0's binary_logloss: 0.40057\n",
      "[302]\tvalid_0's binary_logloss: 0.400559\n",
      "[303]\tvalid_0's binary_logloss: 0.400527\n",
      "[304]\tvalid_0's binary_logloss: 0.400534\n",
      "[305]\tvalid_0's binary_logloss: 0.40053\n",
      "[306]\tvalid_0's binary_logloss: 0.400512\n",
      "[307]\tvalid_0's binary_logloss: 0.400494\n",
      "[308]\tvalid_0's binary_logloss: 0.400459\n",
      "[309]\tvalid_0's binary_logloss: 0.400455\n",
      "[310]\tvalid_0's binary_logloss: 0.400452\n",
      "[311]\tvalid_0's binary_logloss: 0.400445\n",
      "[312]\tvalid_0's binary_logloss: 0.400454\n",
      "[313]\tvalid_0's binary_logloss: 0.400441\n",
      "[314]\tvalid_0's binary_logloss: 0.400457\n",
      "[315]\tvalid_0's binary_logloss: 0.40045\n",
      "[316]\tvalid_0's binary_logloss: 0.40043\n",
      "[317]\tvalid_0's binary_logloss: 0.400412\n",
      "[318]\tvalid_0's binary_logloss: 0.40037\n",
      "[319]\tvalid_0's binary_logloss: 0.400358\n",
      "[320]\tvalid_0's binary_logloss: 0.400333\n",
      "[321]\tvalid_0's binary_logloss: 0.400316\n",
      "[322]\tvalid_0's binary_logloss: 0.400294\n",
      "[323]\tvalid_0's binary_logloss: 0.400282\n",
      "[324]\tvalid_0's binary_logloss: 0.400277\n",
      "[325]\tvalid_0's binary_logloss: 0.400269\n",
      "[326]\tvalid_0's binary_logloss: 0.400259\n",
      "[327]\tvalid_0's binary_logloss: 0.400253\n",
      "[328]\tvalid_0's binary_logloss: 0.400241\n",
      "[329]\tvalid_0's binary_logloss: 0.400246\n",
      "[330]\tvalid_0's binary_logloss: 0.400251\n",
      "[331]\tvalid_0's binary_logloss: 0.400246\n",
      "[332]\tvalid_0's binary_logloss: 0.400237\n",
      "[333]\tvalid_0's binary_logloss: 0.400232\n",
      "[334]\tvalid_0's binary_logloss: 0.400239\n",
      "[335]\tvalid_0's binary_logloss: 0.400236\n",
      "[336]\tvalid_0's binary_logloss: 0.400197\n",
      "[337]\tvalid_0's binary_logloss: 0.400165\n",
      "[338]\tvalid_0's binary_logloss: 0.400165\n",
      "[339]\tvalid_0's binary_logloss: 0.40016\n",
      "[340]\tvalid_0's binary_logloss: 0.400158\n",
      "[341]\tvalid_0's binary_logloss: 0.400158\n",
      "[342]\tvalid_0's binary_logloss: 0.400154\n",
      "[343]\tvalid_0's binary_logloss: 0.40015\n",
      "[344]\tvalid_0's binary_logloss: 0.400146\n",
      "[345]\tvalid_0's binary_logloss: 0.400141\n",
      "[346]\tvalid_0's binary_logloss: 0.400137\n",
      "[347]\tvalid_0's binary_logloss: 0.400135\n",
      "[348]\tvalid_0's binary_logloss: 0.400112\n",
      "[349]\tvalid_0's binary_logloss: 0.400108\n",
      "[350]\tvalid_0's binary_logloss: 0.400084\n",
      "[351]\tvalid_0's binary_logloss: 0.40006\n",
      "[352]\tvalid_0's binary_logloss: 0.400063\n",
      "[353]\tvalid_0's binary_logloss: 0.400058\n",
      "[354]\tvalid_0's binary_logloss: 0.400052\n",
      "[355]\tvalid_0's binary_logloss: 0.400047\n",
      "[356]\tvalid_0's binary_logloss: 0.400048\n",
      "[357]\tvalid_0's binary_logloss: 0.400031\n",
      "[358]\tvalid_0's binary_logloss: 0.400035\n",
      "[359]\tvalid_0's binary_logloss: 0.400025\n",
      "[360]\tvalid_0's binary_logloss: 0.400021\n",
      "[361]\tvalid_0's binary_logloss: 0.400009\n",
      "[362]\tvalid_0's binary_logloss: 0.399987\n",
      "[363]\tvalid_0's binary_logloss: 0.399975\n",
      "[364]\tvalid_0's binary_logloss: 0.399977\n",
      "[365]\tvalid_0's binary_logloss: 0.39998\n",
      "[366]\tvalid_0's binary_logloss: 0.399967\n",
      "[367]\tvalid_0's binary_logloss: 0.399935\n",
      "[368]\tvalid_0's binary_logloss: 0.399909\n",
      "[369]\tvalid_0's binary_logloss: 0.399923\n",
      "[370]\tvalid_0's binary_logloss: 0.399927\n",
      "[371]\tvalid_0's binary_logloss: 0.399923\n",
      "[372]\tvalid_0's binary_logloss: 0.399901\n",
      "[373]\tvalid_0's binary_logloss: 0.399893\n",
      "[374]\tvalid_0's binary_logloss: 0.399891\n",
      "[375]\tvalid_0's binary_logloss: 0.399883\n",
      "[376]\tvalid_0's binary_logloss: 0.399873\n",
      "[377]\tvalid_0's binary_logloss: 0.399867\n",
      "[378]\tvalid_0's binary_logloss: 0.399858\n",
      "[379]\tvalid_0's binary_logloss: 0.399864\n",
      "[380]\tvalid_0's binary_logloss: 0.399822\n",
      "[381]\tvalid_0's binary_logloss: 0.399819\n",
      "[382]\tvalid_0's binary_logloss: 0.399808\n",
      "[383]\tvalid_0's binary_logloss: 0.399802\n",
      "[384]\tvalid_0's binary_logloss: 0.3998\n",
      "[385]\tvalid_0's binary_logloss: 0.399804\n",
      "[386]\tvalid_0's binary_logloss: 0.399799\n",
      "[387]\tvalid_0's binary_logloss: 0.3998\n",
      "[388]\tvalid_0's binary_logloss: 0.399801\n",
      "[389]\tvalid_0's binary_logloss: 0.399797\n",
      "[390]\tvalid_0's binary_logloss: 0.399802\n",
      "[391]\tvalid_0's binary_logloss: 0.399801\n",
      "[392]\tvalid_0's binary_logloss: 0.3998\n",
      "[393]\tvalid_0's binary_logloss: 0.399795\n",
      "[394]\tvalid_0's binary_logloss: 0.399795\n",
      "[395]\tvalid_0's binary_logloss: 0.399798\n",
      "[396]\tvalid_0's binary_logloss: 0.399801\n",
      "[397]\tvalid_0's binary_logloss: 0.399799\n",
      "[398]\tvalid_0's binary_logloss: 0.399794\n",
      "[399]\tvalid_0's binary_logloss: 0.399796\n",
      "[400]\tvalid_0's binary_logloss: 0.399796\n",
      "[401]\tvalid_0's binary_logloss: 0.399804\n",
      "[402]\tvalid_0's binary_logloss: 0.399804\n"
     ]
    },
    {
     "name": "stdout",
     "output_type": "stream",
     "text": [
      "[403]\tvalid_0's binary_logloss: 0.399796\n",
      "[404]\tvalid_0's binary_logloss: 0.399794\n",
      "[405]\tvalid_0's binary_logloss: 0.399768\n",
      "[406]\tvalid_0's binary_logloss: 0.399759\n",
      "[407]\tvalid_0's binary_logloss: 0.399747\n",
      "[408]\tvalid_0's binary_logloss: 0.399747\n",
      "[409]\tvalid_0's binary_logloss: 0.399747\n",
      "[410]\tvalid_0's binary_logloss: 0.399752\n",
      "[411]\tvalid_0's binary_logloss: 0.399757\n",
      "[412]\tvalid_0's binary_logloss: 0.399748\n",
      "[413]\tvalid_0's binary_logloss: 0.399753\n",
      "[414]\tvalid_0's binary_logloss: 0.399753\n",
      "[415]\tvalid_0's binary_logloss: 0.399753\n",
      "[416]\tvalid_0's binary_logloss: 0.399755\n",
      "[417]\tvalid_0's binary_logloss: 0.399761\n",
      "[418]\tvalid_0's binary_logloss: 0.399763\n",
      "[419]\tvalid_0's binary_logloss: 0.399767\n",
      "[420]\tvalid_0's binary_logloss: 0.399754\n",
      "[421]\tvalid_0's binary_logloss: 0.399755\n",
      "[422]\tvalid_0's binary_logloss: 0.399739\n",
      "[423]\tvalid_0's binary_logloss: 0.399749\n",
      "[424]\tvalid_0's binary_logloss: 0.399749\n",
      "[425]\tvalid_0's binary_logloss: 0.399748\n",
      "[426]\tvalid_0's binary_logloss: 0.399746\n",
      "[427]\tvalid_0's binary_logloss: 0.399745\n",
      "[428]\tvalid_0's binary_logloss: 0.399732\n",
      "[429]\tvalid_0's binary_logloss: 0.399723\n",
      "[430]\tvalid_0's binary_logloss: 0.39972\n",
      "[431]\tvalid_0's binary_logloss: 0.399715\n",
      "[432]\tvalid_0's binary_logloss: 0.399719\n",
      "[433]\tvalid_0's binary_logloss: 0.399727\n",
      "[434]\tvalid_0's binary_logloss: 0.399715\n",
      "[435]\tvalid_0's binary_logloss: 0.399721\n",
      "[436]\tvalid_0's binary_logloss: 0.399715\n",
      "[437]\tvalid_0's binary_logloss: 0.399708\n",
      "[438]\tvalid_0's binary_logloss: 0.399706\n",
      "[439]\tvalid_0's binary_logloss: 0.399698\n",
      "[440]\tvalid_0's binary_logloss: 0.399689\n",
      "[441]\tvalid_0's binary_logloss: 0.399668\n",
      "[442]\tvalid_0's binary_logloss: 0.399678\n",
      "[443]\tvalid_0's binary_logloss: 0.399663\n",
      "[444]\tvalid_0's binary_logloss: 0.39966\n",
      "[445]\tvalid_0's binary_logloss: 0.39964\n",
      "[446]\tvalid_0's binary_logloss: 0.399642\n",
      "[447]\tvalid_0's binary_logloss: 0.399629\n",
      "[448]\tvalid_0's binary_logloss: 0.39963\n",
      "[449]\tvalid_0's binary_logloss: 0.399624\n",
      "[450]\tvalid_0's binary_logloss: 0.399615\n",
      "[451]\tvalid_0's binary_logloss: 0.399604\n",
      "[452]\tvalid_0's binary_logloss: 0.399603\n",
      "[453]\tvalid_0's binary_logloss: 0.399611\n",
      "[454]\tvalid_0's binary_logloss: 0.399607\n",
      "[455]\tvalid_0's binary_logloss: 0.399615\n",
      "[456]\tvalid_0's binary_logloss: 0.399616\n",
      "[457]\tvalid_0's binary_logloss: 0.39961\n",
      "[458]\tvalid_0's binary_logloss: 0.399604\n",
      "[459]\tvalid_0's binary_logloss: 0.399605\n",
      "[460]\tvalid_0's binary_logloss: 0.399607\n",
      "[461]\tvalid_0's binary_logloss: 0.39959\n",
      "[462]\tvalid_0's binary_logloss: 0.399587\n",
      "[463]\tvalid_0's binary_logloss: 0.399584\n",
      "[464]\tvalid_0's binary_logloss: 0.399591\n",
      "[465]\tvalid_0's binary_logloss: 0.399595\n",
      "[466]\tvalid_0's binary_logloss: 0.399593\n",
      "[467]\tvalid_0's binary_logloss: 0.399589\n",
      "[468]\tvalid_0's binary_logloss: 0.399575\n",
      "[469]\tvalid_0's binary_logloss: 0.399566\n",
      "[470]\tvalid_0's binary_logloss: 0.399578\n",
      "[471]\tvalid_0's binary_logloss: 0.399586\n",
      "[472]\tvalid_0's binary_logloss: 0.399577\n",
      "[473]\tvalid_0's binary_logloss: 0.39958\n",
      "[474]\tvalid_0's binary_logloss: 0.399576\n",
      "[475]\tvalid_0's binary_logloss: 0.399577\n",
      "[476]\tvalid_0's binary_logloss: 0.399548\n",
      "[477]\tvalid_0's binary_logloss: 0.399529\n",
      "[478]\tvalid_0's binary_logloss: 0.399504\n",
      "[479]\tvalid_0's binary_logloss: 0.399497\n",
      "[480]\tvalid_0's binary_logloss: 0.399451\n",
      "[481]\tvalid_0's binary_logloss: 0.399428\n",
      "[482]\tvalid_0's binary_logloss: 0.399418\n",
      "[483]\tvalid_0's binary_logloss: 0.399405\n",
      "[484]\tvalid_0's binary_logloss: 0.399389\n",
      "[485]\tvalid_0's binary_logloss: 0.399383\n",
      "[486]\tvalid_0's binary_logloss: 0.399382\n",
      "[487]\tvalid_0's binary_logloss: 0.399377\n",
      "[488]\tvalid_0's binary_logloss: 0.399375\n",
      "[489]\tvalid_0's binary_logloss: 0.399383\n",
      "[490]\tvalid_0's binary_logloss: 0.399374\n",
      "[491]\tvalid_0's binary_logloss: 0.399363\n",
      "[492]\tvalid_0's binary_logloss: 0.399362\n",
      "[493]\tvalid_0's binary_logloss: 0.399365\n",
      "[494]\tvalid_0's binary_logloss: 0.399368\n",
      "[495]\tvalid_0's binary_logloss: 0.39937\n",
      "[496]\tvalid_0's binary_logloss: 0.399372\n",
      "[497]\tvalid_0's binary_logloss: 0.399373\n",
      "[498]\tvalid_0's binary_logloss: 0.399368\n",
      "[499]\tvalid_0's binary_logloss: 0.399363\n",
      "[500]\tvalid_0's binary_logloss: 0.399369\n",
      "[501]\tvalid_0's binary_logloss: 0.399341\n",
      "[502]\tvalid_0's binary_logloss: 0.399346\n",
      "[503]\tvalid_0's binary_logloss: 0.399342\n",
      "[504]\tvalid_0's binary_logloss: 0.399339\n",
      "[505]\tvalid_0's binary_logloss: 0.399333\n",
      "[506]\tvalid_0's binary_logloss: 0.399328\n",
      "[507]\tvalid_0's binary_logloss: 0.399327\n",
      "[508]\tvalid_0's binary_logloss: 0.399319\n",
      "[509]\tvalid_0's binary_logloss: 0.399311\n",
      "[510]\tvalid_0's binary_logloss: 0.399298\n",
      "[511]\tvalid_0's binary_logloss: 0.399284\n",
      "[512]\tvalid_0's binary_logloss: 0.399285\n",
      "[513]\tvalid_0's binary_logloss: 0.399284\n",
      "[514]\tvalid_0's binary_logloss: 0.399272\n",
      "[515]\tvalid_0's binary_logloss: 0.399267\n",
      "[516]\tvalid_0's binary_logloss: 0.399264\n",
      "[517]\tvalid_0's binary_logloss: 0.399261\n",
      "[518]\tvalid_0's binary_logloss: 0.399257\n",
      "[519]\tvalid_0's binary_logloss: 0.399262\n",
      "[520]\tvalid_0's binary_logloss: 0.39926\n",
      "[521]\tvalid_0's binary_logloss: 0.399244\n",
      "[522]\tvalid_0's binary_logloss: 0.399241\n",
      "[523]\tvalid_0's binary_logloss: 0.399225\n",
      "[524]\tvalid_0's binary_logloss: 0.399221\n",
      "[525]\tvalid_0's binary_logloss: 0.399226\n",
      "[526]\tvalid_0's binary_logloss: 0.399229\n",
      "[527]\tvalid_0's binary_logloss: 0.399227\n",
      "[528]\tvalid_0's binary_logloss: 0.399219\n",
      "[529]\tvalid_0's binary_logloss: 0.399217\n",
      "[530]\tvalid_0's binary_logloss: 0.399223\n",
      "[531]\tvalid_0's binary_logloss: 0.399206\n",
      "[532]\tvalid_0's binary_logloss: 0.399207\n",
      "[533]\tvalid_0's binary_logloss: 0.399201\n",
      "[534]\tvalid_0's binary_logloss: 0.399202\n",
      "[535]\tvalid_0's binary_logloss: 0.399204\n",
      "[536]\tvalid_0's binary_logloss: 0.399187\n",
      "[537]\tvalid_0's binary_logloss: 0.399188\n",
      "[538]\tvalid_0's binary_logloss: 0.399172\n",
      "[539]\tvalid_0's binary_logloss: 0.399181\n",
      "[540]\tvalid_0's binary_logloss: 0.399187\n",
      "[541]\tvalid_0's binary_logloss: 0.399182\n",
      "[542]\tvalid_0's binary_logloss: 0.399166\n",
      "[543]\tvalid_0's binary_logloss: 0.399164\n",
      "[544]\tvalid_0's binary_logloss: 0.399166\n",
      "[545]\tvalid_0's binary_logloss: 0.399153\n",
      "[546]\tvalid_0's binary_logloss: 0.399132\n",
      "[547]\tvalid_0's binary_logloss: 0.39912\n",
      "[548]\tvalid_0's binary_logloss: 0.399111\n",
      "[549]\tvalid_0's binary_logloss: 0.399119\n",
      "[550]\tvalid_0's binary_logloss: 0.399121\n",
      "[551]\tvalid_0's binary_logloss: 0.399116\n",
      "[552]\tvalid_0's binary_logloss: 0.399109\n",
      "[553]\tvalid_0's binary_logloss: 0.399107\n",
      "[554]\tvalid_0's binary_logloss: 0.399108\n",
      "[555]\tvalid_0's binary_logloss: 0.399106\n",
      "[556]\tvalid_0's binary_logloss: 0.399084\n",
      "[557]\tvalid_0's binary_logloss: 0.39909\n",
      "[558]\tvalid_0's binary_logloss: 0.399095\n",
      "[559]\tvalid_0's binary_logloss: 0.399095\n",
      "[560]\tvalid_0's binary_logloss: 0.399093\n",
      "[561]\tvalid_0's binary_logloss: 0.399091\n",
      "[562]\tvalid_0's binary_logloss: 0.399082\n",
      "[563]\tvalid_0's binary_logloss: 0.399084\n",
      "[564]\tvalid_0's binary_logloss: 0.399085\n",
      "[565]\tvalid_0's binary_logloss: 0.399081\n",
      "[566]\tvalid_0's binary_logloss: 0.399084\n",
      "[567]\tvalid_0's binary_logloss: 0.399089\n",
      "[568]\tvalid_0's binary_logloss: 0.399087\n",
      "[569]\tvalid_0's binary_logloss: 0.399092\n",
      "[570]\tvalid_0's binary_logloss: 0.399092\n",
      "[571]\tvalid_0's binary_logloss: 0.399092\n",
      "[572]\tvalid_0's binary_logloss: 0.399103\n",
      "[573]\tvalid_0's binary_logloss: 0.399108\n",
      "[574]\tvalid_0's binary_logloss: 0.399111\n",
      "[575]\tvalid_0's binary_logloss: 0.399126\n",
      "[576]\tvalid_0's binary_logloss: 0.39912\n",
      "[577]\tvalid_0's binary_logloss: 0.39912\n",
      "[578]\tvalid_0's binary_logloss: 0.399118\n",
      "[579]\tvalid_0's binary_logloss: 0.399114\n",
      "[580]\tvalid_0's binary_logloss: 0.3991\n",
      "[581]\tvalid_0's binary_logloss: 0.399102\n",
      "[582]\tvalid_0's binary_logloss: 0.399096\n",
      "[583]\tvalid_0's binary_logloss: 0.399094\n",
      "[584]\tvalid_0's binary_logloss: 0.399094\n",
      "[585]\tvalid_0's binary_logloss: 0.399085\n",
      "[586]\tvalid_0's binary_logloss: 0.399078\n",
      "[587]\tvalid_0's binary_logloss: 0.399078\n",
      "[588]\tvalid_0's binary_logloss: 0.39908\n",
      "[589]\tvalid_0's binary_logloss: 0.399087\n",
      "[590]\tvalid_0's binary_logloss: 0.399096\n",
      "[591]\tvalid_0's binary_logloss: 0.399087\n",
      "[592]\tvalid_0's binary_logloss: 0.399085\n",
      "[593]\tvalid_0's binary_logloss: 0.39909\n",
      "[594]\tvalid_0's binary_logloss: 0.399098\n",
      "[595]\tvalid_0's binary_logloss: 0.399105\n",
      "[596]\tvalid_0's binary_logloss: 0.399095\n",
      "[597]\tvalid_0's binary_logloss: 0.399086\n",
      "[598]\tvalid_0's binary_logloss: 0.399091\n",
      "[599]\tvalid_0's binary_logloss: 0.399096\n",
      "[600]\tvalid_0's binary_logloss: 0.399095\n",
      "[601]\tvalid_0's binary_logloss: 0.399087\n",
      "[602]\tvalid_0's binary_logloss: 0.399079\n",
      "[603]\tvalid_0's binary_logloss: 0.399071\n"
     ]
    },
    {
     "name": "stdout",
     "output_type": "stream",
     "text": [
      "[604]\tvalid_0's binary_logloss: 0.399067\n",
      "[605]\tvalid_0's binary_logloss: 0.399077\n",
      "[606]\tvalid_0's binary_logloss: 0.399072\n",
      "[607]\tvalid_0's binary_logloss: 0.39905\n",
      "[608]\tvalid_0's binary_logloss: 0.399054\n",
      "[609]\tvalid_0's binary_logloss: 0.399062\n",
      "[610]\tvalid_0's binary_logloss: 0.399066\n",
      "[611]\tvalid_0's binary_logloss: 0.399064\n",
      "[612]\tvalid_0's binary_logloss: 0.399045\n",
      "[613]\tvalid_0's binary_logloss: 0.399054\n",
      "[614]\tvalid_0's binary_logloss: 0.399052\n",
      "[615]\tvalid_0's binary_logloss: 0.399043\n",
      "[616]\tvalid_0's binary_logloss: 0.399043\n",
      "[617]\tvalid_0's binary_logloss: 0.399042\n",
      "[618]\tvalid_0's binary_logloss: 0.399036\n",
      "[619]\tvalid_0's binary_logloss: 0.399037\n",
      "[620]\tvalid_0's binary_logloss: 0.399026\n",
      "[621]\tvalid_0's binary_logloss: 0.399019\n",
      "[622]\tvalid_0's binary_logloss: 0.399012\n",
      "[623]\tvalid_0's binary_logloss: 0.399001\n",
      "[624]\tvalid_0's binary_logloss: 0.398991\n",
      "[625]\tvalid_0's binary_logloss: 0.398992\n",
      "[626]\tvalid_0's binary_logloss: 0.398988\n",
      "[627]\tvalid_0's binary_logloss: 0.398987\n",
      "[628]\tvalid_0's binary_logloss: 0.398991\n",
      "[629]\tvalid_0's binary_logloss: 0.398995\n",
      "[630]\tvalid_0's binary_logloss: 0.398986\n",
      "[631]\tvalid_0's binary_logloss: 0.398984\n",
      "[632]\tvalid_0's binary_logloss: 0.398981\n",
      "[633]\tvalid_0's binary_logloss: 0.398971\n",
      "[634]\tvalid_0's binary_logloss: 0.398961\n",
      "[635]\tvalid_0's binary_logloss: 0.398961\n",
      "[636]\tvalid_0's binary_logloss: 0.398971\n",
      "[637]\tvalid_0's binary_logloss: 0.398967\n",
      "[638]\tvalid_0's binary_logloss: 0.398951\n",
      "[639]\tvalid_0's binary_logloss: 0.398944\n",
      "[640]\tvalid_0's binary_logloss: 0.398938\n",
      "[641]\tvalid_0's binary_logloss: 0.398935\n",
      "[642]\tvalid_0's binary_logloss: 0.398943\n",
      "[643]\tvalid_0's binary_logloss: 0.398954\n",
      "[644]\tvalid_0's binary_logloss: 0.398946\n",
      "[645]\tvalid_0's binary_logloss: 0.398958\n",
      "[646]\tvalid_0's binary_logloss: 0.398956\n",
      "[647]\tvalid_0's binary_logloss: 0.398956\n",
      "[648]\tvalid_0's binary_logloss: 0.398954\n",
      "[649]\tvalid_0's binary_logloss: 0.398956\n",
      "[650]\tvalid_0's binary_logloss: 0.398961\n",
      "[651]\tvalid_0's binary_logloss: 0.398962\n",
      "[652]\tvalid_0's binary_logloss: 0.398968\n",
      "[653]\tvalid_0's binary_logloss: 0.398975\n",
      "[654]\tvalid_0's binary_logloss: 0.398968\n",
      "[655]\tvalid_0's binary_logloss: 0.39897\n",
      "[656]\tvalid_0's binary_logloss: 0.398963\n",
      "[657]\tvalid_0's binary_logloss: 0.398963\n",
      "[658]\tvalid_0's binary_logloss: 0.39896\n",
      "[659]\tvalid_0's binary_logloss: 0.398952\n",
      "[660]\tvalid_0's binary_logloss: 0.398951\n",
      "[661]\tvalid_0's binary_logloss: 0.398945\n",
      "[662]\tvalid_0's binary_logloss: 0.398945\n",
      "[663]\tvalid_0's binary_logloss: 0.398947\n",
      "[664]\tvalid_0's binary_logloss: 0.398953\n",
      "[665]\tvalid_0's binary_logloss: 0.398945\n",
      "[666]\tvalid_0's binary_logloss: 0.398946\n",
      "[667]\tvalid_0's binary_logloss: 0.398954\n",
      "[668]\tvalid_0's binary_logloss: 0.398948\n",
      "[669]\tvalid_0's binary_logloss: 0.398957\n",
      "[670]\tvalid_0's binary_logloss: 0.398953\n",
      "[671]\tvalid_0's binary_logloss: 0.398948\n",
      "[672]\tvalid_0's binary_logloss: 0.39895\n",
      "[673]\tvalid_0's binary_logloss: 0.398941\n",
      "[674]\tvalid_0's binary_logloss: 0.398946\n",
      "[675]\tvalid_0's binary_logloss: 0.398946\n",
      "[676]\tvalid_0's binary_logloss: 0.398953\n",
      "[677]\tvalid_0's binary_logloss: 0.398957\n",
      "[678]\tvalid_0's binary_logloss: 0.398965\n",
      "[679]\tvalid_0's binary_logloss: 0.39896\n",
      "[680]\tvalid_0's binary_logloss: 0.398965\n",
      "[681]\tvalid_0's binary_logloss: 0.398962\n",
      "[682]\tvalid_0's binary_logloss: 0.398957\n",
      "[683]\tvalid_0's binary_logloss: 0.398964\n",
      "[684]\tvalid_0's binary_logloss: 0.39897\n",
      "[685]\tvalid_0's binary_logloss: 0.398976\n",
      "[686]\tvalid_0's binary_logloss: 0.39897\n",
      "[687]\tvalid_0's binary_logloss: 0.39897\n",
      "[688]\tvalid_0's binary_logloss: 0.398973\n",
      "[689]\tvalid_0's binary_logloss: 0.398962\n",
      "[690]\tvalid_0's binary_logloss: 0.39896\n",
      "[691]\tvalid_0's binary_logloss: 0.398957\n",
      "[692]\tvalid_0's binary_logloss: 0.398955\n",
      "[693]\tvalid_0's binary_logloss: 0.398956\n",
      "[694]\tvalid_0's binary_logloss: 0.398958\n",
      "[695]\tvalid_0's binary_logloss: 0.398954\n",
      "[696]\tvalid_0's binary_logloss: 0.398957\n",
      "[697]\tvalid_0's binary_logloss: 0.398974\n",
      "[698]\tvalid_0's binary_logloss: 0.398968\n",
      "[699]\tvalid_0's binary_logloss: 0.398977\n",
      "[700]\tvalid_0's binary_logloss: 0.398981\n",
      "[701]\tvalid_0's binary_logloss: 0.398964\n",
      "[702]\tvalid_0's binary_logloss: 0.398965\n",
      "[703]\tvalid_0's binary_logloss: 0.398962\n",
      "[704]\tvalid_0's binary_logloss: 0.398956\n",
      "[705]\tvalid_0's binary_logloss: 0.39895\n",
      "[706]\tvalid_0's binary_logloss: 0.398948\n",
      "[707]\tvalid_0's binary_logloss: 0.398947\n",
      "[708]\tvalid_0's binary_logloss: 0.39894\n",
      "[709]\tvalid_0's binary_logloss: 0.39894\n",
      "[710]\tvalid_0's binary_logloss: 0.398936\n",
      "[711]\tvalid_0's binary_logloss: 0.398933\n",
      "[712]\tvalid_0's binary_logloss: 0.398939\n",
      "[713]\tvalid_0's binary_logloss: 0.398946\n",
      "[714]\tvalid_0's binary_logloss: 0.398949\n",
      "[715]\tvalid_0's binary_logloss: 0.398956\n",
      "[716]\tvalid_0's binary_logloss: 0.398956\n",
      "[717]\tvalid_0's binary_logloss: 0.398953\n",
      "[718]\tvalid_0's binary_logloss: 0.398951\n",
      "[719]\tvalid_0's binary_logloss: 0.398946\n",
      "[720]\tvalid_0's binary_logloss: 0.398935\n",
      "[721]\tvalid_0's binary_logloss: 0.398935\n",
      "[722]\tvalid_0's binary_logloss: 0.398937\n",
      "[723]\tvalid_0's binary_logloss: 0.398927\n",
      "[724]\tvalid_0's binary_logloss: 0.398929\n",
      "[725]\tvalid_0's binary_logloss: 0.398936\n",
      "[726]\tvalid_0's binary_logloss: 0.398943\n",
      "[727]\tvalid_0's binary_logloss: 0.39894\n",
      "[728]\tvalid_0's binary_logloss: 0.398947\n",
      "[729]\tvalid_0's binary_logloss: 0.39895\n",
      "[730]\tvalid_0's binary_logloss: 0.398957\n",
      "[731]\tvalid_0's binary_logloss: 0.39896\n",
      "[732]\tvalid_0's binary_logloss: 0.398956\n",
      "[733]\tvalid_0's binary_logloss: 0.39896\n",
      "[734]\tvalid_0's binary_logloss: 0.39896\n",
      "[735]\tvalid_0's binary_logloss: 0.398961\n",
      "[736]\tvalid_0's binary_logloss: 0.398959\n",
      "[737]\tvalid_0's binary_logloss: 0.398959\n",
      "[738]\tvalid_0's binary_logloss: 0.398967\n",
      "[739]\tvalid_0's binary_logloss: 0.398975\n",
      "[740]\tvalid_0's binary_logloss: 0.398976\n",
      "[741]\tvalid_0's binary_logloss: 0.398984\n",
      "[742]\tvalid_0's binary_logloss: 0.398979\n",
      "[743]\tvalid_0's binary_logloss: 0.398973\n",
      "[744]\tvalid_0's binary_logloss: 0.398975\n",
      "[745]\tvalid_0's binary_logloss: 0.398981\n",
      "[746]\tvalid_0's binary_logloss: 0.398974\n",
      "[747]\tvalid_0's binary_logloss: 0.398972\n",
      "[748]\tvalid_0's binary_logloss: 0.398958\n",
      "[749]\tvalid_0's binary_logloss: 0.398962\n",
      "[750]\tvalid_0's binary_logloss: 0.398963\n",
      "[751]\tvalid_0's binary_logloss: 0.398972\n",
      "[752]\tvalid_0's binary_logloss: 0.398979\n",
      "[753]\tvalid_0's binary_logloss: 0.398981\n",
      "[754]\tvalid_0's binary_logloss: 0.39899\n",
      "[755]\tvalid_0's binary_logloss: 0.398991\n",
      "[756]\tvalid_0's binary_logloss: 0.398995\n",
      "[757]\tvalid_0's binary_logloss: 0.398996\n",
      "[758]\tvalid_0's binary_logloss: 0.399001\n",
      "[759]\tvalid_0's binary_logloss: 0.399013\n",
      "[760]\tvalid_0's binary_logloss: 0.399006\n",
      "[761]\tvalid_0's binary_logloss: 0.398988\n",
      "[762]\tvalid_0's binary_logloss: 0.39898\n",
      "[763]\tvalid_0's binary_logloss: 0.398987\n",
      "[764]\tvalid_0's binary_logloss: 0.398986\n",
      "[765]\tvalid_0's binary_logloss: 0.398982\n",
      "[766]\tvalid_0's binary_logloss: 0.398989\n",
      "[767]\tvalid_0's binary_logloss: 0.398978\n",
      "[768]\tvalid_0's binary_logloss: 0.398977\n",
      "[769]\tvalid_0's binary_logloss: 0.398972\n",
      "[770]\tvalid_0's binary_logloss: 0.398971\n",
      "[771]\tvalid_0's binary_logloss: 0.398968\n",
      "[772]\tvalid_0's binary_logloss: 0.398973\n",
      "[773]\tvalid_0's binary_logloss: 0.398971\n",
      "[774]\tvalid_0's binary_logloss: 0.39898\n",
      "[775]\tvalid_0's binary_logloss: 0.398975\n",
      "[776]\tvalid_0's binary_logloss: 0.398977\n",
      "[777]\tvalid_0's binary_logloss: 0.398976\n",
      "[778]\tvalid_0's binary_logloss: 0.398966\n",
      "[779]\tvalid_0's binary_logloss: 0.398973\n",
      "[780]\tvalid_0's binary_logloss: 0.398969\n",
      "[781]\tvalid_0's binary_logloss: 0.398963\n",
      "[782]\tvalid_0's binary_logloss: 0.398963\n",
      "[783]\tvalid_0's binary_logloss: 0.398959\n",
      "[784]\tvalid_0's binary_logloss: 0.398964\n",
      "[785]\tvalid_0's binary_logloss: 0.398962\n",
      "[786]\tvalid_0's binary_logloss: 0.398955\n",
      "[787]\tvalid_0's binary_logloss: 0.398968\n",
      "[788]\tvalid_0's binary_logloss: 0.398963\n",
      "[789]\tvalid_0's binary_logloss: 0.398956\n",
      "[790]\tvalid_0's binary_logloss: 0.398961\n",
      "[791]\tvalid_0's binary_logloss: 0.398957\n",
      "[792]\tvalid_0's binary_logloss: 0.398945\n",
      "[793]\tvalid_0's binary_logloss: 0.398935\n",
      "[794]\tvalid_0's binary_logloss: 0.398935\n",
      "[795]\tvalid_0's binary_logloss: 0.398935\n",
      "[796]\tvalid_0's binary_logloss: 0.398937\n",
      "[797]\tvalid_0's binary_logloss: 0.398937\n",
      "[798]\tvalid_0's binary_logloss: 0.398948\n",
      "[799]\tvalid_0's binary_logloss: 0.398951\n",
      "[800]\tvalid_0's binary_logloss: 0.398949\n",
      "[801]\tvalid_0's binary_logloss: 0.39893\n",
      "[802]\tvalid_0's binary_logloss: 0.398928\n",
      "[803]\tvalid_0's binary_logloss: 0.398939\n"
     ]
    },
    {
     "name": "stdout",
     "output_type": "stream",
     "text": [
      "[804]\tvalid_0's binary_logloss: 0.398947\n",
      "[805]\tvalid_0's binary_logloss: 0.398943\n",
      "[806]\tvalid_0's binary_logloss: 0.398947\n",
      "[807]\tvalid_0's binary_logloss: 0.398949\n",
      "[808]\tvalid_0's binary_logloss: 0.398952\n",
      "[809]\tvalid_0's binary_logloss: 0.39896\n",
      "[810]\tvalid_0's binary_logloss: 0.398961\n",
      "[811]\tvalid_0's binary_logloss: 0.398968\n",
      "[812]\tvalid_0's binary_logloss: 0.398965\n",
      "[813]\tvalid_0's binary_logloss: 0.398969\n",
      "[814]\tvalid_0's binary_logloss: 0.39896\n",
      "[815]\tvalid_0's binary_logloss: 0.398969\n",
      "[816]\tvalid_0's binary_logloss: 0.398962\n",
      "[817]\tvalid_0's binary_logloss: 0.398958\n",
      "[818]\tvalid_0's binary_logloss: 0.398961\n",
      "[819]\tvalid_0's binary_logloss: 0.398955\n",
      "[820]\tvalid_0's binary_logloss: 0.39896\n",
      "[821]\tvalid_0's binary_logloss: 0.398964\n",
      "[822]\tvalid_0's binary_logloss: 0.398965\n",
      "[823]\tvalid_0's binary_logloss: 0.398958\n",
      "[824]\tvalid_0's binary_logloss: 0.398958\n",
      "[825]\tvalid_0's binary_logloss: 0.398954\n",
      "[826]\tvalid_0's binary_logloss: 0.398943\n",
      "[827]\tvalid_0's binary_logloss: 0.398944\n",
      "[828]\tvalid_0's binary_logloss: 0.398937\n",
      "[829]\tvalid_0's binary_logloss: 0.398914\n",
      "[830]\tvalid_0's binary_logloss: 0.398907\n",
      "[831]\tvalid_0's binary_logloss: 0.39891\n",
      "[832]\tvalid_0's binary_logloss: 0.398912\n",
      "[833]\tvalid_0's binary_logloss: 0.398911\n",
      "[834]\tvalid_0's binary_logloss: 0.398915\n",
      "[835]\tvalid_0's binary_logloss: 0.398914\n",
      "[836]\tvalid_0's binary_logloss: 0.398921\n",
      "[837]\tvalid_0's binary_logloss: 0.398923\n",
      "[838]\tvalid_0's binary_logloss: 0.398924\n",
      "[839]\tvalid_0's binary_logloss: 0.398932\n",
      "[840]\tvalid_0's binary_logloss: 0.398939\n",
      "[841]\tvalid_0's binary_logloss: 0.398935\n",
      "[842]\tvalid_0's binary_logloss: 0.398937\n",
      "[843]\tvalid_0's binary_logloss: 0.398937\n",
      "[844]\tvalid_0's binary_logloss: 0.398937\n",
      "[845]\tvalid_0's binary_logloss: 0.398939\n",
      "[846]\tvalid_0's binary_logloss: 0.398936\n",
      "[847]\tvalid_0's binary_logloss: 0.398925\n",
      "[848]\tvalid_0's binary_logloss: 0.398925\n",
      "[849]\tvalid_0's binary_logloss: 0.398929\n",
      "[850]\tvalid_0's binary_logloss: 0.398929\n",
      "[851]\tvalid_0's binary_logloss: 0.398932\n",
      "[852]\tvalid_0's binary_logloss: 0.39893\n",
      "[853]\tvalid_0's binary_logloss: 0.398925\n",
      "[854]\tvalid_0's binary_logloss: 0.398926\n",
      "[855]\tvalid_0's binary_logloss: 0.398934\n",
      "[856]\tvalid_0's binary_logloss: 0.398934\n",
      "[857]\tvalid_0's binary_logloss: 0.398941\n",
      "[858]\tvalid_0's binary_logloss: 0.398947\n",
      "[859]\tvalid_0's binary_logloss: 0.398944\n",
      "[860]\tvalid_0's binary_logloss: 0.398952\n",
      "[861]\tvalid_0's binary_logloss: 0.398957\n",
      "[862]\tvalid_0's binary_logloss: 0.398964\n",
      "[863]\tvalid_0's binary_logloss: 0.398962\n",
      "[864]\tvalid_0's binary_logloss: 0.398961\n",
      "[865]\tvalid_0's binary_logloss: 0.398961\n",
      "[866]\tvalid_0's binary_logloss: 0.398963\n",
      "[867]\tvalid_0's binary_logloss: 0.398968\n",
      "[868]\tvalid_0's binary_logloss: 0.398963\n",
      "[869]\tvalid_0's binary_logloss: 0.39896\n",
      "[870]\tvalid_0's binary_logloss: 0.39896\n",
      "[871]\tvalid_0's binary_logloss: 0.398953\n",
      "[872]\tvalid_0's binary_logloss: 0.398955\n",
      "[873]\tvalid_0's binary_logloss: 0.398959\n",
      "[874]\tvalid_0's binary_logloss: 0.398963\n",
      "[875]\tvalid_0's binary_logloss: 0.398962\n",
      "[876]\tvalid_0's binary_logloss: 0.398964\n",
      "[877]\tvalid_0's binary_logloss: 0.398954\n",
      "[878]\tvalid_0's binary_logloss: 0.398952\n",
      "[879]\tvalid_0's binary_logloss: 0.398953\n",
      "[880]\tvalid_0's binary_logloss: 0.398955\n",
      "[881]\tvalid_0's binary_logloss: 0.39895\n",
      "[882]\tvalid_0's binary_logloss: 0.398955\n",
      "[883]\tvalid_0's binary_logloss: 0.398963\n",
      "[884]\tvalid_0's binary_logloss: 0.398961\n",
      "[885]\tvalid_0's binary_logloss: 0.398965\n",
      "[886]\tvalid_0's binary_logloss: 0.398969\n",
      "[887]\tvalid_0's binary_logloss: 0.398973\n",
      "[888]\tvalid_0's binary_logloss: 0.398982\n",
      "[889]\tvalid_0's binary_logloss: 0.39899\n",
      "[890]\tvalid_0's binary_logloss: 0.398987\n",
      "[891]\tvalid_0's binary_logloss: 0.398991\n",
      "[892]\tvalid_0's binary_logloss: 0.398992\n",
      "[893]\tvalid_0's binary_logloss: 0.398991\n",
      "[894]\tvalid_0's binary_logloss: 0.398983\n",
      "[895]\tvalid_0's binary_logloss: 0.398973\n",
      "[896]\tvalid_0's binary_logloss: 0.398969\n",
      "[897]\tvalid_0's binary_logloss: 0.398966\n",
      "[898]\tvalid_0's binary_logloss: 0.398974\n",
      "[899]\tvalid_0's binary_logloss: 0.398979\n",
      "[900]\tvalid_0's binary_logloss: 0.398981\n",
      "[901]\tvalid_0's binary_logloss: 0.398987\n",
      "[902]\tvalid_0's binary_logloss: 0.398992\n",
      "[903]\tvalid_0's binary_logloss: 0.398995\n",
      "[904]\tvalid_0's binary_logloss: 0.399\n",
      "[905]\tvalid_0's binary_logloss: 0.398997\n",
      "[906]\tvalid_0's binary_logloss: 0.399\n",
      "[907]\tvalid_0's binary_logloss: 0.398999\n",
      "[908]\tvalid_0's binary_logloss: 0.399004\n",
      "[909]\tvalid_0's binary_logloss: 0.398999\n",
      "[910]\tvalid_0's binary_logloss: 0.398997\n",
      "[911]\tvalid_0's binary_logloss: 0.398983\n",
      "[912]\tvalid_0's binary_logloss: 0.398986\n",
      "[913]\tvalid_0's binary_logloss: 0.398991\n",
      "[914]\tvalid_0's binary_logloss: 0.39899\n",
      "[915]\tvalid_0's binary_logloss: 0.399\n",
      "[916]\tvalid_0's binary_logloss: 0.399\n",
      "[917]\tvalid_0's binary_logloss: 0.399003\n",
      "[918]\tvalid_0's binary_logloss: 0.399012\n",
      "[919]\tvalid_0's binary_logloss: 0.399014\n",
      "[920]\tvalid_0's binary_logloss: 0.399013\n",
      "[921]\tvalid_0's binary_logloss: 0.399009\n",
      "[922]\tvalid_0's binary_logloss: 0.398992\n",
      "[923]\tvalid_0's binary_logloss: 0.398984\n",
      "[924]\tvalid_0's binary_logloss: 0.39898\n",
      "[925]\tvalid_0's binary_logloss: 0.398972\n",
      "[926]\tvalid_0's binary_logloss: 0.398973\n",
      "[927]\tvalid_0's binary_logloss: 0.39897\n",
      "[928]\tvalid_0's binary_logloss: 0.398964\n",
      "[929]\tvalid_0's binary_logloss: 0.398971\n",
      "[930]\tvalid_0's binary_logloss: 0.398963\n",
      "[931]\tvalid_0's binary_logloss: 0.398963\n",
      "[932]\tvalid_0's binary_logloss: 0.398953\n",
      "[933]\tvalid_0's binary_logloss: 0.398955\n",
      "[934]\tvalid_0's binary_logloss: 0.398956\n",
      "[935]\tvalid_0's binary_logloss: 0.398949\n",
      "[936]\tvalid_0's binary_logloss: 0.398961\n",
      "[937]\tvalid_0's binary_logloss: 0.398963\n",
      "[938]\tvalid_0's binary_logloss: 0.398962\n",
      "[939]\tvalid_0's binary_logloss: 0.398956\n",
      "[940]\tvalid_0's binary_logloss: 0.398956\n",
      "[941]\tvalid_0's binary_logloss: 0.398957\n",
      "[942]\tvalid_0's binary_logloss: 0.398954\n",
      "[943]\tvalid_0's binary_logloss: 0.398954\n",
      "[944]\tvalid_0's binary_logloss: 0.398953\n",
      "[945]\tvalid_0's binary_logloss: 0.398953\n",
      "[946]\tvalid_0's binary_logloss: 0.398951\n",
      "[947]\tvalid_0's binary_logloss: 0.398945\n",
      "[948]\tvalid_0's binary_logloss: 0.398954\n",
      "[949]\tvalid_0's binary_logloss: 0.398957\n",
      "[950]\tvalid_0's binary_logloss: 0.398968\n",
      "[951]\tvalid_0's binary_logloss: 0.398973\n",
      "[952]\tvalid_0's binary_logloss: 0.398971\n",
      "[953]\tvalid_0's binary_logloss: 0.398962\n",
      "[954]\tvalid_0's binary_logloss: 0.398971\n",
      "[955]\tvalid_0's binary_logloss: 0.398972\n",
      "[956]\tvalid_0's binary_logloss: 0.398974\n",
      "[957]\tvalid_0's binary_logloss: 0.398969\n",
      "[958]\tvalid_0's binary_logloss: 0.398973\n",
      "[959]\tvalid_0's binary_logloss: 0.398969\n",
      "[960]\tvalid_0's binary_logloss: 0.398976\n",
      "[961]\tvalid_0's binary_logloss: 0.398968\n",
      "[962]\tvalid_0's binary_logloss: 0.398966\n",
      "[963]\tvalid_0's binary_logloss: 0.398966\n",
      "[964]\tvalid_0's binary_logloss: 0.398953\n",
      "[965]\tvalid_0's binary_logloss: 0.398952\n",
      "[966]\tvalid_0's binary_logloss: 0.398951\n",
      "[967]\tvalid_0's binary_logloss: 0.398953\n",
      "[968]\tvalid_0's binary_logloss: 0.398953\n",
      "[969]\tvalid_0's binary_logloss: 0.398952\n",
      "[970]\tvalid_0's binary_logloss: 0.398956\n",
      "[971]\tvalid_0's binary_logloss: 0.398955\n",
      "[972]\tvalid_0's binary_logloss: 0.398963\n",
      "[973]\tvalid_0's binary_logloss: 0.398965\n",
      "[974]\tvalid_0's binary_logloss: 0.398964\n",
      "[975]\tvalid_0's binary_logloss: 0.398962\n",
      "[976]\tvalid_0's binary_logloss: 0.398961\n",
      "[977]\tvalid_0's binary_logloss: 0.398958\n",
      "[978]\tvalid_0's binary_logloss: 0.398951\n",
      "[979]\tvalid_0's binary_logloss: 0.398958\n",
      "[980]\tvalid_0's binary_logloss: 0.398951\n",
      "[981]\tvalid_0's binary_logloss: 0.398956\n",
      "[982]\tvalid_0's binary_logloss: 0.398953\n",
      "[983]\tvalid_0's binary_logloss: 0.398954\n",
      "[984]\tvalid_0's binary_logloss: 0.398948\n",
      "[985]\tvalid_0's binary_logloss: 0.398953\n",
      "[986]\tvalid_0's binary_logloss: 0.39895\n",
      "[987]\tvalid_0's binary_logloss: 0.398949\n",
      "[988]\tvalid_0's binary_logloss: 0.39895\n",
      "[989]\tvalid_0's binary_logloss: 0.398938\n",
      "[990]\tvalid_0's binary_logloss: 0.398935\n",
      "[991]\tvalid_0's binary_logloss: 0.398931\n",
      "[992]\tvalid_0's binary_logloss: 0.398935\n",
      "[993]\tvalid_0's binary_logloss: 0.398925\n",
      "[994]\tvalid_0's binary_logloss: 0.398925\n",
      "[995]\tvalid_0's binary_logloss: 0.398928\n",
      "[996]\tvalid_0's binary_logloss: 0.398925\n",
      "[997]\tvalid_0's binary_logloss: 0.39893\n",
      "[998]\tvalid_0's binary_logloss: 0.398934\n",
      "[999]\tvalid_0's binary_logloss: 0.398932\n",
      "[1000]\tvalid_0's binary_logloss: 0.398942\n",
      "[1001]\tvalid_0's binary_logloss: 0.398938\n",
      "[1002]\tvalid_0's binary_logloss: 0.398941\n",
      "[1003]\tvalid_0's binary_logloss: 0.398923\n",
      "[1004]\tvalid_0's binary_logloss: 0.398928\n",
      "[1005]\tvalid_0's binary_logloss: 0.39893\n"
     ]
    },
    {
     "name": "stdout",
     "output_type": "stream",
     "text": [
      "[1006]\tvalid_0's binary_logloss: 0.398926\n",
      "[1007]\tvalid_0's binary_logloss: 0.398932\n",
      "[1008]\tvalid_0's binary_logloss: 0.39894\n",
      "[1009]\tvalid_0's binary_logloss: 0.398941\n",
      "[1010]\tvalid_0's binary_logloss: 0.398958\n",
      "[1011]\tvalid_0's binary_logloss: 0.398957\n",
      "[1012]\tvalid_0's binary_logloss: 0.398951\n",
      "[1013]\tvalid_0's binary_logloss: 0.39895\n",
      "[1014]\tvalid_0's binary_logloss: 0.398955\n",
      "[1015]\tvalid_0's binary_logloss: 0.398955\n",
      "[1016]\tvalid_0's binary_logloss: 0.398956\n",
      "[1017]\tvalid_0's binary_logloss: 0.398951\n",
      "[1018]\tvalid_0's binary_logloss: 0.398955\n",
      "[1019]\tvalid_0's binary_logloss: 0.398958\n",
      "[1020]\tvalid_0's binary_logloss: 0.398965\n",
      "[1021]\tvalid_0's binary_logloss: 0.398962\n",
      "[1022]\tvalid_0's binary_logloss: 0.398952\n",
      "[1023]\tvalid_0's binary_logloss: 0.398945\n",
      "[1024]\tvalid_0's binary_logloss: 0.398946\n",
      "[1025]\tvalid_0's binary_logloss: 0.398951\n",
      "[1026]\tvalid_0's binary_logloss: 0.398949\n",
      "[1027]\tvalid_0's binary_logloss: 0.398955\n",
      "[1028]\tvalid_0's binary_logloss: 0.398958\n",
      "[1029]\tvalid_0's binary_logloss: 0.398951\n",
      "[1030]\tvalid_0's binary_logloss: 0.398948\n",
      "[1031]\tvalid_0's binary_logloss: 0.398945\n",
      "[1032]\tvalid_0's binary_logloss: 0.398945\n",
      "[1033]\tvalid_0's binary_logloss: 0.398947\n",
      "[1034]\tvalid_0's binary_logloss: 0.398954\n",
      "[1035]\tvalid_0's binary_logloss: 0.398948\n",
      "[1036]\tvalid_0's binary_logloss: 0.398949\n",
      "[1037]\tvalid_0's binary_logloss: 0.398936\n",
      "[1038]\tvalid_0's binary_logloss: 0.398938\n",
      "[1039]\tvalid_0's binary_logloss: 0.398929\n",
      "[1040]\tvalid_0's binary_logloss: 0.398932\n",
      "[1041]\tvalid_0's binary_logloss: 0.398918\n",
      "[1042]\tvalid_0's binary_logloss: 0.398916\n",
      "[1043]\tvalid_0's binary_logloss: 0.398904\n",
      "[1044]\tvalid_0's binary_logloss: 0.398906\n",
      "[1045]\tvalid_0's binary_logloss: 0.398898\n",
      "[1046]\tvalid_0's binary_logloss: 0.398894\n",
      "[1047]\tvalid_0's binary_logloss: 0.398893\n",
      "[1048]\tvalid_0's binary_logloss: 0.398901\n",
      "[1049]\tvalid_0's binary_logloss: 0.398905\n",
      "[1050]\tvalid_0's binary_logloss: 0.39891\n",
      "[1051]\tvalid_0's binary_logloss: 0.398906\n",
      "[1052]\tvalid_0's binary_logloss: 0.398905\n",
      "[1053]\tvalid_0's binary_logloss: 0.398899\n",
      "[1054]\tvalid_0's binary_logloss: 0.398906\n",
      "[1055]\tvalid_0's binary_logloss: 0.398906\n",
      "[1056]\tvalid_0's binary_logloss: 0.398909\n",
      "[1057]\tvalid_0's binary_logloss: 0.398908\n",
      "[1058]\tvalid_0's binary_logloss: 0.398911\n",
      "[1059]\tvalid_0's binary_logloss: 0.398904\n",
      "[1060]\tvalid_0's binary_logloss: 0.398905\n",
      "[1061]\tvalid_0's binary_logloss: 0.398896\n",
      "[1062]\tvalid_0's binary_logloss: 0.398891\n",
      "[1063]\tvalid_0's binary_logloss: 0.398888\n",
      "[1064]\tvalid_0's binary_logloss: 0.398893\n",
      "[1065]\tvalid_0's binary_logloss: 0.398896\n",
      "[1066]\tvalid_0's binary_logloss: 0.398883\n",
      "[1067]\tvalid_0's binary_logloss: 0.398875\n",
      "[1068]\tvalid_0's binary_logloss: 0.398872\n",
      "[1069]\tvalid_0's binary_logloss: 0.39887\n",
      "[1070]\tvalid_0's binary_logloss: 0.398878\n",
      "[1071]\tvalid_0's binary_logloss: 0.398882\n",
      "[1072]\tvalid_0's binary_logloss: 0.398883\n",
      "[1073]\tvalid_0's binary_logloss: 0.398885\n",
      "[1074]\tvalid_0's binary_logloss: 0.398887\n",
      "[1075]\tvalid_0's binary_logloss: 0.398887\n",
      "[1076]\tvalid_0's binary_logloss: 0.398876\n",
      "[1077]\tvalid_0's binary_logloss: 0.398869\n",
      "[1078]\tvalid_0's binary_logloss: 0.398874\n",
      "[1079]\tvalid_0's binary_logloss: 0.398861\n",
      "[1080]\tvalid_0's binary_logloss: 0.398855\n",
      "[1081]\tvalid_0's binary_logloss: 0.398856\n",
      "[1082]\tvalid_0's binary_logloss: 0.398856\n",
      "[1083]\tvalid_0's binary_logloss: 0.398865\n",
      "[1084]\tvalid_0's binary_logloss: 0.398855\n",
      "[1085]\tvalid_0's binary_logloss: 0.398853\n",
      "[1086]\tvalid_0's binary_logloss: 0.398847\n",
      "[1087]\tvalid_0's binary_logloss: 0.398845\n",
      "[1088]\tvalid_0's binary_logloss: 0.398838\n",
      "[1089]\tvalid_0's binary_logloss: 0.398835\n",
      "[1090]\tvalid_0's binary_logloss: 0.398835\n",
      "[1091]\tvalid_0's binary_logloss: 0.398829\n",
      "[1092]\tvalid_0's binary_logloss: 0.39884\n",
      "[1093]\tvalid_0's binary_logloss: 0.398842\n",
      "[1094]\tvalid_0's binary_logloss: 0.398844\n",
      "[1095]\tvalid_0's binary_logloss: 0.398846\n",
      "[1096]\tvalid_0's binary_logloss: 0.398843\n",
      "[1097]\tvalid_0's binary_logloss: 0.398832\n",
      "[1098]\tvalid_0's binary_logloss: 0.398835\n",
      "[1099]\tvalid_0's binary_logloss: 0.398847\n",
      "[1100]\tvalid_0's binary_logloss: 0.39885\n",
      "[1101]\tvalid_0's binary_logloss: 0.398853\n",
      "[1102]\tvalid_0's binary_logloss: 0.398847\n",
      "[1103]\tvalid_0's binary_logloss: 0.398842\n",
      "[1104]\tvalid_0's binary_logloss: 0.398842\n",
      "[1105]\tvalid_0's binary_logloss: 0.398843\n",
      "[1106]\tvalid_0's binary_logloss: 0.398839\n",
      "[1107]\tvalid_0's binary_logloss: 0.398826\n",
      "[1108]\tvalid_0's binary_logloss: 0.398831\n",
      "[1109]\tvalid_0's binary_logloss: 0.398836\n",
      "[1110]\tvalid_0's binary_logloss: 0.398838\n",
      "[1111]\tvalid_0's binary_logloss: 0.398838\n",
      "[1112]\tvalid_0's binary_logloss: 0.398827\n",
      "[1113]\tvalid_0's binary_logloss: 0.398829\n",
      "[1114]\tvalid_0's binary_logloss: 0.398822\n",
      "[1115]\tvalid_0's binary_logloss: 0.39882\n",
      "[1116]\tvalid_0's binary_logloss: 0.398816\n",
      "[1117]\tvalid_0's binary_logloss: 0.39882\n",
      "[1118]\tvalid_0's binary_logloss: 0.398821\n",
      "[1119]\tvalid_0's binary_logloss: 0.39881\n",
      "[1120]\tvalid_0's binary_logloss: 0.398815\n",
      "[1121]\tvalid_0's binary_logloss: 0.398819\n",
      "[1122]\tvalid_0's binary_logloss: 0.398819\n",
      "[1123]\tvalid_0's binary_logloss: 0.398815\n",
      "[1124]\tvalid_0's binary_logloss: 0.398807\n",
      "[1125]\tvalid_0's binary_logloss: 0.398812\n",
      "[1126]\tvalid_0's binary_logloss: 0.398808\n",
      "[1127]\tvalid_0's binary_logloss: 0.398807\n",
      "[1128]\tvalid_0's binary_logloss: 0.398799\n",
      "[1129]\tvalid_0's binary_logloss: 0.398797\n",
      "[1130]\tvalid_0's binary_logloss: 0.398796\n",
      "[1131]\tvalid_0's binary_logloss: 0.398792\n",
      "[1132]\tvalid_0's binary_logloss: 0.398792\n",
      "[1133]\tvalid_0's binary_logloss: 0.398798\n",
      "[1134]\tvalid_0's binary_logloss: 0.398802\n",
      "[1135]\tvalid_0's binary_logloss: 0.398796\n",
      "[1136]\tvalid_0's binary_logloss: 0.398799\n",
      "[1137]\tvalid_0's binary_logloss: 0.398806\n",
      "[1138]\tvalid_0's binary_logloss: 0.398807\n",
      "[1139]\tvalid_0's binary_logloss: 0.398817\n",
      "[1140]\tvalid_0's binary_logloss: 0.398825\n",
      "[1141]\tvalid_0's binary_logloss: 0.398822\n",
      "[1142]\tvalid_0's binary_logloss: 0.398821\n",
      "[1143]\tvalid_0's binary_logloss: 0.398818\n",
      "[1144]\tvalid_0's binary_logloss: 0.39882\n",
      "[1145]\tvalid_0's binary_logloss: 0.398824\n",
      "[1146]\tvalid_0's binary_logloss: 0.39882\n",
      "[1147]\tvalid_0's binary_logloss: 0.398821\n",
      "[1148]\tvalid_0's binary_logloss: 0.398827\n",
      "[1149]\tvalid_0's binary_logloss: 0.398824\n",
      "[1150]\tvalid_0's binary_logloss: 0.398824\n",
      "[1151]\tvalid_0's binary_logloss: 0.398829\n",
      "[1152]\tvalid_0's binary_logloss: 0.398831\n",
      "[1153]\tvalid_0's binary_logloss: 0.398823\n",
      "[1154]\tvalid_0's binary_logloss: 0.398817\n",
      "[1155]\tvalid_0's binary_logloss: 0.398824\n",
      "[1156]\tvalid_0's binary_logloss: 0.398824\n",
      "[1157]\tvalid_0's binary_logloss: 0.398826\n",
      "[1158]\tvalid_0's binary_logloss: 0.39882\n",
      "[1159]\tvalid_0's binary_logloss: 0.398807\n",
      "[1160]\tvalid_0's binary_logloss: 0.398813\n",
      "[1161]\tvalid_0's binary_logloss: 0.398819\n",
      "[1162]\tvalid_0's binary_logloss: 0.398823\n",
      "[1163]\tvalid_0's binary_logloss: 0.398836\n",
      "[1164]\tvalid_0's binary_logloss: 0.39884\n",
      "[1165]\tvalid_0's binary_logloss: 0.398846\n",
      "[1166]\tvalid_0's binary_logloss: 0.39884\n",
      "[1167]\tvalid_0's binary_logloss: 0.398852\n",
      "[1168]\tvalid_0's binary_logloss: 0.398862\n",
      "[1169]\tvalid_0's binary_logloss: 0.398871\n",
      "[1170]\tvalid_0's binary_logloss: 0.398878\n",
      "[1171]\tvalid_0's binary_logloss: 0.398884\n",
      "[1172]\tvalid_0's binary_logloss: 0.39888\n",
      "[1173]\tvalid_0's binary_logloss: 0.398889\n",
      "[1174]\tvalid_0's binary_logloss: 0.398883\n",
      "[1175]\tvalid_0's binary_logloss: 0.398897\n",
      "[1176]\tvalid_0's binary_logloss: 0.398885\n",
      "[1177]\tvalid_0's binary_logloss: 0.398884\n",
      "[1178]\tvalid_0's binary_logloss: 0.398888\n",
      "[1179]\tvalid_0's binary_logloss: 0.398892\n",
      "[1180]\tvalid_0's binary_logloss: 0.39889\n",
      "[1181]\tvalid_0's binary_logloss: 0.398884\n",
      "[1182]\tvalid_0's binary_logloss: 0.39888\n",
      "[1183]\tvalid_0's binary_logloss: 0.398883\n",
      "[1184]\tvalid_0's binary_logloss: 0.398891\n",
      "[1185]\tvalid_0's binary_logloss: 0.398893\n",
      "[1186]\tvalid_0's binary_logloss: 0.3989\n",
      "[1187]\tvalid_0's binary_logloss: 0.398903\n",
      "[1188]\tvalid_0's binary_logloss: 0.398912\n",
      "[1189]\tvalid_0's binary_logloss: 0.398912\n",
      "[1190]\tvalid_0's binary_logloss: 0.398919\n",
      "[1191]\tvalid_0's binary_logloss: 0.398923\n",
      "[1192]\tvalid_0's binary_logloss: 0.39893\n",
      "[1193]\tvalid_0's binary_logloss: 0.398935\n",
      "[1194]\tvalid_0's binary_logloss: 0.398939\n",
      "[1195]\tvalid_0's binary_logloss: 0.398941\n",
      "[1196]\tvalid_0's binary_logloss: 0.398948\n",
      "[1197]\tvalid_0's binary_logloss: 0.398948\n",
      "[1198]\tvalid_0's binary_logloss: 0.398952\n",
      "[1199]\tvalid_0's binary_logloss: 0.398958\n",
      "[1200]\tvalid_0's binary_logloss: 0.398965\n",
      "[1201]\tvalid_0's binary_logloss: 0.398972\n",
      "[1202]\tvalid_0's binary_logloss: 0.398976\n"
     ]
    },
    {
     "name": "stdout",
     "output_type": "stream",
     "text": [
      "[1203]\tvalid_0's binary_logloss: 0.398974\n",
      "[1204]\tvalid_0's binary_logloss: 0.398978\n",
      "[1205]\tvalid_0's binary_logloss: 0.398981\n",
      "[1206]\tvalid_0's binary_logloss: 0.398983\n",
      "[1207]\tvalid_0's binary_logloss: 0.398974\n",
      "[1208]\tvalid_0's binary_logloss: 0.398972\n",
      "[1209]\tvalid_0's binary_logloss: 0.398979\n",
      "[1210]\tvalid_0's binary_logloss: 0.398989\n",
      "[1211]\tvalid_0's binary_logloss: 0.398985\n",
      "[1212]\tvalid_0's binary_logloss: 0.398992\n",
      "[1213]\tvalid_0's binary_logloss: 0.398991\n",
      "[1214]\tvalid_0's binary_logloss: 0.398996\n",
      "[1215]\tvalid_0's binary_logloss: 0.399004\n",
      "[1216]\tvalid_0's binary_logloss: 0.398999\n",
      "[1217]\tvalid_0's binary_logloss: 0.399004\n",
      "[1218]\tvalid_0's binary_logloss: 0.399005\n",
      "[1219]\tvalid_0's binary_logloss: 0.399015\n",
      "[1220]\tvalid_0's binary_logloss: 0.399015\n",
      "[1221]\tvalid_0's binary_logloss: 0.399014\n",
      "[1222]\tvalid_0's binary_logloss: 0.399014\n",
      "[1223]\tvalid_0's binary_logloss: 0.399013\n",
      "[1224]\tvalid_0's binary_logloss: 0.399008\n",
      "[1225]\tvalid_0's binary_logloss: 0.399006\n",
      "[1226]\tvalid_0's binary_logloss: 0.399016\n",
      "[1227]\tvalid_0's binary_logloss: 0.399018\n",
      "[1228]\tvalid_0's binary_logloss: 0.399018\n",
      "[1229]\tvalid_0's binary_logloss: 0.39902\n",
      "[1230]\tvalid_0's binary_logloss: 0.399022\n",
      "[1231]\tvalid_0's binary_logloss: 0.39902\n",
      "[1232]\tvalid_0's binary_logloss: 0.399012\n",
      "[1233]\tvalid_0's binary_logloss: 0.39901\n",
      "[1234]\tvalid_0's binary_logloss: 0.399005\n",
      "[1235]\tvalid_0's binary_logloss: 0.399001\n",
      "[1236]\tvalid_0's binary_logloss: 0.398999\n",
      "[1237]\tvalid_0's binary_logloss: 0.398997\n",
      "[1238]\tvalid_0's binary_logloss: 0.398992\n",
      "[1239]\tvalid_0's binary_logloss: 0.398989\n",
      "[1240]\tvalid_0's binary_logloss: 0.398986\n",
      "[1241]\tvalid_0's binary_logloss: 0.398983\n",
      "[1242]\tvalid_0's binary_logloss: 0.398983\n",
      "[1243]\tvalid_0's binary_logloss: 0.398978\n",
      "[1244]\tvalid_0's binary_logloss: 0.398983\n",
      "[1245]\tvalid_0's binary_logloss: 0.398991\n",
      "[1246]\tvalid_0's binary_logloss: 0.39899\n",
      "[1247]\tvalid_0's binary_logloss: 0.398991\n",
      "[1248]\tvalid_0's binary_logloss: 0.398996\n",
      "[1249]\tvalid_0's binary_logloss: 0.399002\n",
      "[1250]\tvalid_0's binary_logloss: 0.399006\n",
      "[1251]\tvalid_0's binary_logloss: 0.399009\n",
      "[1252]\tvalid_0's binary_logloss: 0.399009\n",
      "[1253]\tvalid_0's binary_logloss: 0.399012\n",
      "[1254]\tvalid_0's binary_logloss: 0.399009\n",
      "[1255]\tvalid_0's binary_logloss: 0.399015\n",
      "[1256]\tvalid_0's binary_logloss: 0.399011\n",
      "[1257]\tvalid_0's binary_logloss: 0.399011\n",
      "[1258]\tvalid_0's binary_logloss: 0.399013\n",
      "[1259]\tvalid_0's binary_logloss: 0.399012\n",
      "[1260]\tvalid_0's binary_logloss: 0.399009\n",
      "[1261]\tvalid_0's binary_logloss: 0.399013\n",
      "[1262]\tvalid_0's binary_logloss: 0.399013\n",
      "[1263]\tvalid_0's binary_logloss: 0.39901\n",
      "[1264]\tvalid_0's binary_logloss: 0.399009\n",
      "[1265]\tvalid_0's binary_logloss: 0.399012\n",
      "[1266]\tvalid_0's binary_logloss: 0.39901\n",
      "[1267]\tvalid_0's binary_logloss: 0.399016\n",
      "[1268]\tvalid_0's binary_logloss: 0.399016\n",
      "[1269]\tvalid_0's binary_logloss: 0.399011\n",
      "[1270]\tvalid_0's binary_logloss: 0.399012\n",
      "[1271]\tvalid_0's binary_logloss: 0.399004\n",
      "[1272]\tvalid_0's binary_logloss: 0.398998\n",
      "[1273]\tvalid_0's binary_logloss: 0.398998\n",
      "[1274]\tvalid_0's binary_logloss: 0.398993\n",
      "[1275]\tvalid_0's binary_logloss: 0.398995\n",
      "[1276]\tvalid_0's binary_logloss: 0.398999\n",
      "[1277]\tvalid_0's binary_logloss: 0.398993\n",
      "[1278]\tvalid_0's binary_logloss: 0.398986\n",
      "[1279]\tvalid_0's binary_logloss: 0.39899\n",
      "[1280]\tvalid_0's binary_logloss: 0.398997\n",
      "[1281]\tvalid_0's binary_logloss: 0.398996\n",
      "[1282]\tvalid_0's binary_logloss: 0.39899\n",
      "[1283]\tvalid_0's binary_logloss: 0.399\n",
      "[1284]\tvalid_0's binary_logloss: 0.399008\n",
      "[1285]\tvalid_0's binary_logloss: 0.399013\n",
      "[1286]\tvalid_0's binary_logloss: 0.39902\n",
      "[1287]\tvalid_0's binary_logloss: 0.399026\n",
      "[1288]\tvalid_0's binary_logloss: 0.399028\n",
      "[1289]\tvalid_0's binary_logloss: 0.399035\n",
      "[1290]\tvalid_0's binary_logloss: 0.399038\n",
      "[1291]\tvalid_0's binary_logloss: 0.399035\n",
      "[1292]\tvalid_0's binary_logloss: 0.399023\n",
      "[1293]\tvalid_0's binary_logloss: 0.399032\n",
      "[1294]\tvalid_0's binary_logloss: 0.399031\n",
      "[1295]\tvalid_0's binary_logloss: 0.399029\n",
      "[1296]\tvalid_0's binary_logloss: 0.39904\n",
      "[1297]\tvalid_0's binary_logloss: 0.399041\n",
      "[1298]\tvalid_0's binary_logloss: 0.399052\n",
      "[1299]\tvalid_0's binary_logloss: 0.399062\n",
      "[1300]\tvalid_0's binary_logloss: 0.399065\n",
      "[1301]\tvalid_0's binary_logloss: 0.399072\n",
      "[1302]\tvalid_0's binary_logloss: 0.399068\n",
      "[1303]\tvalid_0's binary_logloss: 0.399065\n",
      "[1304]\tvalid_0's binary_logloss: 0.399058\n",
      "[1305]\tvalid_0's binary_logloss: 0.399061\n",
      "[1306]\tvalid_0's binary_logloss: 0.399062\n",
      "[1307]\tvalid_0's binary_logloss: 0.399056\n",
      "[1308]\tvalid_0's binary_logloss: 0.399056\n",
      "[1309]\tvalid_0's binary_logloss: 0.399048\n",
      "[1310]\tvalid_0's binary_logloss: 0.399047\n",
      "[1311]\tvalid_0's binary_logloss: 0.399056\n",
      "[1312]\tvalid_0's binary_logloss: 0.399051\n",
      "[1313]\tvalid_0's binary_logloss: 0.39905\n",
      "[1314]\tvalid_0's binary_logloss: 0.399056\n",
      "[1315]\tvalid_0's binary_logloss: 0.399062\n",
      "[1316]\tvalid_0's binary_logloss: 0.399063\n",
      "[1317]\tvalid_0's binary_logloss: 0.399059\n",
      "[1318]\tvalid_0's binary_logloss: 0.399064\n",
      "[1319]\tvalid_0's binary_logloss: 0.39907\n",
      "[1320]\tvalid_0's binary_logloss: 0.399078\n",
      "[1321]\tvalid_0's binary_logloss: 0.399087\n",
      "[1322]\tvalid_0's binary_logloss: 0.399084\n",
      "[1323]\tvalid_0's binary_logloss: 0.399084\n",
      "[1324]\tvalid_0's binary_logloss: 0.399089\n",
      "[1325]\tvalid_0's binary_logloss: 0.399093\n",
      "[1326]\tvalid_0's binary_logloss: 0.399098\n",
      "[1327]\tvalid_0's binary_logloss: 0.399106\n",
      "[1328]\tvalid_0's binary_logloss: 0.399108\n",
      "[1329]\tvalid_0's binary_logloss: 0.399104\n",
      "[1330]\tvalid_0's binary_logloss: 0.399102\n",
      "[1331]\tvalid_0's binary_logloss: 0.399102\n",
      "[1332]\tvalid_0's binary_logloss: 0.399093\n",
      "[1333]\tvalid_0's binary_logloss: 0.39909\n",
      "[1334]\tvalid_0's binary_logloss: 0.39909\n",
      "[1335]\tvalid_0's binary_logloss: 0.399073\n",
      "[1336]\tvalid_0's binary_logloss: 0.399073\n",
      "[1337]\tvalid_0's binary_logloss: 0.399077\n",
      "[1338]\tvalid_0's binary_logloss: 0.399083\n",
      "[1339]\tvalid_0's binary_logloss: 0.399077\n",
      "[1340]\tvalid_0's binary_logloss: 0.399083\n",
      "[1341]\tvalid_0's binary_logloss: 0.399075\n",
      "[1342]\tvalid_0's binary_logloss: 0.399077\n",
      "[1343]\tvalid_0's binary_logloss: 0.399074\n",
      "[1344]\tvalid_0's binary_logloss: 0.39907\n",
      "[1345]\tvalid_0's binary_logloss: 0.39907\n",
      "[1346]\tvalid_0's binary_logloss: 0.399067\n",
      "[1347]\tvalid_0's binary_logloss: 0.399073\n",
      "[1348]\tvalid_0's binary_logloss: 0.39907\n",
      "[1349]\tvalid_0's binary_logloss: 0.399075\n",
      "[1350]\tvalid_0's binary_logloss: 0.39907\n",
      "[1351]\tvalid_0's binary_logloss: 0.399066\n",
      "[1352]\tvalid_0's binary_logloss: 0.399067\n",
      "[1353]\tvalid_0's binary_logloss: 0.399063\n",
      "[1354]\tvalid_0's binary_logloss: 0.399065\n",
      "[1355]\tvalid_0's binary_logloss: 0.399064\n",
      "[1356]\tvalid_0's binary_logloss: 0.399067\n",
      "[1357]\tvalid_0's binary_logloss: 0.399065\n",
      "[1358]\tvalid_0's binary_logloss: 0.399067\n",
      "[1359]\tvalid_0's binary_logloss: 0.399065\n",
      "[1360]\tvalid_0's binary_logloss: 0.399063\n",
      "[1361]\tvalid_0's binary_logloss: 0.399055\n",
      "[1362]\tvalid_0's binary_logloss: 0.399064\n",
      "[1363]\tvalid_0's binary_logloss: 0.399074\n",
      "[1364]\tvalid_0's binary_logloss: 0.399069\n",
      "[1365]\tvalid_0's binary_logloss: 0.39908\n",
      "[1366]\tvalid_0's binary_logloss: 0.399082\n",
      "[1367]\tvalid_0's binary_logloss: 0.399085\n",
      "[1368]\tvalid_0's binary_logloss: 0.39908\n",
      "[1369]\tvalid_0's binary_logloss: 0.399077\n",
      "[1370]\tvalid_0's binary_logloss: 0.399076\n",
      "[1371]\tvalid_0's binary_logloss: 0.399072\n",
      "[1372]\tvalid_0's binary_logloss: 0.399082\n",
      "[1373]\tvalid_0's binary_logloss: 0.399079\n",
      "[1374]\tvalid_0's binary_logloss: 0.399093\n",
      "[1375]\tvalid_0's binary_logloss: 0.399101\n",
      "[1376]\tvalid_0's binary_logloss: 0.399102\n",
      "[1377]\tvalid_0's binary_logloss: 0.399099\n",
      "[1378]\tvalid_0's binary_logloss: 0.399101\n",
      "[1379]\tvalid_0's binary_logloss: 0.399117\n",
      "[1380]\tvalid_0's binary_logloss: 0.39912\n",
      "[1381]\tvalid_0's binary_logloss: 0.399124\n",
      "[1382]\tvalid_0's binary_logloss: 0.399123\n",
      "[1383]\tvalid_0's binary_logloss: 0.39912\n",
      "[1384]\tvalid_0's binary_logloss: 0.399112\n",
      "[1385]\tvalid_0's binary_logloss: 0.39911\n",
      "[1386]\tvalid_0's binary_logloss: 0.399107\n",
      "[1387]\tvalid_0's binary_logloss: 0.399116\n",
      "[1388]\tvalid_0's binary_logloss: 0.399114\n",
      "[1389]\tvalid_0's binary_logloss: 0.399119\n",
      "[1390]\tvalid_0's binary_logloss: 0.399117\n",
      "[1391]\tvalid_0's binary_logloss: 0.399111\n",
      "[1392]\tvalid_0's binary_logloss: 0.399115\n",
      "[1393]\tvalid_0's binary_logloss: 0.399122\n",
      "[1394]\tvalid_0's binary_logloss: 0.399133\n",
      "[1395]\tvalid_0's binary_logloss: 0.39913\n",
      "[1396]\tvalid_0's binary_logloss: 0.399127\n",
      "[1397]\tvalid_0's binary_logloss: 0.39913\n"
     ]
    },
    {
     "name": "stdout",
     "output_type": "stream",
     "text": [
      "[1398]\tvalid_0's binary_logloss: 0.399131\n",
      "[1399]\tvalid_0's binary_logloss: 0.399137\n",
      "[1400]\tvalid_0's binary_logloss: 0.399134\n",
      "[1401]\tvalid_0's binary_logloss: 0.399137\n",
      "[1402]\tvalid_0's binary_logloss: 0.39914\n",
      "[1403]\tvalid_0's binary_logloss: 0.399148\n",
      "[1404]\tvalid_0's binary_logloss: 0.399151\n",
      "[1405]\tvalid_0's binary_logloss: 0.399155\n",
      "[1406]\tvalid_0's binary_logloss: 0.399144\n",
      "[1407]\tvalid_0's binary_logloss: 0.399136\n",
      "[1408]\tvalid_0's binary_logloss: 0.399134\n",
      "[1409]\tvalid_0's binary_logloss: 0.399124\n",
      "[1410]\tvalid_0's binary_logloss: 0.399122\n",
      "[1411]\tvalid_0's binary_logloss: 0.399115\n",
      "[1412]\tvalid_0's binary_logloss: 0.399111\n",
      "[1413]\tvalid_0's binary_logloss: 0.399123\n",
      "[1414]\tvalid_0's binary_logloss: 0.399124\n",
      "[1415]\tvalid_0's binary_logloss: 0.39912\n",
      "[1416]\tvalid_0's binary_logloss: 0.399125\n",
      "[1417]\tvalid_0's binary_logloss: 0.39913\n",
      "[1418]\tvalid_0's binary_logloss: 0.399124\n",
      "[1419]\tvalid_0's binary_logloss: 0.399126\n",
      "[1420]\tvalid_0's binary_logloss: 0.399135\n",
      "[1421]\tvalid_0's binary_logloss: 0.399131\n",
      "[1422]\tvalid_0's binary_logloss: 0.399134\n",
      "[1423]\tvalid_0's binary_logloss: 0.39914\n",
      "[1424]\tvalid_0's binary_logloss: 0.399144\n",
      "[1425]\tvalid_0's binary_logloss: 0.39915\n",
      "[1426]\tvalid_0's binary_logloss: 0.399148\n",
      "[1427]\tvalid_0's binary_logloss: 0.399148\n",
      "[1428]\tvalid_0's binary_logloss: 0.399157\n",
      "[1429]\tvalid_0's binary_logloss: 0.399161\n",
      "[1430]\tvalid_0's binary_logloss: 0.399164\n",
      "[1431]\tvalid_0's binary_logloss: 0.399162\n",
      "[1432]\tvalid_0's binary_logloss: 0.399165\n",
      "[1433]\tvalid_0's binary_logloss: 0.399159\n",
      "[1434]\tvalid_0's binary_logloss: 0.399162\n",
      "[1435]\tvalid_0's binary_logloss: 0.399167\n",
      "[1436]\tvalid_0's binary_logloss: 0.399172\n",
      "[1437]\tvalid_0's binary_logloss: 0.399176\n",
      "[1438]\tvalid_0's binary_logloss: 0.399173\n",
      "[1439]\tvalid_0's binary_logloss: 0.399179\n",
      "[1440]\tvalid_0's binary_logloss: 0.39918\n",
      "[1441]\tvalid_0's binary_logloss: 0.399189\n",
      "[1442]\tvalid_0's binary_logloss: 0.399192\n",
      "[1443]\tvalid_0's binary_logloss: 0.399183\n",
      "[1444]\tvalid_0's binary_logloss: 0.399189\n",
      "[1445]\tvalid_0's binary_logloss: 0.399194\n",
      "[1446]\tvalid_0's binary_logloss: 0.399189\n",
      "[1447]\tvalid_0's binary_logloss: 0.39919\n",
      "[1448]\tvalid_0's binary_logloss: 0.399198\n",
      "[1449]\tvalid_0's binary_logloss: 0.399203\n",
      "[1450]\tvalid_0's binary_logloss: 0.399211\n",
      "[1451]\tvalid_0's binary_logloss: 0.399216\n",
      "[1452]\tvalid_0's binary_logloss: 0.399221\n",
      "[1453]\tvalid_0's binary_logloss: 0.399216\n",
      "[1454]\tvalid_0's binary_logloss: 0.399215\n",
      "[1455]\tvalid_0's binary_logloss: 0.399218\n",
      "[1456]\tvalid_0's binary_logloss: 0.399218\n",
      "[1457]\tvalid_0's binary_logloss: 0.399219\n",
      "[1458]\tvalid_0's binary_logloss: 0.39922\n",
      "[1459]\tvalid_0's binary_logloss: 0.399212\n",
      "[1460]\tvalid_0's binary_logloss: 0.39921\n",
      "[1461]\tvalid_0's binary_logloss: 0.399216\n",
      "[1462]\tvalid_0's binary_logloss: 0.399213\n",
      "[1463]\tvalid_0's binary_logloss: 0.399218\n",
      "[1464]\tvalid_0's binary_logloss: 0.399217\n",
      "[1465]\tvalid_0's binary_logloss: 0.399227\n",
      "[1466]\tvalid_0's binary_logloss: 0.399228\n",
      "[1467]\tvalid_0's binary_logloss: 0.399225\n",
      "[1468]\tvalid_0's binary_logloss: 0.399231\n",
      "[1469]\tvalid_0's binary_logloss: 0.399235\n",
      "[1470]\tvalid_0's binary_logloss: 0.399232\n",
      "[1471]\tvalid_0's binary_logloss: 0.399226\n",
      "[1472]\tvalid_0's binary_logloss: 0.399225\n",
      "[1473]\tvalid_0's binary_logloss: 0.399219\n",
      "[1474]\tvalid_0's binary_logloss: 0.399225\n",
      "[1475]\tvalid_0's binary_logloss: 0.399233\n",
      "[1476]\tvalid_0's binary_logloss: 0.39924\n",
      "[1477]\tvalid_0's binary_logloss: 0.399239\n",
      "[1478]\tvalid_0's binary_logloss: 0.399238\n",
      "[1479]\tvalid_0's binary_logloss: 0.399242\n",
      "[1480]\tvalid_0's binary_logloss: 0.399239\n",
      "[1481]\tvalid_0's binary_logloss: 0.399238\n",
      "[1482]\tvalid_0's binary_logloss: 0.399239\n",
      "[1483]\tvalid_0's binary_logloss: 0.399242\n",
      "[1484]\tvalid_0's binary_logloss: 0.39924\n",
      "[1485]\tvalid_0's binary_logloss: 0.399257\n",
      "[1486]\tvalid_0's binary_logloss: 0.399252\n",
      "[1487]\tvalid_0's binary_logloss: 0.399244\n",
      "[1488]\tvalid_0's binary_logloss: 0.399239\n",
      "[1489]\tvalid_0's binary_logloss: 0.39923\n",
      "[1490]\tvalid_0's binary_logloss: 0.399225\n",
      "[1491]\tvalid_0's binary_logloss: 0.399227\n",
      "[1492]\tvalid_0's binary_logloss: 0.399225\n",
      "[1493]\tvalid_0's binary_logloss: 0.399227\n",
      "[1494]\tvalid_0's binary_logloss: 0.399228\n",
      "[1495]\tvalid_0's binary_logloss: 0.399229\n",
      "[1496]\tvalid_0's binary_logloss: 0.399232\n",
      "[1497]\tvalid_0's binary_logloss: 0.399226\n",
      "[1498]\tvalid_0's binary_logloss: 0.399234\n",
      "[1499]\tvalid_0's binary_logloss: 0.399234\n",
      "[1500]\tvalid_0's binary_logloss: 0.399242\n",
      "[1501]\tvalid_0's binary_logloss: 0.399247\n",
      "[1502]\tvalid_0's binary_logloss: 0.399252\n",
      "[1503]\tvalid_0's binary_logloss: 0.399249\n",
      "[1504]\tvalid_0's binary_logloss: 0.39925\n",
      "[1505]\tvalid_0's binary_logloss: 0.399246\n",
      "[1506]\tvalid_0's binary_logloss: 0.399246\n",
      "[1507]\tvalid_0's binary_logloss: 0.399257\n",
      "[1508]\tvalid_0's binary_logloss: 0.399257\n",
      "[1509]\tvalid_0's binary_logloss: 0.399264\n",
      "[1510]\tvalid_0's binary_logloss: 0.39927\n",
      "[1511]\tvalid_0's binary_logloss: 0.399273\n",
      "[1512]\tvalid_0's binary_logloss: 0.399273\n",
      "[1513]\tvalid_0's binary_logloss: 0.399273\n",
      "[1514]\tvalid_0's binary_logloss: 0.399274\n",
      "[1515]\tvalid_0's binary_logloss: 0.399269\n",
      "[1516]\tvalid_0's binary_logloss: 0.399276\n",
      "[1517]\tvalid_0's binary_logloss: 0.399277\n",
      "[1518]\tvalid_0's binary_logloss: 0.399284\n",
      "[1519]\tvalid_0's binary_logloss: 0.399281\n",
      "[1520]\tvalid_0's binary_logloss: 0.399285\n",
      "[1521]\tvalid_0's binary_logloss: 0.399284\n",
      "[1522]\tvalid_0's binary_logloss: 0.399283\n",
      "[1523]\tvalid_0's binary_logloss: 0.39928\n",
      "[1524]\tvalid_0's binary_logloss: 0.399276\n",
      "[1525]\tvalid_0's binary_logloss: 0.399272\n",
      "[1526]\tvalid_0's binary_logloss: 0.399269\n",
      "[1527]\tvalid_0's binary_logloss: 0.399268\n",
      "[1528]\tvalid_0's binary_logloss: 0.399273\n",
      "[1529]\tvalid_0's binary_logloss: 0.399276\n",
      "[1530]\tvalid_0's binary_logloss: 0.399275\n",
      "[1531]\tvalid_0's binary_logloss: 0.399282\n",
      "[1532]\tvalid_0's binary_logloss: 0.399279\n",
      "[1533]\tvalid_0's binary_logloss: 0.399278\n",
      "[1534]\tvalid_0's binary_logloss: 0.399293\n",
      "[1535]\tvalid_0's binary_logloss: 0.399289\n",
      "[1536]\tvalid_0's binary_logloss: 0.399292\n",
      "[1537]\tvalid_0's binary_logloss: 0.399301\n",
      "[1538]\tvalid_0's binary_logloss: 0.399302\n",
      "[1539]\tvalid_0's binary_logloss: 0.399309\n",
      "[1540]\tvalid_0's binary_logloss: 0.399303\n",
      "[1541]\tvalid_0's binary_logloss: 0.399302\n",
      "[1542]\tvalid_0's binary_logloss: 0.399298\n",
      "[1543]\tvalid_0's binary_logloss: 0.399307\n",
      "[1544]\tvalid_0's binary_logloss: 0.399313\n",
      "[1545]\tvalid_0's binary_logloss: 0.399322\n",
      "[1546]\tvalid_0's binary_logloss: 0.399327\n",
      "[1547]\tvalid_0's binary_logloss: 0.399317\n",
      "[1548]\tvalid_0's binary_logloss: 0.399324\n",
      "[1549]\tvalid_0's binary_logloss: 0.399326\n",
      "[1550]\tvalid_0's binary_logloss: 0.399321\n",
      "[1551]\tvalid_0's binary_logloss: 0.399328\n",
      "[1552]\tvalid_0's binary_logloss: 0.399327\n",
      "[1553]\tvalid_0's binary_logloss: 0.399331\n",
      "[1554]\tvalid_0's binary_logloss: 0.399332\n",
      "[1555]\tvalid_0's binary_logloss: 0.399338\n",
      "[1556]\tvalid_0's binary_logloss: 0.399334\n",
      "[1557]\tvalid_0's binary_logloss: 0.39934\n",
      "[1558]\tvalid_0's binary_logloss: 0.399343\n",
      "[1559]\tvalid_0's binary_logloss: 0.399341\n",
      "[1560]\tvalid_0's binary_logloss: 0.399333\n",
      "[1561]\tvalid_0's binary_logloss: 0.399336\n",
      "[1562]\tvalid_0's binary_logloss: 0.399338\n",
      "[1563]\tvalid_0's binary_logloss: 0.399341\n",
      "[1564]\tvalid_0's binary_logloss: 0.399351\n",
      "[1565]\tvalid_0's binary_logloss: 0.399359\n",
      "[1566]\tvalid_0's binary_logloss: 0.399359\n",
      "[1567]\tvalid_0's binary_logloss: 0.399364\n",
      "[1568]\tvalid_0's binary_logloss: 0.399372\n",
      "[1569]\tvalid_0's binary_logloss: 0.399368\n",
      "[1570]\tvalid_0's binary_logloss: 0.39936\n",
      "[1571]\tvalid_0's binary_logloss: 0.399356\n",
      "[1572]\tvalid_0's binary_logloss: 0.399354\n",
      "[1573]\tvalid_0's binary_logloss: 0.399357\n",
      "[1574]\tvalid_0's binary_logloss: 0.399358\n",
      "[1575]\tvalid_0's binary_logloss: 0.399358\n",
      "[1576]\tvalid_0's binary_logloss: 0.399363\n",
      "[1577]\tvalid_0's binary_logloss: 0.399368\n",
      "[1578]\tvalid_0's binary_logloss: 0.399373\n",
      "[1579]\tvalid_0's binary_logloss: 0.399373\n",
      "[1580]\tvalid_0's binary_logloss: 0.399374\n",
      "[1581]\tvalid_0's binary_logloss: 0.399375\n",
      "[1582]\tvalid_0's binary_logloss: 0.399375\n",
      "[1583]\tvalid_0's binary_logloss: 0.399366\n",
      "[1584]\tvalid_0's binary_logloss: 0.399368\n",
      "[1585]\tvalid_0's binary_logloss: 0.399377\n",
      "[1586]\tvalid_0's binary_logloss: 0.399372\n",
      "[1587]\tvalid_0's binary_logloss: 0.399377\n",
      "[1588]\tvalid_0's binary_logloss: 0.399379\n",
      "[1589]\tvalid_0's binary_logloss: 0.399386\n",
      "[1590]\tvalid_0's binary_logloss: 0.399397\n",
      "[1591]\tvalid_0's binary_logloss: 0.399392\n",
      "[1592]\tvalid_0's binary_logloss: 0.399392\n",
      "[1593]\tvalid_0's binary_logloss: 0.399382\n",
      "[1594]\tvalid_0's binary_logloss: 0.399386\n",
      "[1595]\tvalid_0's binary_logloss: 0.399385\n"
     ]
    },
    {
     "name": "stdout",
     "output_type": "stream",
     "text": [
      "[1596]\tvalid_0's binary_logloss: 0.399378\n",
      "[1597]\tvalid_0's binary_logloss: 0.399388\n",
      "[1598]\tvalid_0's binary_logloss: 0.399385\n",
      "[1599]\tvalid_0's binary_logloss: 0.399395\n",
      "[1600]\tvalid_0's binary_logloss: 0.399403\n",
      "[1601]\tvalid_0's binary_logloss: 0.399397\n",
      "[1602]\tvalid_0's binary_logloss: 0.399396\n",
      "[1603]\tvalid_0's binary_logloss: 0.39939\n",
      "[1604]\tvalid_0's binary_logloss: 0.399397\n",
      "[1605]\tvalid_0's binary_logloss: 0.399398\n",
      "[1606]\tvalid_0's binary_logloss: 0.399397\n",
      "[1607]\tvalid_0's binary_logloss: 0.399389\n",
      "[1608]\tvalid_0's binary_logloss: 0.399397\n",
      "[1609]\tvalid_0's binary_logloss: 0.399398\n",
      "[1610]\tvalid_0's binary_logloss: 0.399396\n",
      "[1611]\tvalid_0's binary_logloss: 0.39939\n",
      "[1612]\tvalid_0's binary_logloss: 0.399395\n",
      "[1613]\tvalid_0's binary_logloss: 0.399395\n",
      "[1614]\tvalid_0's binary_logloss: 0.399397\n",
      "[1615]\tvalid_0's binary_logloss: 0.399394\n",
      "[1616]\tvalid_0's binary_logloss: 0.399395\n",
      "[1617]\tvalid_0's binary_logloss: 0.399397\n",
      "[1618]\tvalid_0's binary_logloss: 0.399397\n",
      "[1619]\tvalid_0's binary_logloss: 0.39939\n",
      "[1620]\tvalid_0's binary_logloss: 0.399395\n",
      "[1621]\tvalid_0's binary_logloss: 0.399385\n",
      "[1622]\tvalid_0's binary_logloss: 0.399388\n",
      "[1623]\tvalid_0's binary_logloss: 0.399389\n",
      "[1624]\tvalid_0's binary_logloss: 0.399387\n",
      "[1625]\tvalid_0's binary_logloss: 0.39939\n",
      "[1626]\tvalid_0's binary_logloss: 0.39939\n",
      "[1627]\tvalid_0's binary_logloss: 0.39939\n",
      "[1628]\tvalid_0's binary_logloss: 0.399395\n",
      "[1629]\tvalid_0's binary_logloss: 0.399398\n",
      "[1630]\tvalid_0's binary_logloss: 0.399402\n",
      "[1631]\tvalid_0's binary_logloss: 0.399404\n",
      "Early stopping, best iteration is:\n",
      "[1131]\tvalid_0's binary_logloss: 0.398792\n"
     ]
    }
   ],
   "source": [
    "# specify your configurations as a dict\n",
    "params = {\n",
    "    'task': 'train',\n",
    "    'boosting_type': 'gbdt',\n",
    "    'objective': 'binary',\n",
    "    'metric': { 'binary_logloss'},\n",
    "    'num_leaves': 31, # defauly leaves(31) amount for each tree\n",
    "    'learning_rate': 0.08,\n",
    "    'feature_fraction': 0.7, # will select 70% features before training each tree\n",
    "    'bagging_fraction': 0.3, #feature_fraction, but this will random select part of data\n",
    "    'bagging_freq': 5, #  perform bagging at every 5 iteration\n",
    "    'verbose': 0\n",
    "}\n",
    "\n",
    "print('Start training...')\n",
    "# train\n",
    "gbm = lgb.train(params,\n",
    "                lgb_train,\n",
    "                num_boost_round=4000,\n",
    "                valid_sets=lgb_eval,\n",
    "                early_stopping_rounds=500)"
   ]
  },
  {
   "cell_type": "code",
   "execution_count": 80,
   "metadata": {},
   "outputs": [
    {
     "name": "stdout",
     "output_type": "stream",
     "text": [
      "defaultdict(<class 'dict'>, {'valid_0': {'binary_logloss': 0.39879172648967864}})\n",
      "1131\n"
     ]
    }
   ],
   "source": [
    "print(gbm.best_score)\n",
    "print(gbm.best_iteration)"
   ]
  },
  {
   "cell_type": "code",
   "execution_count": 81,
   "metadata": {},
   "outputs": [],
   "source": [
    "def run_default_test(train, test, features, target, random_state=0):\n",
    "    eta = 0.1\n",
    "    max_depth = 5\n",
    "    subsample = 0.8\n",
    "    colsample_bytree = 0.8\n",
    "    print('XGBoost params. ETA: {}, MAX_DEPTH: {}, SUBSAMPLE: {}, COLSAMPLE_BY_TREE: {}'.format(eta, max_depth, subsample, colsample_bytree))\n",
    "    params = {\n",
    "        \"objective\": \"binary:logistic\",\n",
    "        \"booster\" : \"gbtree\",\n",
    "        \"eval_metric\": \"logloss\",\n",
    "        \"eta\": eta,\n",
    "        \"max_depth\": max_depth,\n",
    "        \"subsample\": subsample,\n",
    "        \"colsample_bytree\": colsample_bytree,\n",
    "        \"silent\": 1,\n",
    "        \"seed\": random_state\n",
    "    }\n",
    "    num_boost_round = 260\n",
    "    early_stopping_rounds = 20\n",
    "    test_size = 0.2\n",
    "\n",
    "    X_train, X_valid = train_test_split(train, test_size=test_size, random_state=random_state)\n",
    "    y_train = X_train[target]\n",
    "    y_valid = X_valid[target]\n",
    "    dtrain = xgb.DMatrix(X_train[features], y_train)\n",
    "    dvalid = xgb.DMatrix(X_valid[features], y_valid)\n",
    "    watchlist = [(dtrain, 'train'), (dvalid, 'eval')]\n",
    "    gbm = xgb.train(params, dtrain, num_boost_round, evals=watchlist, early_stopping_rounds=early_stopping_rounds, verbose_eval=True)"
   ]
  },
  {
   "cell_type": "code",
   "execution_count": 82,
   "metadata": {
    "scrolled": false
   },
   "outputs": [
    {
     "name": "stdout",
     "output_type": "stream",
     "text": [
      "XGBoost params. ETA: 0.1, MAX_DEPTH: 5, SUBSAMPLE: 0.8, COLSAMPLE_BY_TREE: 0.8\n",
      "[0]\ttrain-logloss:0.648516\teval-logloss:0.648513\n",
      "Multiple eval metrics have been passed: 'eval-logloss' will be used for early stopping.\n",
      "\n",
      "Will train until eval-logloss hasn't improved in 20 rounds.\n",
      "[1]\ttrain-logloss:0.612072\teval-logloss:0.612107\n",
      "[2]\ttrain-logloss:0.581958\teval-logloss:0.582006\n",
      "[3]\ttrain-logloss:0.557006\teval-logloss:0.557076\n",
      "[4]\ttrain-logloss:0.536077\teval-logloss:0.536158\n",
      "[5]\ttrain-logloss:0.518467\teval-logloss:0.518542\n",
      "[6]\ttrain-logloss:0.503582\teval-logloss:0.503652\n",
      "[7]\ttrain-logloss:0.491211\teval-logloss:0.491289\n",
      "[8]\ttrain-logloss:0.480615\teval-logloss:0.480702\n",
      "[9]\ttrain-logloss:0.47138\teval-logloss:0.471472\n",
      "[10]\ttrain-logloss:0.463572\teval-logloss:0.463663\n",
      "[11]\ttrain-logloss:0.457014\teval-logloss:0.457133\n",
      "[12]\ttrain-logloss:0.451614\teval-logloss:0.451759\n",
      "[13]\ttrain-logloss:0.446827\teval-logloss:0.446966\n",
      "[14]\ttrain-logloss:0.442734\teval-logloss:0.442897\n",
      "[15]\ttrain-logloss:0.439288\teval-logloss:0.439469\n",
      "[16]\ttrain-logloss:0.436132\teval-logloss:0.436327\n",
      "[17]\ttrain-logloss:0.433503\teval-logloss:0.433714\n",
      "[18]\ttrain-logloss:0.431356\teval-logloss:0.431568\n",
      "[19]\ttrain-logloss:0.429501\teval-logloss:0.429738\n",
      "[20]\ttrain-logloss:0.427708\teval-logloss:0.427957\n",
      "[21]\ttrain-logloss:0.426358\teval-logloss:0.426611\n",
      "[22]\ttrain-logloss:0.425143\teval-logloss:0.425371\n",
      "[23]\ttrain-logloss:0.423906\teval-logloss:0.424141\n",
      "[24]\ttrain-logloss:0.422871\teval-logloss:0.423126\n",
      "[25]\ttrain-logloss:0.422118\teval-logloss:0.422373\n",
      "[26]\ttrain-logloss:0.421385\teval-logloss:0.421636\n",
      "[27]\ttrain-logloss:0.420604\teval-logloss:0.420865\n",
      "[28]\ttrain-logloss:0.419887\teval-logloss:0.420162\n",
      "[29]\ttrain-logloss:0.419324\teval-logloss:0.419631\n",
      "[30]\ttrain-logloss:0.418809\teval-logloss:0.419152\n",
      "[31]\ttrain-logloss:0.41837\teval-logloss:0.418737\n",
      "[32]\ttrain-logloss:0.417998\teval-logloss:0.418372\n",
      "[33]\ttrain-logloss:0.417595\teval-logloss:0.417973\n",
      "[34]\ttrain-logloss:0.417285\teval-logloss:0.417673\n",
      "[35]\ttrain-logloss:0.416901\teval-logloss:0.417305\n",
      "[36]\ttrain-logloss:0.41652\teval-logloss:0.416962\n",
      "[37]\ttrain-logloss:0.416141\teval-logloss:0.416611\n",
      "[38]\ttrain-logloss:0.415877\teval-logloss:0.416354\n",
      "[39]\ttrain-logloss:0.415679\teval-logloss:0.416177\n",
      "[40]\ttrain-logloss:0.415438\teval-logloss:0.415953\n",
      "[41]\ttrain-logloss:0.415271\teval-logloss:0.415799\n",
      "[42]\ttrain-logloss:0.415011\teval-logloss:0.415549\n",
      "[43]\ttrain-logloss:0.414888\teval-logloss:0.415435\n",
      "[44]\ttrain-logloss:0.414635\teval-logloss:0.4152\n",
      "[45]\ttrain-logloss:0.414436\teval-logloss:0.415\n",
      "[46]\ttrain-logloss:0.41424\teval-logloss:0.414813\n",
      "[47]\ttrain-logloss:0.414033\teval-logloss:0.414612\n",
      "[48]\ttrain-logloss:0.413813\teval-logloss:0.414409\n",
      "[49]\ttrain-logloss:0.413683\teval-logloss:0.414301\n",
      "[50]\ttrain-logloss:0.413441\teval-logloss:0.414059\n",
      "[51]\ttrain-logloss:0.413304\teval-logloss:0.413938\n",
      "[52]\ttrain-logloss:0.413096\teval-logloss:0.413761\n",
      "[53]\ttrain-logloss:0.412976\teval-logloss:0.413641\n",
      "[54]\ttrain-logloss:0.412638\teval-logloss:0.413318\n",
      "[55]\ttrain-logloss:0.412503\teval-logloss:0.413198\n",
      "[56]\ttrain-logloss:0.412364\teval-logloss:0.413079\n",
      "[57]\ttrain-logloss:0.412012\teval-logloss:0.412778\n",
      "[58]\ttrain-logloss:0.411891\teval-logloss:0.412673\n",
      "[59]\ttrain-logloss:0.411625\teval-logloss:0.412426\n",
      "[60]\ttrain-logloss:0.411532\teval-logloss:0.412351\n",
      "[61]\ttrain-logloss:0.411201\teval-logloss:0.412042\n",
      "[62]\ttrain-logloss:0.410998\teval-logloss:0.411843\n",
      "[63]\ttrain-logloss:0.410883\teval-logloss:0.411737\n",
      "[64]\ttrain-logloss:0.410757\teval-logloss:0.411621\n",
      "[65]\ttrain-logloss:0.410651\teval-logloss:0.411531\n",
      "[66]\ttrain-logloss:0.410496\teval-logloss:0.411397\n",
      "[67]\ttrain-logloss:0.410318\teval-logloss:0.411238\n",
      "[68]\ttrain-logloss:0.410205\teval-logloss:0.411136\n",
      "[69]\ttrain-logloss:0.409806\teval-logloss:0.410775\n",
      "[70]\ttrain-logloss:0.409685\teval-logloss:0.410672\n",
      "[71]\ttrain-logloss:0.409524\teval-logloss:0.410519\n",
      "[72]\ttrain-logloss:0.409405\teval-logloss:0.410423\n",
      "[73]\ttrain-logloss:0.409303\teval-logloss:0.410322\n",
      "[74]\ttrain-logloss:0.4092\teval-logloss:0.41023\n",
      "[75]\ttrain-logloss:0.408844\teval-logloss:0.409904\n",
      "[76]\ttrain-logloss:0.408757\teval-logloss:0.409829\n",
      "[77]\ttrain-logloss:0.408708\teval-logloss:0.409788\n",
      "[78]\ttrain-logloss:0.408591\teval-logloss:0.40969\n",
      "[79]\ttrain-logloss:0.408488\teval-logloss:0.4096\n",
      "[80]\ttrain-logloss:0.40836\teval-logloss:0.40948\n",
      "[81]\ttrain-logloss:0.40826\teval-logloss:0.409388\n",
      "[82]\ttrain-logloss:0.408171\teval-logloss:0.409316\n",
      "[83]\ttrain-logloss:0.408088\teval-logloss:0.409237\n",
      "[84]\ttrain-logloss:0.408015\teval-logloss:0.409183\n",
      "[85]\ttrain-logloss:0.407968\teval-logloss:0.409144\n",
      "[86]\ttrain-logloss:0.407741\teval-logloss:0.408933\n",
      "[87]\ttrain-logloss:0.407568\teval-logloss:0.40878\n",
      "[88]\ttrain-logloss:0.407477\teval-logloss:0.40871\n",
      "[89]\ttrain-logloss:0.407372\teval-logloss:0.408628\n",
      "[90]\ttrain-logloss:0.407279\teval-logloss:0.408546\n",
      "[91]\ttrain-logloss:0.407209\teval-logloss:0.408486\n",
      "[92]\ttrain-logloss:0.407163\teval-logloss:0.408465\n",
      "[93]\ttrain-logloss:0.407094\teval-logloss:0.408403\n",
      "[94]\ttrain-logloss:0.407048\teval-logloss:0.408361\n",
      "[95]\ttrain-logloss:0.406996\teval-logloss:0.408321\n",
      "[96]\ttrain-logloss:0.406884\teval-logloss:0.408226\n",
      "[97]\ttrain-logloss:0.406787\teval-logloss:0.408142\n",
      "[98]\ttrain-logloss:0.406659\teval-logloss:0.408031\n",
      "[99]\ttrain-logloss:0.40662\teval-logloss:0.408019\n",
      "[100]\ttrain-logloss:0.406428\teval-logloss:0.407854\n",
      "[101]\ttrain-logloss:0.406382\teval-logloss:0.407814\n",
      "[102]\ttrain-logloss:0.406269\teval-logloss:0.40772\n",
      "[103]\ttrain-logloss:0.406177\teval-logloss:0.407646\n",
      "[104]\ttrain-logloss:0.40608\teval-logloss:0.407557\n",
      "[105]\ttrain-logloss:0.406\teval-logloss:0.407486\n",
      "[106]\ttrain-logloss:0.405847\teval-logloss:0.40735\n",
      "[107]\ttrain-logloss:0.405756\teval-logloss:0.407277\n",
      "[108]\ttrain-logloss:0.405701\teval-logloss:0.407238\n",
      "[109]\ttrain-logloss:0.405516\teval-logloss:0.407075\n",
      "[110]\ttrain-logloss:0.405421\teval-logloss:0.407001\n",
      "[111]\ttrain-logloss:0.405336\teval-logloss:0.406951\n",
      "[112]\ttrain-logloss:0.405294\teval-logloss:0.406923\n",
      "[113]\ttrain-logloss:0.405252\teval-logloss:0.406892\n",
      "[114]\ttrain-logloss:0.405169\teval-logloss:0.406834\n",
      "[115]\ttrain-logloss:0.40509\teval-logloss:0.406772\n",
      "[116]\ttrain-logloss:0.405041\teval-logloss:0.40673\n",
      "[117]\ttrain-logloss:0.405024\teval-logloss:0.406729\n",
      "[118]\ttrain-logloss:0.40497\teval-logloss:0.406696\n",
      "[119]\ttrain-logloss:0.404879\teval-logloss:0.406599\n",
      "[120]\ttrain-logloss:0.404841\teval-logloss:0.406577\n",
      "[121]\ttrain-logloss:0.404804\teval-logloss:0.406548\n",
      "[122]\ttrain-logloss:0.404737\teval-logloss:0.406498\n",
      "[123]\ttrain-logloss:0.40466\teval-logloss:0.406442\n",
      "[124]\ttrain-logloss:0.404639\teval-logloss:0.406421\n",
      "[125]\ttrain-logloss:0.404598\teval-logloss:0.406401\n",
      "[126]\ttrain-logloss:0.404425\teval-logloss:0.406244\n",
      "[127]\ttrain-logloss:0.404373\teval-logloss:0.4062\n",
      "[128]\ttrain-logloss:0.404316\teval-logloss:0.406158\n",
      "[129]\ttrain-logloss:0.404299\teval-logloss:0.40615\n",
      "[130]\ttrain-logloss:0.404236\teval-logloss:0.406107\n",
      "[131]\ttrain-logloss:0.404157\teval-logloss:0.406048\n",
      "[132]\ttrain-logloss:0.404118\teval-logloss:0.406017\n",
      "[133]\ttrain-logloss:0.404073\teval-logloss:0.405994\n",
      "[134]\ttrain-logloss:0.404036\teval-logloss:0.405966\n",
      "[135]\ttrain-logloss:0.403975\teval-logloss:0.405906\n",
      "[136]\ttrain-logloss:0.403892\teval-logloss:0.405837\n",
      "[137]\ttrain-logloss:0.403839\teval-logloss:0.405811\n",
      "[138]\ttrain-logloss:0.403793\teval-logloss:0.405771\n",
      "[139]\ttrain-logloss:0.403762\teval-logloss:0.40575\n",
      "[140]\ttrain-logloss:0.40374\teval-logloss:0.405744\n",
      "[141]\ttrain-logloss:0.403703\teval-logloss:0.405712\n",
      "[142]\ttrain-logloss:0.403685\teval-logloss:0.405709\n",
      "[143]\ttrain-logloss:0.403646\teval-logloss:0.405683\n",
      "[144]\ttrain-logloss:0.403568\teval-logloss:0.405614\n",
      "[145]\ttrain-logloss:0.403442\teval-logloss:0.405514\n",
      "[146]\ttrain-logloss:0.403394\teval-logloss:0.405479\n",
      "[147]\ttrain-logloss:0.403353\teval-logloss:0.405451\n",
      "[148]\ttrain-logloss:0.403327\teval-logloss:0.405434\n",
      "[149]\ttrain-logloss:0.403263\teval-logloss:0.405403\n",
      "[150]\ttrain-logloss:0.403181\teval-logloss:0.405329\n",
      "[151]\ttrain-logloss:0.403068\teval-logloss:0.405225\n",
      "[152]\ttrain-logloss:0.40304\teval-logloss:0.405202\n",
      "[153]\ttrain-logloss:0.402967\teval-logloss:0.405153\n",
      "[154]\ttrain-logloss:0.402929\teval-logloss:0.405136\n",
      "[155]\ttrain-logloss:0.402902\teval-logloss:0.405121\n",
      "[156]\ttrain-logloss:0.40285\teval-logloss:0.405099\n",
      "[157]\ttrain-logloss:0.402826\teval-logloss:0.405083\n",
      "[158]\ttrain-logloss:0.402781\teval-logloss:0.405049\n",
      "[159]\ttrain-logloss:0.402758\teval-logloss:0.405046\n"
     ]
    },
    {
     "name": "stdout",
     "output_type": "stream",
     "text": [
      "[160]\ttrain-logloss:0.402742\teval-logloss:0.405036\n",
      "[161]\ttrain-logloss:0.402711\teval-logloss:0.405023\n",
      "[162]\ttrain-logloss:0.402641\teval-logloss:0.404971\n",
      "[163]\ttrain-logloss:0.402602\teval-logloss:0.404942\n",
      "[164]\ttrain-logloss:0.402565\teval-logloss:0.404937\n",
      "[165]\ttrain-logloss:0.402511\teval-logloss:0.404905\n",
      "[166]\ttrain-logloss:0.402484\teval-logloss:0.40488\n",
      "[167]\ttrain-logloss:0.402393\teval-logloss:0.4048\n",
      "[168]\ttrain-logloss:0.402342\teval-logloss:0.404778\n",
      "[169]\ttrain-logloss:0.402316\teval-logloss:0.404767\n",
      "[170]\ttrain-logloss:0.402283\teval-logloss:0.404745\n",
      "[171]\ttrain-logloss:0.402258\teval-logloss:0.404738\n",
      "[172]\ttrain-logloss:0.402228\teval-logloss:0.404723\n",
      "[173]\ttrain-logloss:0.402157\teval-logloss:0.404671\n",
      "[174]\ttrain-logloss:0.402111\teval-logloss:0.40465\n",
      "[175]\ttrain-logloss:0.402071\teval-logloss:0.404629\n",
      "[176]\ttrain-logloss:0.402048\teval-logloss:0.40462\n",
      "[177]\ttrain-logloss:0.402036\teval-logloss:0.404623\n",
      "[178]\ttrain-logloss:0.402001\teval-logloss:0.4046\n",
      "[179]\ttrain-logloss:0.401957\teval-logloss:0.404558\n",
      "[180]\ttrain-logloss:0.401941\teval-logloss:0.404553\n",
      "[181]\ttrain-logloss:0.401897\teval-logloss:0.404522\n",
      "[182]\ttrain-logloss:0.40186\teval-logloss:0.404513\n",
      "[183]\ttrain-logloss:0.40183\teval-logloss:0.404495\n",
      "[184]\ttrain-logloss:0.401812\teval-logloss:0.404483\n",
      "[185]\ttrain-logloss:0.401732\teval-logloss:0.404423\n",
      "[186]\ttrain-logloss:0.401718\teval-logloss:0.404422\n",
      "[187]\ttrain-logloss:0.401677\teval-logloss:0.404398\n",
      "[188]\ttrain-logloss:0.401626\teval-logloss:0.404351\n",
      "[189]\ttrain-logloss:0.401582\teval-logloss:0.404321\n",
      "[190]\ttrain-logloss:0.401544\teval-logloss:0.404282\n",
      "[191]\ttrain-logloss:0.401525\teval-logloss:0.404272\n",
      "[192]\ttrain-logloss:0.401483\teval-logloss:0.404247\n",
      "[193]\ttrain-logloss:0.401429\teval-logloss:0.404204\n",
      "[194]\ttrain-logloss:0.401404\teval-logloss:0.404188\n",
      "[195]\ttrain-logloss:0.401392\teval-logloss:0.404186\n",
      "[196]\ttrain-logloss:0.401366\teval-logloss:0.404178\n",
      "[197]\ttrain-logloss:0.401326\teval-logloss:0.404158\n",
      "[198]\ttrain-logloss:0.401286\teval-logloss:0.404137\n",
      "[199]\ttrain-logloss:0.40127\teval-logloss:0.404132\n",
      "[200]\ttrain-logloss:0.401213\teval-logloss:0.40409\n",
      "[201]\ttrain-logloss:0.401175\teval-logloss:0.404068\n",
      "[202]\ttrain-logloss:0.401139\teval-logloss:0.404046\n",
      "[203]\ttrain-logloss:0.401092\teval-logloss:0.404026\n",
      "[204]\ttrain-logloss:0.40105\teval-logloss:0.404001\n",
      "[205]\ttrain-logloss:0.401018\teval-logloss:0.403996\n",
      "[206]\ttrain-logloss:0.400998\teval-logloss:0.403982\n",
      "[207]\ttrain-logloss:0.400979\teval-logloss:0.403964\n",
      "[208]\ttrain-logloss:0.40094\teval-logloss:0.403935\n",
      "[209]\ttrain-logloss:0.40092\teval-logloss:0.403917\n",
      "[210]\ttrain-logloss:0.400859\teval-logloss:0.403879\n",
      "[211]\ttrain-logloss:0.400772\teval-logloss:0.403805\n",
      "[212]\ttrain-logloss:0.400761\teval-logloss:0.403803\n",
      "[213]\ttrain-logloss:0.400747\teval-logloss:0.403804\n",
      "[214]\ttrain-logloss:0.400708\teval-logloss:0.403782\n",
      "[215]\ttrain-logloss:0.400677\teval-logloss:0.403776\n",
      "[216]\ttrain-logloss:0.400642\teval-logloss:0.403749\n",
      "[217]\ttrain-logloss:0.400604\teval-logloss:0.403735\n",
      "[218]\ttrain-logloss:0.400577\teval-logloss:0.403712\n",
      "[219]\ttrain-logloss:0.400535\teval-logloss:0.403688\n",
      "[220]\ttrain-logloss:0.400514\teval-logloss:0.403679\n",
      "[221]\ttrain-logloss:0.400466\teval-logloss:0.403639\n",
      "[222]\ttrain-logloss:0.400444\teval-logloss:0.403633\n",
      "[223]\ttrain-logloss:0.40041\teval-logloss:0.403611\n",
      "[224]\ttrain-logloss:0.400372\teval-logloss:0.403584\n",
      "[225]\ttrain-logloss:0.40034\teval-logloss:0.403557\n",
      "[226]\ttrain-logloss:0.400313\teval-logloss:0.403548\n",
      "[227]\ttrain-logloss:0.400302\teval-logloss:0.403541\n",
      "[228]\ttrain-logloss:0.400281\teval-logloss:0.403537\n",
      "[229]\ttrain-logloss:0.400259\teval-logloss:0.403531\n",
      "[230]\ttrain-logloss:0.400227\teval-logloss:0.403515\n",
      "[231]\ttrain-logloss:0.400205\teval-logloss:0.403509\n",
      "[232]\ttrain-logloss:0.400161\teval-logloss:0.403473\n",
      "[233]\ttrain-logloss:0.400151\teval-logloss:0.403467\n",
      "[234]\ttrain-logloss:0.400109\teval-logloss:0.403427\n",
      "[235]\ttrain-logloss:0.400074\teval-logloss:0.403403\n",
      "[236]\ttrain-logloss:0.40006\teval-logloss:0.403394\n",
      "[237]\ttrain-logloss:0.40004\teval-logloss:0.403386\n",
      "[238]\ttrain-logloss:0.399998\teval-logloss:0.403357\n",
      "[239]\ttrain-logloss:0.399979\teval-logloss:0.403346\n",
      "[240]\ttrain-logloss:0.399944\teval-logloss:0.403316\n",
      "[241]\ttrain-logloss:0.399919\teval-logloss:0.403303\n",
      "[242]\ttrain-logloss:0.3999\teval-logloss:0.403297\n",
      "[243]\ttrain-logloss:0.399874\teval-logloss:0.403288\n",
      "[244]\ttrain-logloss:0.399816\teval-logloss:0.403241\n",
      "[245]\ttrain-logloss:0.399791\teval-logloss:0.403234\n",
      "[246]\ttrain-logloss:0.399763\teval-logloss:0.403219\n",
      "[247]\ttrain-logloss:0.399729\teval-logloss:0.403194\n",
      "[248]\ttrain-logloss:0.399712\teval-logloss:0.403179\n",
      "[249]\ttrain-logloss:0.399693\teval-logloss:0.403175\n",
      "[250]\ttrain-logloss:0.399669\teval-logloss:0.403172\n",
      "[251]\ttrain-logloss:0.399647\teval-logloss:0.403167\n",
      "[252]\ttrain-logloss:0.399577\teval-logloss:0.403115\n",
      "[253]\ttrain-logloss:0.399545\teval-logloss:0.403099\n",
      "[254]\ttrain-logloss:0.39951\teval-logloss:0.403079\n",
      "[255]\ttrain-logloss:0.399502\teval-logloss:0.403077\n",
      "[256]\ttrain-logloss:0.399492\teval-logloss:0.403072\n",
      "[257]\ttrain-logloss:0.399466\teval-logloss:0.403051\n",
      "[258]\ttrain-logloss:0.399398\teval-logloss:0.402999\n",
      "[259]\ttrain-logloss:0.399394\teval-logloss:0.403\n"
     ]
    }
   ],
   "source": [
    "features = ['C1', 'banner_pos', 'device_type', 'device_conn_type', 'C14',\n",
    "       'C15', 'C16', 'C17', 'C18', 'C19', 'C20', 'C21', 'hour_of_day',\n",
    "       'site_id_int', 'site_domain_int', 'site_category_int', 'app_id_int',\n",
    "       'app_domain_int', 'app_category_int', 'device_id_int', 'device_ip_int',\n",
    "       'device_model_int', 'day_of_week_int']\n",
    "run_default_test(train, y_target, features, 'click')"
   ]
  },
  {
   "cell_type": "code",
   "execution_count": null,
   "metadata": {},
   "outputs": [],
   "source": []
  }
 ],
 "metadata": {
  "kernelspec": {
   "display_name": "Python 3",
   "language": "python",
   "name": "python3"
  },
  "language_info": {
   "codemirror_mode": {
    "name": "ipython",
    "version": 3
   },
   "file_extension": ".py",
   "mimetype": "text/x-python",
   "name": "python",
   "nbconvert_exporter": "python",
   "pygments_lexer": "ipython3",
   "version": "3.5.6"
  }
 },
 "nbformat": 4,
 "nbformat_minor": 2
}
